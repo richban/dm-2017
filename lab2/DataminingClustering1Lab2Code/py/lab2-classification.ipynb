{
 "cells": [
  {
   "cell_type": "code",
   "execution_count": 59,
   "metadata": {
    "collapsed": false
   },
   "outputs": [],
   "source": [
    "import pandas as pd\n",
    "from bokeh.charts import Scatter, output_file, show\n",
    "from bokeh.io import output_notebook\n",
    "import numpy as np\n",
    "from sklearn.cross_validation import train_test_split\n",
    "from sklearn.neighbors import KNeighborsClassifier\n",
    "from sklearn.metrics import accuracy_score"
   ]
  },
  {
   "cell_type": "code",
   "execution_count": 60,
   "metadata": {
    "collapsed": true
   },
   "outputs": [],
   "source": [
    "# column names\n",
    "names = [\"target\", \"cap-shape\", \"cap-surface\", \"cap-color\", \"bruises\",\n",
    "        \"odor\", \"gill-attachment\", \"gill-spacing\", \"gill-size\",\n",
    "        \"gill-color\", \"stalk-shape\", \"stalk-root\", \"stalk-surface-above-ring\",\n",
    "        \"stalk-surface-below-ring\", \"stalk-color-above-ring\", \"stalk-color-below-ring\",\n",
    "        \"veil-type\", \"veil-color\", \"ring-number\", \"ring-type\", \"spore-print-color\",\n",
    "        \"population\", \"habitat\"]"
   ]
  },
  {
   "cell_type": "code",
   "execution_count": 61,
   "metadata": {
    "collapsed": true
   },
   "outputs": [],
   "source": [
    "# training data\n",
    "df = pd.read_csv('../Resources/agaricus-lepiotadata.txt', header=None, names=names)"
   ]
  },
  {
   "cell_type": "code",
   "execution_count": 62,
   "metadata": {
    "collapsed": false
   },
   "outputs": [],
   "source": [
    "# select all columns of type object\n",
    "cat_columns = df.select_dtypes(['object']).columns"
   ]
  },
  {
   "cell_type": "code",
   "execution_count": 63,
   "metadata": {
    "collapsed": true
   },
   "outputs": [],
   "source": [
    "# convert all object columns to type category\n",
    "df[cat_columns] = df[cat_columns].apply(lambda x: x.astype('category'))"
   ]
  },
  {
   "cell_type": "code",
   "execution_count": 64,
   "metadata": {
    "collapsed": false
   },
   "outputs": [],
   "source": [
    "# convert categorical data to numeric\n",
    "df[cat_columns] = df[cat_columns].apply(lambda x: x.cat.codes)"
   ]
  },
  {
   "cell_type": "code",
   "execution_count": 65,
   "metadata": {
    "collapsed": false
   },
   "outputs": [],
   "source": [
    "# create a scatter chart\n",
    "p = Scatter(df, x='cap-shape', y='cap-color', color='target')"
   ]
  },
  {
   "cell_type": "code",
   "execution_count": 66,
   "metadata": {
    "collapsed": false
   },
   "outputs": [
    {
     "data": {
      "text/html": [
       "\n",
       "    <div class=\"bk-root\">\n",
       "        <a href=\"http://bokeh.pydata.org\" target=\"_blank\" class=\"bk-logo bk-logo-small bk-logo-notebook\"></a>\n",
       "        <span id=\"e7e3ba91-8774-47ad-81b7-6db538da7fe0\">Loading BokehJS ...</span>\n",
       "    </div>"
      ]
     },
     "metadata": {},
     "output_type": "display_data"
    },
    {
     "data": {
      "application/javascript": [
       "\n",
       "(function(global) {\n",
       "  function now() {\n",
       "    return new Date();\n",
       "  }\n",
       "\n",
       "  var force = true;\n",
       "\n",
       "  if (typeof (window._bokeh_onload_callbacks) === \"undefined\" || force === true) {\n",
       "    window._bokeh_onload_callbacks = [];\n",
       "    window._bokeh_is_loading = undefined;\n",
       "  }\n",
       "\n",
       "\n",
       "  \n",
       "  if (typeof (window._bokeh_timeout) === \"undefined\" || force === true) {\n",
       "    window._bokeh_timeout = Date.now() + 5000;\n",
       "    window._bokeh_failed_load = false;\n",
       "  }\n",
       "\n",
       "  var NB_LOAD_WARNING = {'data': {'text/html':\n",
       "     \"<div style='background-color: #fdd'>\\n\"+\n",
       "     \"<p>\\n\"+\n",
       "     \"BokehJS does not appear to have successfully loaded. If loading BokehJS from CDN, this \\n\"+\n",
       "     \"may be due to a slow or bad network connection. Possible fixes:\\n\"+\n",
       "     \"</p>\\n\"+\n",
       "     \"<ul>\\n\"+\n",
       "     \"<li>re-rerun `output_notebook()` to attempt to load from CDN again, or</li>\\n\"+\n",
       "     \"<li>use INLINE resources instead, as so:</li>\\n\"+\n",
       "     \"</ul>\\n\"+\n",
       "     \"<code>\\n\"+\n",
       "     \"from bokeh.resources import INLINE\\n\"+\n",
       "     \"output_notebook(resources=INLINE)\\n\"+\n",
       "     \"</code>\\n\"+\n",
       "     \"</div>\"}};\n",
       "\n",
       "  function display_loaded() {\n",
       "    if (window.Bokeh !== undefined) {\n",
       "      var el = document.getElementById(\"e7e3ba91-8774-47ad-81b7-6db538da7fe0\");\n",
       "      el.textContent = \"BokehJS \" + Bokeh.version + \" successfully loaded.\";\n",
       "    } else if (Date.now() < window._bokeh_timeout) {\n",
       "      setTimeout(display_loaded, 100)\n",
       "    }\n",
       "  }\n",
       "\n",
       "  function run_callbacks() {\n",
       "    window._bokeh_onload_callbacks.forEach(function(callback) { callback() });\n",
       "    delete window._bokeh_onload_callbacks\n",
       "    console.info(\"Bokeh: all callbacks have finished\");\n",
       "  }\n",
       "\n",
       "  function load_libs(js_urls, callback) {\n",
       "    window._bokeh_onload_callbacks.push(callback);\n",
       "    if (window._bokeh_is_loading > 0) {\n",
       "      console.log(\"Bokeh: BokehJS is being loaded, scheduling callback at\", now());\n",
       "      return null;\n",
       "    }\n",
       "    if (js_urls == null || js_urls.length === 0) {\n",
       "      run_callbacks();\n",
       "      return null;\n",
       "    }\n",
       "    console.log(\"Bokeh: BokehJS not loaded, scheduling load and callback at\", now());\n",
       "    window._bokeh_is_loading = js_urls.length;\n",
       "    for (var i = 0; i < js_urls.length; i++) {\n",
       "      var url = js_urls[i];\n",
       "      var s = document.createElement('script');\n",
       "      s.src = url;\n",
       "      s.async = false;\n",
       "      s.onreadystatechange = s.onload = function() {\n",
       "        window._bokeh_is_loading--;\n",
       "        if (window._bokeh_is_loading === 0) {\n",
       "          console.log(\"Bokeh: all BokehJS libraries loaded\");\n",
       "          run_callbacks()\n",
       "        }\n",
       "      };\n",
       "      s.onerror = function() {\n",
       "        console.warn(\"failed to load library \" + url);\n",
       "      };\n",
       "      console.log(\"Bokeh: injecting script tag for BokehJS library: \", url);\n",
       "      document.getElementsByTagName(\"head\")[0].appendChild(s);\n",
       "    }\n",
       "  };var element = document.getElementById(\"e7e3ba91-8774-47ad-81b7-6db538da7fe0\");\n",
       "  if (element == null) {\n",
       "    console.log(\"Bokeh: ERROR: autoload.js configured with elementid 'e7e3ba91-8774-47ad-81b7-6db538da7fe0' but no matching script tag was found. \")\n",
       "    return false;\n",
       "  }\n",
       "\n",
       "  var js_urls = [\"https://cdn.pydata.org/bokeh/release/bokeh-0.12.5.min.js\", \"https://cdn.pydata.org/bokeh/release/bokeh-widgets-0.12.5.min.js\"];\n",
       "\n",
       "  var inline_js = [\n",
       "    function(Bokeh) {\n",
       "      Bokeh.set_log_level(\"info\");\n",
       "    },\n",
       "    \n",
       "    function(Bokeh) {\n",
       "      \n",
       "    },\n",
       "    \n",
       "    function(Bokeh) {\n",
       "      \n",
       "      document.getElementById(\"e7e3ba91-8774-47ad-81b7-6db538da7fe0\").textContent = \"BokehJS is loading...\";\n",
       "    },\n",
       "    function(Bokeh) {\n",
       "      console.log(\"Bokeh: injecting CSS: https://cdn.pydata.org/bokeh/release/bokeh-0.12.5.min.css\");\n",
       "      Bokeh.embed.inject_css(\"https://cdn.pydata.org/bokeh/release/bokeh-0.12.5.min.css\");\n",
       "      console.log(\"Bokeh: injecting CSS: https://cdn.pydata.org/bokeh/release/bokeh-widgets-0.12.5.min.css\");\n",
       "      Bokeh.embed.inject_css(\"https://cdn.pydata.org/bokeh/release/bokeh-widgets-0.12.5.min.css\");\n",
       "    }\n",
       "  ];\n",
       "\n",
       "  function run_inline_js() {\n",
       "    \n",
       "    if ((window.Bokeh !== undefined) || (force === true)) {\n",
       "      for (var i = 0; i < inline_js.length; i++) {\n",
       "        inline_js[i](window.Bokeh);\n",
       "      }if (force === true) {\n",
       "        display_loaded();\n",
       "      }} else if (Date.now() < window._bokeh_timeout) {\n",
       "      setTimeout(run_inline_js, 100);\n",
       "    } else if (!window._bokeh_failed_load) {\n",
       "      console.log(\"Bokeh: BokehJS failed to load within specified timeout.\");\n",
       "      window._bokeh_failed_load = true;\n",
       "    } else if (force !== true) {\n",
       "      var cell = $(document.getElementById(\"e7e3ba91-8774-47ad-81b7-6db538da7fe0\")).parents('.cell').data().cell;\n",
       "      cell.output_area.append_execute_result(NB_LOAD_WARNING)\n",
       "    }\n",
       "\n",
       "  }\n",
       "\n",
       "  if (window._bokeh_is_loading === 0) {\n",
       "    console.log(\"Bokeh: BokehJS loaded, going straight to plotting\");\n",
       "    run_inline_js();\n",
       "  } else {\n",
       "    load_libs(js_urls, function() {\n",
       "      console.log(\"Bokeh: BokehJS plotting callback run at\", now());\n",
       "      run_inline_js();\n",
       "    });\n",
       "  }\n",
       "}(this));"
      ]
     },
     "metadata": {},
     "output_type": "display_data"
    }
   ],
   "source": [
    "output_notebook()"
   ]
  },
  {
   "cell_type": "code",
   "execution_count": 67,
   "metadata": {
    "collapsed": false
   },
   "outputs": [
    {
     "data": {
      "text/html": [
       "\n",
       "\n",
       "    <div class=\"bk-root\">\n",
       "        <div class=\"bk-plotdiv\" id=\"11f7cffa-9f10-4b12-87bd-c8b1a59aa74a\"></div>\n",
       "    </div>\n",
       "<script type=\"text/javascript\">\n",
       "  \n",
       "  (function(global) {\n",
       "    function now() {\n",
       "      return new Date();\n",
       "    }\n",
       "  \n",
       "    var force = false;\n",
       "  \n",
       "    if (typeof (window._bokeh_onload_callbacks) === \"undefined\" || force === true) {\n",
       "      window._bokeh_onload_callbacks = [];\n",
       "      window._bokeh_is_loading = undefined;\n",
       "    }\n",
       "  \n",
       "  \n",
       "    \n",
       "    if (typeof (window._bokeh_timeout) === \"undefined\" || force === true) {\n",
       "      window._bokeh_timeout = Date.now() + 0;\n",
       "      window._bokeh_failed_load = false;\n",
       "    }\n",
       "  \n",
       "    var NB_LOAD_WARNING = {'data': {'text/html':\n",
       "       \"<div style='background-color: #fdd'>\\n\"+\n",
       "       \"<p>\\n\"+\n",
       "       \"BokehJS does not appear to have successfully loaded. If loading BokehJS from CDN, this \\n\"+\n",
       "       \"may be due to a slow or bad network connection. Possible fixes:\\n\"+\n",
       "       \"</p>\\n\"+\n",
       "       \"<ul>\\n\"+\n",
       "       \"<li>re-rerun `output_notebook()` to attempt to load from CDN again, or</li>\\n\"+\n",
       "       \"<li>use INLINE resources instead, as so:</li>\\n\"+\n",
       "       \"</ul>\\n\"+\n",
       "       \"<code>\\n\"+\n",
       "       \"from bokeh.resources import INLINE\\n\"+\n",
       "       \"output_notebook(resources=INLINE)\\n\"+\n",
       "       \"</code>\\n\"+\n",
       "       \"</div>\"}};\n",
       "  \n",
       "    function display_loaded() {\n",
       "      if (window.Bokeh !== undefined) {\n",
       "        var el = document.getElementById(\"11f7cffa-9f10-4b12-87bd-c8b1a59aa74a\");\n",
       "        el.textContent = \"BokehJS \" + Bokeh.version + \" successfully loaded.\";\n",
       "      } else if (Date.now() < window._bokeh_timeout) {\n",
       "        setTimeout(display_loaded, 100)\n",
       "      }\n",
       "    }\n",
       "  \n",
       "    function run_callbacks() {\n",
       "      window._bokeh_onload_callbacks.forEach(function(callback) { callback() });\n",
       "      delete window._bokeh_onload_callbacks\n",
       "      console.info(\"Bokeh: all callbacks have finished\");\n",
       "    }\n",
       "  \n",
       "    function load_libs(js_urls, callback) {\n",
       "      window._bokeh_onload_callbacks.push(callback);\n",
       "      if (window._bokeh_is_loading > 0) {\n",
       "        console.log(\"Bokeh: BokehJS is being loaded, scheduling callback at\", now());\n",
       "        return null;\n",
       "      }\n",
       "      if (js_urls == null || js_urls.length === 0) {\n",
       "        run_callbacks();\n",
       "        return null;\n",
       "      }\n",
       "      console.log(\"Bokeh: BokehJS not loaded, scheduling load and callback at\", now());\n",
       "      window._bokeh_is_loading = js_urls.length;\n",
       "      for (var i = 0; i < js_urls.length; i++) {\n",
       "        var url = js_urls[i];\n",
       "        var s = document.createElement('script');\n",
       "        s.src = url;\n",
       "        s.async = false;\n",
       "        s.onreadystatechange = s.onload = function() {\n",
       "          window._bokeh_is_loading--;\n",
       "          if (window._bokeh_is_loading === 0) {\n",
       "            console.log(\"Bokeh: all BokehJS libraries loaded\");\n",
       "            run_callbacks()\n",
       "          }\n",
       "        };\n",
       "        s.onerror = function() {\n",
       "          console.warn(\"failed to load library \" + url);\n",
       "        };\n",
       "        console.log(\"Bokeh: injecting script tag for BokehJS library: \", url);\n",
       "        document.getElementsByTagName(\"head\")[0].appendChild(s);\n",
       "      }\n",
       "    };var element = document.getElementById(\"11f7cffa-9f10-4b12-87bd-c8b1a59aa74a\");\n",
       "    if (element == null) {\n",
       "      console.log(\"Bokeh: ERROR: autoload.js configured with elementid '11f7cffa-9f10-4b12-87bd-c8b1a59aa74a' but no matching script tag was found. \")\n",
       "      return false;\n",
       "    }\n",
       "  \n",
       "    var js_urls = [];\n",
       "  \n",
       "    var inline_js = [\n",
       "      function(Bokeh) {\n",
       "        (function() {\n",
       "          var fn = function() {\n",
       "            var docs_json = {\"04ca3ff9-bda6-4ade-802f-92a153d90792\":{\"roots\":{\"references\":[{\"attributes\":{},\"id\":\"f527ea94-4f86-4fb8-818d-30c109eb2969\",\"type\":\"ToolEvents\"},{\"attributes\":{\"label\":{\"value\":\"1\"},\"renderers\":[{\"id\":\"7136d1d0-666f-4428-8f18-70ab03e2cd01\",\"type\":\"GlyphRenderer\"}]},\"id\":\"7cebba8f-27b2-43d5-a392-7aedf8f4a1cc\",\"type\":\"LegendItem\"},{\"attributes\":{\"items\":[{\"id\":\"481f4108-3fdb-4f89-b19f-dfd3d2735d9a\",\"type\":\"LegendItem\"},{\"id\":\"7cebba8f-27b2-43d5-a392-7aedf8f4a1cc\",\"type\":\"LegendItem\"}],\"location\":\"top_left\",\"plot\":{\"id\":\"9872ffe0-a624-4e8c-a649-0d961ede8cee\",\"subtype\":\"Chart\",\"type\":\"Plot\"}},\"id\":\"788bddec-594b-4675-a663-9639f8985182\",\"type\":\"Legend\"},{\"attributes\":{\"dimension\":1,\"plot\":{\"id\":\"9872ffe0-a624-4e8c-a649-0d961ede8cee\",\"subtype\":\"Chart\",\"type\":\"Plot\"},\"ticker\":{\"id\":\"bc7827a8-fe05-4b1d-8e3d-267d0d513926\",\"type\":\"BasicTicker\"}},\"id\":\"e208f9f1-ab39-4e5d-9dd2-638d1f3379e9\",\"type\":\"Grid\"},{\"attributes\":{\"overlay\":{\"id\":\"cf8209e5-08b6-4098-b8ff-b5d6fcc549bc\",\"type\":\"BoxAnnotation\"},\"plot\":{\"id\":\"9872ffe0-a624-4e8c-a649-0d961ede8cee\",\"subtype\":\"Chart\",\"type\":\"Plot\"}},\"id\":\"5242b216-7f39-405c-ad07-51ad923a23b4\",\"type\":\"BoxZoomTool\"},{\"attributes\":{\"axis_label\":\"cap-shape\",\"formatter\":{\"id\":\"7d78bbcd-c6cb-4bfd-9007-41f6d10a17fc\",\"type\":\"BasicTickFormatter\"},\"plot\":{\"id\":\"9872ffe0-a624-4e8c-a649-0d961ede8cee\",\"subtype\":\"Chart\",\"type\":\"Plot\"},\"ticker\":{\"id\":\"ea9fd824-34ab-4585-8915-efe809612041\",\"type\":\"BasicTicker\"}},\"id\":\"2c934e05-abd2-40e5-94a0-22a8ff80cef9\",\"type\":\"LinearAxis\"},{\"attributes\":{\"active_drag\":\"auto\",\"active_scroll\":\"auto\",\"active_tap\":\"auto\",\"tools\":[{\"id\":\"b553394f-20df-4f1b-8181-877d66db8c9e\",\"type\":\"PanTool\"},{\"id\":\"ee10c470-80f9-4005-8a3d-634686a5731b\",\"type\":\"WheelZoomTool\"},{\"id\":\"5242b216-7f39-405c-ad07-51ad923a23b4\",\"type\":\"BoxZoomTool\"},{\"id\":\"262ac320-3910-4f1c-9602-7d4c5da237fc\",\"type\":\"SaveTool\"},{\"id\":\"1c7cd92d-9610-4183-aa0c-38f3c0bce91b\",\"type\":\"ResetTool\"},{\"id\":\"e3f0832d-c958-4bb3-aaf1-4989a8e191e5\",\"type\":\"HelpTool\"}]},\"id\":\"b997634f-08ee-406d-a658-a97a19cf8932\",\"type\":\"Toolbar\"},{\"attributes\":{\"plot\":{\"id\":\"9872ffe0-a624-4e8c-a649-0d961ede8cee\",\"subtype\":\"Chart\",\"type\":\"Plot\"}},\"id\":\"262ac320-3910-4f1c-9602-7d4c5da237fc\",\"type\":\"SaveTool\"},{\"attributes\":{\"data_source\":{\"id\":\"ad1fd99d-573e-4df2-9654-a863442e29fb\",\"type\":\"ColumnDataSource\"},\"glyph\":{\"id\":\"f33904dc-4cf1-494b-b4ab-7216245dc24c\",\"type\":\"Circle\"},\"hover_glyph\":null,\"muted_glyph\":null},\"id\":\"7136d1d0-666f-4428-8f18-70ab03e2cd01\",\"type\":\"GlyphRenderer\"},{\"attributes\":{\"label\":{\"value\":\"0\"},\"renderers\":[{\"id\":\"34cd2875-5118-4513-a565-e2cb14b0f65d\",\"type\":\"GlyphRenderer\"}]},\"id\":\"481f4108-3fdb-4f89-b19f-dfd3d2735d9a\",\"type\":\"LegendItem\"},{\"attributes\":{\"axis_label\":\"cap-color\",\"formatter\":{\"id\":\"1a568a84-2349-4fac-b37e-5ed81ee23fa3\",\"type\":\"BasicTickFormatter\"},\"plot\":{\"id\":\"9872ffe0-a624-4e8c-a649-0d961ede8cee\",\"subtype\":\"Chart\",\"type\":\"Plot\"},\"ticker\":{\"id\":\"bc7827a8-fe05-4b1d-8e3d-267d0d513926\",\"type\":\"BasicTicker\"}},\"id\":\"fc7913f2-4fb1-4276-81eb-d1b47e9946e7\",\"type\":\"LinearAxis\"},{\"attributes\":{\"plot\":{\"id\":\"9872ffe0-a624-4e8c-a649-0d961ede8cee\",\"subtype\":\"Chart\",\"type\":\"Plot\"}},\"id\":\"1c7cd92d-9610-4183-aa0c-38f3c0bce91b\",\"type\":\"ResetTool\"},{\"attributes\":{},\"id\":\"ea9fd824-34ab-4585-8915-efe809612041\",\"type\":\"BasicTicker\"},{\"attributes\":{\"plot\":{\"id\":\"9872ffe0-a624-4e8c-a649-0d961ede8cee\",\"subtype\":\"Chart\",\"type\":\"Plot\"}},\"id\":\"e3f0832d-c958-4bb3-aaf1-4989a8e191e5\",\"type\":\"HelpTool\"},{\"attributes\":{\"callback\":null,\"column_names\":[\"y_values\",\"x_values\"],\"data\":{\"chart_index\":[{\"target\":0},{\"target\":0},{\"target\":0},{\"target\":0},{\"target\":0},{\"target\":0},{\"target\":0},{\"target\":0},{\"target\":0},{\"target\":0},{\"target\":0},{\"target\":0},{\"target\":0},{\"target\":0},{\"target\":0},{\"target\":0},{\"target\":0},{\"target\":0},{\"target\":0},{\"target\":0},{\"target\":0},{\"target\":0},{\"target\":0},{\"target\":0},{\"target\":0},{\"target\":0},{\"target\":0},{\"target\":0},{\"target\":0},{\"target\":0},{\"target\":0},{\"target\":0},{\"target\":0},{\"target\":0},{\"target\":0},{\"target\":0},{\"target\":0},{\"target\":0},{\"target\":0},{\"target\":0},{\"target\":0},{\"target\":0},{\"target\":0},{\"target\":0},{\"target\":0},{\"target\":0},{\"target\":0},{\"target\":0},{\"target\":0},{\"target\":0},{\"target\":0},{\"target\":0},{\"target\":0},{\"target\":0},{\"target\":0},{\"target\":0},{\"target\":0},{\"target\":0},{\"target\":0},{\"target\":0},{\"target\":0},{\"target\":0},{\"target\":0},{\"target\":0},{\"target\":0},{\"target\":0},{\"target\":0},{\"target\":0},{\"target\":0},{\"target\":0},{\"target\":0},{\"target\":0},{\"target\":0},{\"target\":0},{\"target\":0},{\"target\":0},{\"target\":0},{\"target\":0},{\"target\":0},{\"target\":0},{\"target\":0},{\"target\":0},{\"target\":0},{\"target\":0},{\"target\":0},{\"target\":0},{\"target\":0},{\"target\":0},{\"target\":0},{\"target\":0},{\"target\":0},{\"target\":0},{\"target\":0},{\"target\":0},{\"target\":0},{\"target\":0},{\"target\":0},{\"target\":0},{\"target\":0},{\"target\":0},{\"target\":0},{\"target\":0},{\"target\":0},{\"target\":0},{\"target\":0},{\"target\":0},{\"target\":0},{\"target\":0},{\"target\":0},{\"target\":0},{\"target\":0},{\"target\":0},{\"target\":0},{\"target\":0},{\"target\":0},{\"target\":0},{\"target\":0},{\"target\":0},{\"target\":0},{\"target\":0},{\"target\":0},{\"target\":0},{\"target\":0},{\"target\":0},{\"target\":0},{\"target\":0},{\"target\":0},{\"target\":0},{\"target\":0},{\"target\":0},{\"target\":0},{\"target\":0},{\"target\":0},{\"target\":0},{\"target\":0},{\"target\":0},{\"target\":0},{\"target\":0},{\"target\":0},{\"target\":0},{\"target\":0},{\"target\":0},{\"target\":0},{\"target\":0},{\"target\":0},{\"target\":0},{\"target\":0},{\"target\":0},{\"target\":0},{\"target\":0},{\"target\":0},{\"target\":0},{\"target\":0},{\"target\":0},{\"target\":0},{\"target\":0},{\"target\":0},{\"target\":0},{\"target\":0},{\"target\":0},{\"target\":0},{\"target\":0},{\"target\":0},{\"target\":0},{\"target\":0},{\"target\":0},{\"target\":0},{\"target\":0},{\"target\":0},{\"target\":0},{\"target\":0},{\"target\":0},{\"target\":0},{\"target\":0},{\"target\":0},{\"target\":0},{\"target\":0},{\"target\":0},{\"target\":0},{\"target\":0},{\"target\":0},{\"target\":0},{\"target\":0},{\"target\":0},{\"target\":0},{\"target\":0},{\"target\":0},{\"target\":0},{\"target\":0},{\"target\":0},{\"target\":0},{\"target\":0},{\"target\":0},{\"target\":0},{\"target\":0},{\"target\":0},{\"target\":0},{\"target\":0},{\"target\":0},{\"target\":0},{\"target\":0},{\"target\":0},{\"target\":0},{\"target\":0},{\"target\":0},{\"target\":0},{\"target\":0},{\"target\":0},{\"target\":0},{\"target\":0},{\"target\":0},{\"target\":0},{\"target\":0},{\"target\":0},{\"target\":0},{\"target\":0},{\"target\":0},{\"target\":0},{\"target\":0},{\"target\":0},{\"target\":0},{\"target\":0},{\"target\":0},{\"target\":0},{\"target\":0},{\"target\":0},{\"target\":0},{\"target\":0},{\"target\":0},{\"target\":0},{\"target\":0},{\"target\":0},{\"target\":0},{\"target\":0},{\"target\":0},{\"target\":0},{\"target\":0},{\"target\":0},{\"target\":0},{\"target\":0},{\"target\":0},{\"target\":0},{\"target\":0},{\"target\":0},{\"target\":0},{\"target\":0},{\"target\":0},{\"target\":0},{\"target\":0},{\"target\":0},{\"target\":0},{\"target\":0},{\"target\":0},{\"target\":0},{\"target\":0},{\"target\":0},{\"target\":0},{\"target\":0},{\"target\":0},{\"target\":0},{\"target\":0},{\"target\":0},{\"target\":0},{\"target\":0},{\"target\":0},{\"target\":0},{\"target\":0},{\"target\":0},{\"target\":0},{\"target\":0},{\"target\":0},{\"target\":0},{\"target\":0},{\"target\":0},{\"target\":0},{\"target\":0},{\"target\":0},{\"target\":0},{\"target\":0},{\"target\":0},{\"target\":0},{\"target\":0},{\"target\":0},{\"target\":0},{\"target\":0},{\"target\":0},{\"target\":0},{\"target\":0},{\"target\":0},{\"target\":0},{\"target\":0},{\"target\":0},{\"target\":0},{\"target\":0},{\"target\":0},{\"target\":0},{\"target\":0},{\"target\":0},{\"target\":0},{\"target\":0},{\"target\":0},{\"target\":0},{\"target\":0},{\"target\":0},{\"target\":0},{\"target\":0},{\"target\":0},{\"target\":0},{\"target\":0},{\"target\":0},{\"target\":0},{\"target\":0},{\"target\":0},{\"target\":0},{\"target\":0},{\"target\":0},{\"target\":0},{\"target\":0},{\"target\":0},{\"target\":0},{\"target\":0},{\"target\":0},{\"target\":0},{\"target\":0},{\"target\":0},{\"target\":0},{\"target\":0},{\"target\":0},{\"target\":0},{\"target\":0},{\"target\":0},{\"target\":0},{\"target\":0},{\"target\":0},{\"target\":0},{\"target\":0},{\"target\":0},{\"target\":0},{\"target\":0},{\"target\":0},{\"target\":0},{\"target\":0},{\"target\":0},{\"target\":0},{\"target\":0},{\"target\":0},{\"target\":0},{\"target\":0},{\"target\":0},{\"target\":0},{\"target\":0},{\"target\":0},{\"target\":0},{\"target\":0},{\"target\":0},{\"target\":0},{\"target\":0},{\"target\":0},{\"target\":0},{\"target\":0},{\"target\":0},{\"target\":0},{\"target\":0},{\"target\":0},{\"target\":0},{\"target\":0},{\"target\":0},{\"target\":0},{\"target\":0},{\"target\":0},{\"target\":0},{\"target\":0},{\"target\":0},{\"target\":0},{\"target\":0},{\"target\":0},{\"target\":0},{\"target\":0},{\"target\":0},{\"target\":0},{\"target\":0},{\"target\":0},{\"target\":0},{\"target\":0},{\"target\":0},{\"target\":0},{\"target\":0},{\"target\":0},{\"target\":0},{\"target\":0},{\"target\":0},{\"target\":0},{\"target\":0},{\"target\":0},{\"target\":0},{\"target\":0},{\"target\":0},{\"target\":0},{\"target\":0},{\"target\":0},{\"target\":0},{\"target\":0},{\"target\":0},{\"target\":0},{\"target\":0},{\"target\":0},{\"target\":0},{\"target\":0},{\"target\":0},{\"target\":0},{\"target\":0},{\"target\":0},{\"target\":0},{\"target\":0},{\"target\":0},{\"target\":0},{\"target\":0},{\"target\":0},{\"target\":0},{\"target\":0},{\"target\":0},{\"target\":0},{\"target\":0},{\"target\":0},{\"target\":0},{\"target\":0},{\"target\":0},{\"target\":0},{\"target\":0},{\"target\":0},{\"target\":0},{\"target\":0},{\"target\":0},{\"target\":0},{\"target\":0},{\"target\":0},{\"target\":0},{\"target\":0},{\"target\":0},{\"target\":0},{\"target\":0},{\"target\":0},{\"target\":0},{\"target\":0},{\"target\":0},{\"target\":0},{\"target\":0},{\"target\":0},{\"target\":0},{\"target\":0},{\"target\":0},{\"target\":0},{\"target\":0},{\"target\":0},{\"target\":0},{\"target\":0},{\"target\":0},{\"target\":0},{\"target\":0},{\"target\":0},{\"target\":0},{\"target\":0},{\"target\":0},{\"target\":0},{\"target\":0},{\"target\":0},{\"target\":0},{\"target\":0},{\"target\":0},{\"target\":0},{\"target\":0},{\"target\":0},{\"target\":0},{\"target\":0},{\"target\":0},{\"target\":0},{\"target\":0},{\"target\":0},{\"target\":0},{\"target\":0},{\"target\":0},{\"target\":0},{\"target\":0},{\"target\":0},{\"target\":0},{\"target\":0},{\"target\":0},{\"target\":0},{\"target\":0},{\"target\":0},{\"target\":0},{\"target\":0},{\"target\":0},{\"target\":0},{\"target\":0},{\"target\":0},{\"target\":0},{\"target\":0},{\"target\":0},{\"target\":0},{\"target\":0},{\"target\":0},{\"target\":0},{\"target\":0},{\"target\":0},{\"target\":0},{\"target\":0},{\"target\":0},{\"target\":0},{\"target\":0},{\"target\":0},{\"target\":0},{\"target\":0},{\"target\":0},{\"target\":0},{\"target\":0},{\"target\":0},{\"target\":0},{\"target\":0},{\"target\":0},{\"target\":0},{\"target\":0},{\"target\":0},{\"target\":0},{\"target\":0},{\"target\":0},{\"target\":0},{\"target\":0},{\"target\":0},{\"target\":0},{\"target\":0},{\"target\":0},{\"target\":0},{\"target\":0},{\"target\":0},{\"target\":0},{\"target\":0},{\"target\":0},{\"target\":0},{\"target\":0},{\"target\":0},{\"target\":0},{\"target\":0},{\"target\":0},{\"target\":0},{\"target\":0},{\"target\":0},{\"target\":0},{\"target\":0},{\"target\":0},{\"target\":0},{\"target\":0},{\"target\":0},{\"target\":0},{\"target\":0},{\"target\":0},{\"target\":0},{\"target\":0},{\"target\":0},{\"target\":0},{\"target\":0},{\"target\":0},{\"target\":0},{\"target\":0},{\"target\":0},{\"target\":0},{\"target\":0},{\"target\":0},{\"target\":0},{\"target\":0},{\"target\":0},{\"target\":0},{\"target\":0},{\"target\":0},{\"target\":0},{\"target\":0},{\"target\":0},{\"target\":0},{\"target\":0},{\"target\":0},{\"target\":0},{\"target\":0},{\"target\":0},{\"target\":0},{\"target\":0},{\"target\":0},{\"target\":0},{\"target\":0},{\"target\":0},{\"target\":0},{\"target\":0},{\"target\":0},{\"target\":0},{\"target\":0},{\"target\":0},{\"target\":0},{\"target\":0},{\"target\":0},{\"target\":0},{\"target\":0},{\"target\":0},{\"target\":0},{\"target\":0},{\"target\":0},{\"target\":0},{\"target\":0},{\"target\":0},{\"target\":0},{\"target\":0},{\"target\":0},{\"target\":0},{\"target\":0},{\"target\":0},{\"target\":0},{\"target\":0},{\"target\":0},{\"target\":0},{\"target\":0},{\"target\":0},{\"target\":0},{\"target\":0},{\"target\":0},{\"target\":0},{\"target\":0},{\"target\":0},{\"target\":0},{\"target\":0},{\"target\":0},{\"target\":0},{\"target\":0},{\"target\":0},{\"target\":0},{\"target\":0},{\"target\":0},{\"target\":0},{\"target\":0},{\"target\":0},{\"target\":0},{\"target\":0},{\"target\":0},{\"target\":0},{\"target\":0},{\"target\":0},{\"target\":0},{\"target\":0},{\"target\":0},{\"target\":0},{\"target\":0},{\"target\":0},{\"target\":0},{\"target\":0},{\"target\":0},{\"target\":0},{\"target\":0},{\"target\":0},{\"target\":0},{\"target\":0},{\"target\":0},{\"target\":0},{\"target\":0},{\"target\":0},{\"target\":0},{\"target\":0},{\"target\":0},{\"target\":0},{\"target\":0},{\"target\":0},{\"target\":0},{\"target\":0},{\"target\":0},{\"target\":0},{\"target\":0},{\"target\":0},{\"target\":0},{\"target\":0},{\"target\":0},{\"target\":0},{\"target\":0},{\"target\":0},{\"target\":0},{\"target\":0},{\"target\":0},{\"target\":0},{\"target\":0},{\"target\":0},{\"target\":0},{\"target\":0},{\"target\":0},{\"target\":0},{\"target\":0},{\"target\":0},{\"target\":0},{\"target\":0},{\"target\":0},{\"target\":0},{\"target\":0},{\"target\":0},{\"target\":0},{\"target\":0},{\"target\":0},{\"target\":0},{\"target\":0},{\"target\":0},{\"target\":0},{\"target\":0},{\"target\":0},{\"target\":0},{\"target\":0},{\"target\":0},{\"target\":0},{\"target\":0},{\"target\":0},{\"target\":0},{\"target\":0},{\"target\":0},{\"target\":0},{\"target\":0},{\"target\":0},{\"target\":0},{\"target\":0},{\"target\":0},{\"target\":0},{\"target\":0},{\"target\":0},{\"target\":0},{\"target\":0},{\"target\":0},{\"target\":0},{\"target\":0},{\"target\":0},{\"target\":0},{\"target\":0},{\"target\":0},{\"target\":0},{\"target\":0},{\"target\":0},{\"target\":0},{\"target\":0},{\"target\":0},{\"target\":0},{\"target\":0},{\"target\":0},{\"target\":0},{\"target\":0},{\"target\":0},{\"target\":0},{\"target\":0},{\"target\":0},{\"target\":0},{\"target\":0},{\"target\":0},{\"target\":0},{\"target\":0},{\"target\":0},{\"target\":0},{\"target\":0},{\"target\":0},{\"target\":0},{\"target\":0},{\"target\":0},{\"target\":0},{\"target\":0},{\"target\":0},{\"target\":0},{\"target\":0},{\"target\":0},{\"target\":0},{\"target\":0},{\"target\":0},{\"target\":0},{\"target\":0},{\"target\":0},{\"target\":0},{\"target\":0},{\"target\":0},{\"target\":0},{\"target\":0},{\"target\":0},{\"target\":0},{\"target\":0},{\"target\":0},{\"target\":0},{\"target\":0},{\"target\":0},{\"target\":0},{\"target\":0},{\"target\":0},{\"target\":0},{\"target\":0},{\"target\":0},{\"target\":0},{\"target\":0},{\"target\":0},{\"target\":0},{\"target\":0},{\"target\":0},{\"target\":0},{\"target\":0},{\"target\":0},{\"target\":0},{\"target\":0},{\"target\":0},{\"target\":0},{\"target\":0},{\"target\":0},{\"target\":0},{\"target\":0},{\"target\":0},{\"target\":0},{\"target\":0},{\"target\":0},{\"target\":0},{\"target\":0},{\"target\":0},{\"target\":0},{\"target\":0},{\"target\":0},{\"target\":0},{\"target\":0},{\"target\":0},{\"target\":0},{\"target\":0},{\"target\":0},{\"target\":0},{\"target\":0},{\"target\":0},{\"target\":0},{\"target\":0},{\"target\":0},{\"target\":0},{\"target\":0},{\"target\":0},{\"target\":0},{\"target\":0},{\"target\":0},{\"target\":0},{\"target\":0},{\"target\":0},{\"target\":0},{\"target\":0},{\"target\":0},{\"target\":0},{\"target\":0},{\"target\":0},{\"target\":0},{\"target\":0},{\"target\":0},{\"target\":0},{\"target\":0},{\"target\":0},{\"target\":0},{\"target\":0},{\"target\":0},{\"target\":0},{\"target\":0},{\"target\":0},{\"target\":0},{\"target\":0},{\"target\":0},{\"target\":0},{\"target\":0},{\"target\":0},{\"target\":0},{\"target\":0},{\"target\":0},{\"target\":0},{\"target\":0},{\"target\":0},{\"target\":0},{\"target\":0},{\"target\":0},{\"target\":0},{\"target\":0},{\"target\":0},{\"target\":0},{\"target\":0},{\"target\":0},{\"target\":0},{\"target\":0},{\"target\":0},{\"target\":0},{\"target\":0},{\"target\":0},{\"target\":0},{\"target\":0},{\"target\":0},{\"target\":0},{\"target\":0},{\"target\":0},{\"target\":0},{\"target\":0},{\"target\":0},{\"target\":0},{\"target\":0},{\"target\":0},{\"target\":0},{\"target\":0},{\"target\":0},{\"target\":0},{\"target\":0},{\"target\":0},{\"target\":0},{\"target\":0},{\"target\":0},{\"target\":0},{\"target\":0},{\"target\":0},{\"target\":0},{\"target\":0},{\"target\":0},{\"target\":0},{\"target\":0},{\"target\":0},{\"target\":0},{\"target\":0},{\"target\":0},{\"target\":0},{\"target\":0},{\"target\":0},{\"target\":0},{\"target\":0},{\"target\":0},{\"target\":0},{\"target\":0},{\"target\":0},{\"target\":0},{\"target\":0},{\"target\":0},{\"target\":0},{\"target\":0},{\"target\":0},{\"target\":0},{\"target\":0},{\"target\":0},{\"target\":0},{\"target\":0},{\"target\":0},{\"target\":0},{\"target\":0},{\"target\":0},{\"target\":0},{\"target\":0},{\"target\":0},{\"target\":0},{\"target\":0},{\"target\":0},{\"target\":0},{\"target\":0},{\"target\":0},{\"target\":0},{\"target\":0},{\"target\":0},{\"target\":0},{\"target\":0},{\"target\":0},{\"target\":0},{\"target\":0},{\"target\":0},{\"target\":0},{\"target\":0},{\"target\":0},{\"target\":0},{\"target\":0},{\"target\":0},{\"target\":0},{\"target\":0},{\"target\":0},{\"target\":0},{\"target\":0},{\"target\":0},{\"target\":0},{\"target\":0},{\"target\":0},{\"target\":0},{\"target\":0},{\"target\":0},{\"target\":0},{\"target\":0},{\"target\":0},{\"target\":0},{\"target\":0},{\"target\":0},{\"target\":0},{\"target\":0},{\"target\":0},{\"target\":0},{\"target\":0},{\"target\":0},{\"target\":0},{\"target\":0},{\"target\":0},{\"target\":0},{\"target\":0},{\"target\":0},{\"target\":0},{\"target\":0},{\"target\":0},{\"target\":0},{\"target\":0},{\"target\":0},{\"target\":0},{\"target\":0},{\"target\":0},{\"target\":0},{\"target\":0},{\"target\":0},{\"target\":0},{\"target\":0},{\"target\":0},{\"target\":0},{\"target\":0},{\"target\":0},{\"target\":0},{\"target\":0},{\"target\":0},{\"target\":0},{\"target\":0},{\"target\":0},{\"target\":0},{\"target\":0},{\"target\":0},{\"target\":0},{\"target\":0},{\"target\":0},{\"target\":0},{\"target\":0},{\"target\":0},{\"target\":0},{\"target\":0},{\"target\":0},{\"target\":0},{\"target\":0},{\"target\":0},{\"target\":0},{\"target\":0},{\"target\":0},{\"target\":0},{\"target\":0},{\"target\":0},{\"target\":0},{\"target\":0},{\"target\":0},{\"target\":0},{\"target\":0},{\"target\":0},{\"target\":0},{\"target\":0},{\"target\":0},{\"target\":0},{\"target\":0},{\"target\":0},{\"target\":0},{\"target\":0},{\"target\":0},{\"target\":0},{\"target\":0},{\"target\":0},{\"target\":0},{\"target\":0},{\"target\":0},{\"target\":0},{\"target\":0},{\"target\":0},{\"target\":0},{\"target\":0},{\"target\":0},{\"target\":0},{\"target\":0},{\"target\":0},{\"target\":0},{\"target\":0},{\"target\":0},{\"target\":0},{\"target\":0},{\"target\":0},{\"target\":0},{\"target\":0},{\"target\":0},{\"target\":0},{\"target\":0},{\"target\":0},{\"target\":0},{\"target\":0},{\"target\":0},{\"target\":0},{\"target\":0},{\"target\":0},{\"target\":0},{\"target\":0},{\"target\":0},{\"target\":0},{\"target\":0},{\"target\":0},{\"target\":0},{\"target\":0},{\"target\":0},{\"target\":0},{\"target\":0},{\"target\":0},{\"target\":0},{\"target\":0},{\"target\":0},{\"target\":0},{\"target\":0},{\"target\":0},{\"target\":0},{\"target\":0},{\"target\":0},{\"target\":0},{\"target\":0},{\"target\":0},{\"target\":0},{\"target\":0},{\"target\":0},{\"target\":0},{\"target\":0},{\"target\":0},{\"target\":0},{\"target\":0},{\"target\":0},{\"target\":0},{\"target\":0},{\"target\":0},{\"target\":0},{\"target\":0},{\"target\":0},{\"target\":0},{\"target\":0},{\"target\":0},{\"target\":0},{\"target\":0},{\"target\":0},{\"target\":0},{\"target\":0},{\"target\":0},{\"target\":0},{\"target\":0},{\"target\":0},{\"target\":0},{\"target\":0},{\"target\":0},{\"target\":0},{\"target\":0},{\"target\":0},{\"target\":0},{\"target\":0},{\"target\":0},{\"target\":0},{\"target\":0},{\"target\":0},{\"target\":0},{\"target\":0},{\"target\":0},{\"target\":0},{\"target\":0},{\"target\":0},{\"target\":0},{\"target\":0},{\"target\":0},{\"target\":0},{\"target\":0},{\"target\":0},{\"target\":0},{\"target\":0},{\"target\":0},{\"target\":0},{\"target\":0},{\"target\":0},{\"target\":0},{\"target\":0},{\"target\":0},{\"target\":0},{\"target\":0},{\"target\":0},{\"target\":0},{\"target\":0},{\"target\":0},{\"target\":0},{\"target\":0},{\"target\":0},{\"target\":0},{\"target\":0},{\"target\":0},{\"target\":0},{\"target\":0},{\"target\":0},{\"target\":0},{\"target\":0},{\"target\":0},{\"target\":0},{\"target\":0},{\"target\":0},{\"target\":0},{\"target\":0},{\"target\":0},{\"target\":0},{\"target\":0},{\"target\":0},{\"target\":0},{\"target\":0},{\"target\":0},{\"target\":0},{\"target\":0},{\"target\":0},{\"target\":0},{\"target\":0},{\"target\":0},{\"target\":0},{\"target\":0},{\"target\":0},{\"target\":0},{\"target\":0},{\"target\":0},{\"target\":0},{\"target\":0},{\"target\":0},{\"target\":0},{\"target\":0},{\"target\":0},{\"target\":0},{\"target\":0},{\"target\":0},{\"target\":0},{\"target\":0},{\"target\":0},{\"target\":0},{\"target\":0},{\"target\":0},{\"target\":0},{\"target\":0},{\"target\":0},{\"target\":0},{\"target\":0},{\"target\":0},{\"target\":0},{\"target\":0},{\"target\":0},{\"target\":0},{\"target\":0},{\"target\":0},{\"target\":0},{\"target\":0},{\"target\":0},{\"target\":0},{\"target\":0},{\"target\":0},{\"target\":0},{\"target\":0},{\"target\":0},{\"target\":0},{\"target\":0},{\"target\":0},{\"target\":0},{\"target\":0},{\"target\":0},{\"target\":0},{\"target\":0},{\"target\":0},{\"target\":0},{\"target\":0},{\"target\":0},{\"target\":0},{\"target\":0},{\"target\":0},{\"target\":0},{\"target\":0},{\"target\":0},{\"target\":0},{\"target\":0},{\"target\":0},{\"target\":0},{\"target\":0},{\"target\":0},{\"target\":0},{\"target\":0},{\"target\":0},{\"target\":0},{\"target\":0},{\"target\":0},{\"target\":0},{\"target\":0},{\"target\":0},{\"target\":0},{\"target\":0},{\"target\":0},{\"target\":0},{\"target\":0},{\"target\":0},{\"target\":0},{\"target\":0},{\"target\":0},{\"target\":0},{\"target\":0},{\"target\":0},{\"target\":0},{\"target\":0},{\"target\":0},{\"target\":0},{\"target\":0},{\"target\":0},{\"target\":0},{\"target\":0},{\"target\":0},{\"target\":0},{\"target\":0},{\"target\":0},{\"target\":0},{\"target\":0},{\"target\":0},{\"target\":0},{\"target\":0},{\"target\":0},{\"target\":0},{\"target\":0},{\"target\":0},{\"target\":0},{\"target\":0},{\"target\":0},{\"target\":0},{\"target\":0},{\"target\":0},{\"target\":0},{\"target\":0},{\"target\":0},{\"target\":0},{\"target\":0},{\"target\":0},{\"target\":0},{\"target\":0},{\"target\":0},{\"target\":0},{\"target\":0},{\"target\":0},{\"target\":0},{\"target\":0},{\"target\":0},{\"target\":0},{\"target\":0},{\"target\":0},{\"target\":0},{\"target\":0},{\"target\":0},{\"target\":0},{\"target\":0},{\"target\":0},{\"target\":0},{\"target\":0},{\"target\":0},{\"target\":0},{\"target\":0},{\"target\":0},{\"target\":0},{\"target\":0},{\"target\":0},{\"target\":0},{\"target\":0},{\"target\":0},{\"target\":0},{\"target\":0},{\"target\":0},{\"target\":0},{\"target\":0},{\"target\":0},{\"target\":0},{\"target\":0},{\"target\":0},{\"target\":0},{\"target\":0},{\"target\":0},{\"target\":0},{\"target\":0},{\"target\":0},{\"target\":0},{\"target\":0},{\"target\":0},{\"target\":0},{\"target\":0},{\"target\":0},{\"target\":0},{\"target\":0},{\"target\":0},{\"target\":0},{\"target\":0},{\"target\":0},{\"target\":0},{\"target\":0},{\"target\":0},{\"target\":0},{\"target\":0},{\"target\":0},{\"target\":0},{\"target\":0},{\"target\":0},{\"target\":0},{\"target\":0},{\"target\":0},{\"target\":0},{\"target\":0},{\"target\":0},{\"target\":0},{\"target\":0},{\"target\":0},{\"target\":0},{\"target\":0},{\"target\":0},{\"target\":0},{\"target\":0},{\"target\":0},{\"target\":0},{\"target\":0},{\"target\":0},{\"target\":0},{\"target\":0},{\"target\":0},{\"target\":0},{\"target\":0},{\"target\":0},{\"target\":0},{\"target\":0},{\"target\":0},{\"target\":0},{\"target\":0},{\"target\":0},{\"target\":0},{\"target\":0},{\"target\":0},{\"target\":0},{\"target\":0},{\"target\":0},{\"target\":0},{\"target\":0},{\"target\":0},{\"target\":0},{\"target\":0},{\"target\":0},{\"target\":0},{\"target\":0},{\"target\":0},{\"target\":0},{\"target\":0},{\"target\":0},{\"target\":0},{\"target\":0},{\"target\":0},{\"target\":0},{\"target\":0},{\"target\":0},{\"target\":0},{\"target\":0},{\"target\":0},{\"target\":0},{\"target\":0},{\"target\":0},{\"target\":0},{\"target\":0},{\"target\":0},{\"target\":0},{\"target\":0},{\"target\":0},{\"target\":0},{\"target\":0},{\"target\":0},{\"target\":0},{\"target\":0},{\"target\":0},{\"target\":0},{\"target\":0},{\"target\":0},{\"target\":0},{\"target\":0},{\"target\":0},{\"target\":0},{\"target\":0},{\"target\":0},{\"target\":0},{\"target\":0},{\"target\":0},{\"target\":0},{\"target\":0},{\"target\":0},{\"target\":0},{\"target\":0},{\"target\":0},{\"target\":0},{\"target\":0},{\"target\":0},{\"target\":0},{\"target\":0},{\"target\":0},{\"target\":0},{\"target\":0},{\"target\":0},{\"target\":0},{\"target\":0},{\"target\":0},{\"target\":0},{\"target\":0},{\"target\":0},{\"target\":0},{\"target\":0},{\"target\":0},{\"target\":0},{\"target\":0},{\"target\":0},{\"target\":0},{\"target\":0},{\"target\":0},{\"target\":0},{\"target\":0},{\"target\":0},{\"target\":0},{\"target\":0},{\"target\":0},{\"target\":0},{\"target\":0},{\"target\":0},{\"target\":0},{\"target\":0},{\"target\":0},{\"target\":0},{\"target\":0},{\"target\":0},{\"target\":0},{\"target\":0},{\"target\":0},{\"target\":0},{\"target\":0},{\"target\":0},{\"target\":0},{\"target\":0},{\"target\":0},{\"target\":0},{\"target\":0},{\"target\":0},{\"target\":0},{\"target\":0},{\"target\":0},{\"target\":0},{\"target\":0},{\"target\":0},{\"target\":0},{\"target\":0},{\"target\":0},{\"target\":0},{\"target\":0},{\"target\":0},{\"target\":0},{\"target\":0},{\"target\":0},{\"target\":0},{\"target\":0},{\"target\":0},{\"target\":0},{\"target\":0},{\"target\":0},{\"target\":0},{\"target\":0},{\"target\":0},{\"target\":0},{\"target\":0},{\"target\":0},{\"target\":0},{\"target\":0},{\"target\":0},{\"target\":0},{\"target\":0},{\"target\":0},{\"target\":0},{\"target\":0},{\"target\":0},{\"target\":0},{\"target\":0},{\"target\":0},{\"target\":0},{\"target\":0},{\"target\":0},{\"target\":0},{\"target\":0},{\"target\":0},{\"target\":0},{\"target\":0},{\"target\":0},{\"target\":0},{\"target\":0},{\"target\":0},{\"target\":0},{\"target\":0},{\"target\":0},{\"target\":0},{\"target\":0},{\"target\":0},{\"target\":0},{\"target\":0},{\"target\":0},{\"target\":0},{\"target\":0},{\"target\":0},{\"target\":0},{\"target\":0},{\"target\":0},{\"target\":0},{\"target\":0},{\"target\":0},{\"target\":0},{\"target\":0},{\"target\":0},{\"target\":0},{\"target\":0},{\"target\":0},{\"target\":0},{\"target\":0},{\"target\":0},{\"target\":0},{\"target\":0},{\"target\":0},{\"target\":0},{\"target\":0},{\"target\":0},{\"target\":0},{\"target\":0},{\"target\":0},{\"target\":0},{\"target\":0},{\"target\":0},{\"target\":0},{\"target\":0},{\"target\":0},{\"target\":0},{\"target\":0},{\"target\":0},{\"target\":0},{\"target\":0},{\"target\":0},{\"target\":0},{\"target\":0},{\"target\":0},{\"target\":0},{\"target\":0},{\"target\":0},{\"target\":0},{\"target\":0},{\"target\":0},{\"target\":0},{\"target\":0},{\"target\":0},{\"target\":0},{\"target\":0},{\"target\":0},{\"target\":0},{\"target\":0},{\"target\":0},{\"target\":0},{\"target\":0},{\"target\":0},{\"target\":0},{\"target\":0},{\"target\":0},{\"target\":0},{\"target\":0},{\"target\":0},{\"target\":0},{\"target\":0},{\"target\":0},{\"target\":0},{\"target\":0},{\"target\":0},{\"target\":0},{\"target\":0},{\"target\":0},{\"target\":0},{\"target\":0},{\"target\":0},{\"target\":0},{\"target\":0},{\"target\":0},{\"target\":0},{\"target\":0},{\"target\":0},{\"target\":0},{\"target\":0},{\"target\":0},{\"target\":0},{\"target\":0},{\"target\":0},{\"target\":0},{\"target\":0},{\"target\":0},{\"target\":0},{\"target\":0},{\"target\":0},{\"target\":0},{\"target\":0},{\"target\":0},{\"target\":0},{\"target\":0},{\"target\":0},{\"target\":0},{\"target\":0},{\"target\":0},{\"target\":0},{\"target\":0},{\"target\":0},{\"target\":0},{\"target\":0},{\"target\":0},{\"target\":0},{\"target\":0},{\"target\":0},{\"target\":0},{\"target\":0},{\"target\":0},{\"target\":0},{\"target\":0},{\"target\":0},{\"target\":0},{\"target\":0},{\"target\":0},{\"target\":0},{\"target\":0},{\"target\":0},{\"target\":0},{\"target\":0},{\"target\":0},{\"target\":0},{\"target\":0},{\"target\":0},{\"target\":0},{\"target\":0},{\"target\":0},{\"target\":0},{\"target\":0},{\"target\":0},{\"target\":0},{\"target\":0},{\"target\":0},{\"target\":0},{\"target\":0},{\"target\":0},{\"target\":0},{\"target\":0},{\"target\":0},{\"target\":0},{\"target\":0},{\"target\":0},{\"target\":0},{\"target\":0},{\"target\":0},{\"target\":0},{\"target\":0},{\"target\":0},{\"target\":0},{\"target\":0},{\"target\":0},{\"target\":0},{\"target\":0},{\"target\":0},{\"target\":0},{\"target\":0},{\"target\":0},{\"target\":0},{\"target\":0},{\"target\":0},{\"target\":0},{\"target\":0},{\"target\":0},{\"target\":0},{\"target\":0},{\"target\":0},{\"target\":0},{\"target\":0},{\"target\":0},{\"target\":0},{\"target\":0},{\"target\":0},{\"target\":0},{\"target\":0},{\"target\":0},{\"target\":0},{\"target\":0},{\"target\":0},{\"target\":0},{\"target\":0},{\"target\":0},{\"target\":0},{\"target\":0},{\"target\":0},{\"target\":0},{\"target\":0},{\"target\":0},{\"target\":0},{\"target\":0},{\"target\":0},{\"target\":0},{\"target\":0},{\"target\":0},{\"target\":0},{\"target\":0},{\"target\":0},{\"target\":0},{\"target\":0},{\"target\":0},{\"target\":0},{\"target\":0},{\"target\":0},{\"target\":0},{\"target\":0},{\"target\":0},{\"target\":0},{\"target\":0},{\"target\":0},{\"target\":0},{\"target\":0},{\"target\":0},{\"target\":0},{\"target\":0},{\"target\":0},{\"target\":0},{\"target\":0},{\"target\":0},{\"target\":0},{\"target\":0},{\"target\":0},{\"target\":0},{\"target\":0},{\"target\":0},{\"target\":0},{\"target\":0},{\"target\":0},{\"target\":0},{\"target\":0}],\"target\":[0,0,0,0,0,0,0,0,0,0,0,0,0,0,0,0,0,0,0,0,0,0,0,0,0,0,0,0,0,0,0,0,0,0,0,0,0,0,0,0,0,0,0,0,0,0,0,0,0,0,0,0,0,0,0,0,0,0,0,0,0,0,0,0,0,0,0,0,0,0,0,0,0,0,0,0,0,0,0,0,0,0,0,0,0,0,0,0,0,0,0,0,0,0,0,0,0,0,0,0,0,0,0,0,0,0,0,0,0,0,0,0,0,0,0,0,0,0,0,0,0,0,0,0,0,0,0,0,0,0,0,0,0,0,0,0,0,0,0,0,0,0,0,0,0,0,0,0,0,0,0,0,0,0,0,0,0,0,0,0,0,0,0,0,0,0,0,0,0,0,0,0,0,0,0,0,0,0,0,0,0,0,0,0,0,0,0,0,0,0,0,0,0,0,0,0,0,0,0,0,0,0,0,0,0,0,0,0,0,0,0,0,0,0,0,0,0,0,0,0,0,0,0,0,0,0,0,0,0,0,0,0,0,0,0,0,0,0,0,0,0,0,0,0,0,0,0,0,0,0,0,0,0,0,0,0,0,0,0,0,0,0,0,0,0,0,0,0,0,0,0,0,0,0,0,0,0,0,0,0,0,0,0,0,0,0,0,0,0,0,0,0,0,0,0,0,0,0,0,0,0,0,0,0,0,0,0,0,0,0,0,0,0,0,0,0,0,0,0,0,0,0,0,0,0,0,0,0,0,0,0,0,0,0,0,0,0,0,0,0,0,0,0,0,0,0,0,0,0,0,0,0,0,0,0,0,0,0,0,0,0,0,0,0,0,0,0,0,0,0,0,0,0,0,0,0,0,0,0,0,0,0,0,0,0,0,0,0,0,0,0,0,0,0,0,0,0,0,0,0,0,0,0,0,0,0,0,0,0,0,0,0,0,0,0,0,0,0,0,0,0,0,0,0,0,0,0,0,0,0,0,0,0,0,0,0,0,0,0,0,0,0,0,0,0,0,0,0,0,0,0,0,0,0,0,0,0,0,0,0,0,0,0,0,0,0,0,0,0,0,0,0,0,0,0,0,0,0,0,0,0,0,0,0,0,0,0,0,0,0,0,0,0,0,0,0,0,0,0,0,0,0,0,0,0,0,0,0,0,0,0,0,0,0,0,0,0,0,0,0,0,0,0,0,0,0,0,0,0,0,0,0,0,0,0,0,0,0,0,0,0,0,0,0,0,0,0,0,0,0,0,0,0,0,0,0,0,0,0,0,0,0,0,0,0,0,0,0,0,0,0,0,0,0,0,0,0,0,0,0,0,0,0,0,0,0,0,0,0,0,0,0,0,0,0,0,0,0,0,0,0,0,0,0,0,0,0,0,0,0,0,0,0,0,0,0,0,0,0,0,0,0,0,0,0,0,0,0,0,0,0,0,0,0,0,0,0,0,0,0,0,0,0,0,0,0,0,0,0,0,0,0,0,0,0,0,0,0,0,0,0,0,0,0,0,0,0,0,0,0,0,0,0,0,0,0,0,0,0,0,0,0,0,0,0,0,0,0,0,0,0,0,0,0,0,0,0,0,0,0,0,0,0,0,0,0,0,0,0,0,0,0,0,0,0,0,0,0,0,0,0,0,0,0,0,0,0,0,0,0,0,0,0,0,0,0,0,0,0,0,0,0,0,0,0,0,0,0,0,0,0,0,0,0,0,0,0,0,0,0,0,0,0,0,0,0,0,0,0,0,0,0,0,0,0,0,0,0,0,0,0,0,0,0,0,0,0,0,0,0,0,0,0,0,0,0,0,0,0,0,0,0,0,0,0,0,0,0,0,0,0,0,0,0,0,0,0,0,0,0,0,0,0,0,0,0,0,0,0,0,0,0,0,0,0,0,0,0,0,0,0,0,0,0,0,0,0,0,0,0,0,0,0,0,0,0,0,0,0,0,0,0,0,0,0,0,0,0,0,0,0,0,0,0,0,0,0,0,0,0,0,0,0,0,0,0,0,0,0,0,0,0,0,0,0,0,0,0,0,0,0,0,0,0,0,0,0,0,0,0,0,0,0,0,0,0,0,0,0,0,0,0,0,0,0,0,0,0,0,0,0,0,0,0,0,0,0,0,0,0,0,0,0,0,0,0,0,0,0,0,0,0,0,0,0,0,0,0,0,0,0,0,0,0,0,0,0,0,0,0,0,0,0,0,0,0,0,0,0,0,0,0,0,0,0,0,0,0,0,0,0,0,0,0,0,0,0,0,0,0,0,0,0,0,0,0,0,0,0,0,0,0,0,0,0,0,0,0,0,0,0,0,0,0,0,0,0,0,0,0,0,0,0,0,0,0,0,0,0,0,0,0,0,0,0,0,0,0,0,0,0,0,0,0,0,0,0,0,0,0,0,0,0,0,0,0,0,0,0,0,0,0,0,0,0,0,0,0,0,0,0,0,0,0,0,0,0,0,0,0,0,0,0,0,0,0,0,0,0,0,0,0,0,0,0,0,0,0,0,0,0,0,0,0,0,0,0,0,0,0,0,0,0,0,0,0,0,0,0,0,0,0,0,0,0,0,0,0,0,0,0,0,0,0,0,0,0,0,0,0,0,0,0,0,0,0,0,0,0,0,0,0,0,0,0,0,0,0,0,0,0,0,0,0,0,0,0,0,0,0,0,0,0,0,0,0,0,0,0,0,0,0,0,0,0,0,0,0,0,0,0,0,0,0,0,0,0,0,0,0,0,0,0,0,0,0,0,0,0,0,0,0,0,0,0,0,0,0,0,0,0,0,0,0,0,0,0,0,0,0,0,0,0,0,0,0,0,0,0,0,0,0,0,0,0,0,0,0,0,0,0,0,0,0,0,0,0,0,0,0,0,0,0,0,0,0,0,0,0,0,0,0,0,0,0,0,0,0,0,0,0,0,0,0,0,0,0,0,0,0,0,0,0,0,0,0,0,0,0,0,0,0,0,0,0,0,0,0,0,0,0,0,0,0,0,0,0,0,0,0,0,0,0,0,0,0,0,0,0,0,0,0,0,0,0,0,0,0,0,0,0,0,0,0,0,0,0,0,0,0,0,0,0,0,0,0,0,0,0,0,0,0,0,0,0,0,0,0,0,0,0,0,0,0,0,0,0,0,0,0,0,0,0,0,0,0,0,0,0,0,0,0,0,0,0,0,0,0,0,0,0,0,0,0,0,0,0,0,0,0,0,0,0,0,0,0,0,0,0,0,0,0,0,0,0,0,0,0,0,0,0,0,0,0,0,0,0,0,0,0,0,0,0,0,0,0,0,0,0,0,0,0,0,0,0,0,0,0,0,0,0,0,0,0,0,0,0,0,0,0,0,0,0,0,0,0,0,0,0,0,0,0,0,0,0,0,0,0,0,0,0,0,0,0,0,0,0,0,0,0,0,0,0,0,0,0,0,0,0,0,0,0,0,0,0,0,0,0,0,0,0,0,0,0,0,0,0,0,0,0,0,0,0,0,0,0,0,0,0,0,0,0,0,0,0,0,0,0,0,0,0,0,0,0,0,0,0,0,0,0,0,0,0,0,0,0,0,0,0,0,0,0,0,0,0,0,0,0,0,0,0,0,0,0,0,0,0,0,0,0,0,0,0,0,0,0,0,0,0,0,0,0,0,0,0,0,0,0,0,0,0,0,0,0,0,0,0,0,0,0,0,0,0,0,0,0,0,0,0,0,0,0,0,0,0,0,0,0,0,0,0,0,0,0,0,0,0,0,0,0,0,0,0,0,0,0,0,0,0,0,0,0,0,0,0,0,0,0,0,0,0,0,0,0,0,0,0,0,0,0,0,0,0,0,0,0,0,0,0,0,0,0,0,0,0,0,0,0,0,0,0,0,0,0,0,0,0,0,0,0,0,0,0,0,0,0,0,0,0,0,0,0,0,0,0,0,0,0,0,0,0,0,0,0,0,0,0,0,0,0,0,0,0,0,0,0,0,0,0,0,0,0,0,0,0,0,0,0,0,0,0,0,0,0,0,0,0,0,0,0,0,0,0,0,0,0,0,0,0,0,0,0,0,0,0,0,0,0,0,0,0,0,0,0,0,0,0,0,0,0,0,0,0,0,0,0,0,0,0,0,0,0,0,0,0,0,0,0,0,0],\"x_values\":{\"__ndarray__\":\"AAUFBQUFBQMAAAIFAgQFBQUFBQIEAgUFBQUCAgUFAgUFAAUCBQIAAgAFAgIFAgIFAgICBQUCBAIFAgUCAAAFAgUCAgICAgAFBQICBAQFBQIFAgICBQIFBQUCBQICAgICBQICAgUFBQIFBQUFBQICBQUFAgICAAUFAgIAAgUCAgUCBQUCAgUCBQUFAgUCBQUCBQUCAgIFAgIABQIFBQUCAgUCAgIFAgACBQICBQUCAgICBQIFAAUCBQUFAAIAAgUAAgICBQUFAgICAgICBQUCAAIFAgUFBQIFBQUCBQUFBQIFAgUCBQUFBQUFAgUCBQIFAAUFAgUFBQUFAAUFBQICAgIFBQIFAgUFAgICAgIFBQIFBQUCBQUFAgUFAgAFAgIFBQIFBQAFBQIFBQICAgUFBQUFAgIFAgACBQUCAAUFBQUCBQIFAgUCBQUFBQICAAIAAAIFAgIDBQUFBQICAgIFBQUCBQIFAgUFAgUFAgICBQUFAgICAgUFAAICAgUCBQUCAgIFBQUCBQICAgUCAgIFAgIAAgIABQUFAgUFBQUCBQIABQUFBQIFAgICAgICAAAFBQACAgIFAgUCBQMCBQUCAgUFAgUCBQIFBQUFBQUFBQICAgUFBAIFBQAFBQUABQICAgICBQACAgUFAgIFAgIFAgIAAgUFBQUCAgUCAAICAgIFAgUFBQUFAgIFBQUFAgIFBQUEBQUCBQUCBQUFBQICBQIFAgIFAgUCBQUCBQUCBQIFBQUCBQUABQICAgUFBQUFAgUCAgIFAgUFBQUCAgIFBQICBQICAgIABQUFAgUFAgIFAgACAgIFAgUFBQIAAgUFAgICAgUFAgICBQUABQICBQUFBQAFBQIFAgUEAgIABQUCBQIFAAUFAgUCAgUCBQICAAUCBQUFBQAFBQUCAAIABQIFBQICAAACBQUAAgICAAICBQAFBQICBQUCBQUCAgUFAgUCAgAEAAIFAAAFAgUCBQIFAAIFBQUFAAUFAgUCBQUCBQAFAAUCAgIFBQUCAgICAwIFAgUFAgUCBQUAAgQCBQIFBQUCAgUFBQUCAAICAgAFBQUCAgIFAgUCAAIFAgUCBQUAAgUFBQUCAgUFBQUCBQICAAUFAgUCAgUFBQUCBQQFBQUFBQUFBQAFAgIFBQUCAgUCAgUFAgUFAgICAgUFAgICAgUCBQUEAgIFBQUFBQIFAgIFAAICAgUFAgIAAgIFAgIFAgIFBQIABQUFBQIFAgUFBQUCAgUCAgUCBQIFBQUFAgICBQACAgUFAAUCBQUFBQIEBQUABQUCAgUFAgIFBQIFAgUCAAUCAgIFBQIFAgIABQUCBQICBQUCAAUEBQUFAAUFBQICBQICBQIAAgUFAAUFAgUFAAUFAgUFBQIEAAIAAgIFAgIFAAUFBQICAgUFBQUFBQUCAgICAgIAAgICBQICBQIFAgUFAAIAAgUCAgUAAgIFBQUCBQUFBQUFAgIFBQUFBQIFBQUDAgIFAgUFAgUFAgIFBQACAgICBQICBQUFBQUCAgIFAgIABQICBQUEAgIFAgQCAgIFAgUFAgUFBQIFBQUCBQIFBQUCAgUFAgACBQICBQUCBQIFBQUFAgUCBQICAgICAgUFBQUEAgUFAgICAgUCAgIFBQAFAgICAgUCAAICBQUFBQUFBQUFAgUCAgUCAgIFBQAFAAUCBQUFBQUCBQIFAgUFBQUFBQICBQUFAgIFBQIFBQIFAgUAAgIFAAIFBQACAAUCAgUFAgUCAgICAgIFAgIFBQUCAgAAAgICAAICAgUCAgUCBQUFBQAABQUCAAUCAgICBQICBQUCAgUCBQUEAgICBQIAAAUCBQUFBQIABQUCAgUCAAUCAgUFBQICAgICBQICBQMAAAICAgUCBQUFAgUFAAUCAAIFBQUFBQIFAgICAAIDAgAFBQUCBQICAgUFBQQFAgUCBQIFBQUCAgICBQQCBQUCAgUFAgIFBQIFBQUFBQAFBQUFBQIFBQUFAAUFAgIFAgUCBQACBQIFAAIFBQUCAgICAgIFAAUFBAUFBQAFAgICAgICAgUFBQICBQIFBQUABQUCAgIFAgUFAgAFAAUFAwUFAgICBQICAgIFAgAAAgIFBQUCAgUFBQAFBQACBQAFBQICAAUCBQACBQIFBQUABQQCAAUFBQUFBQICAgUFBQUFBQICAgUFAgUCAgIFBQUCBQICBQUFAgIAAgUCAgUFAgUCBQIFBQACBQUFAgICAgICBAUFAgIFBQIABQUFBQUFAgUFBQIFAgUEBQUFAgICBQIABQUCBQUCBQICBQUCBQUFAgAFBQIFBQIABQUCAAICAgUFAgIFBQIFAgUCBQUCBQAFBQIFAgUCBQUFAgIFBQUFAgIFBQIFAgIFBQUFAgIFBQAFAgAFAgUFBAIFBQIFAgICBQIFAgICAgUFBQUFBQUFAgIFBQUCAgUCAgIA\",\"dtype\":\"int8\",\"shape\":[1830]},\"y_values\":{\"__ndarray__\":\"BAQDAwMEBAQGBwMGBAMEAwYGBAQDAgQDBwQEAgIEAwcDBwIDBwMGBAYDAgMDAgIEBAICAwMGAwQDBAYCBgcEAgQEAwMDBAYGBgQEBAQDAwMEBAMDBwQDBwMDAgQEBAMHBAIGBAQFAwICBAIEBAMGAgQGAwIDBgQGAwMGBAQDBAICBgMEAwEHAwIGBAQEBAQEAgMEBwQEBAQGBAMDAwMCBwMEAwICAgYCBgQEBAYDBwMEBAIGBgMEBAMGBwQGBAMGBAMCAgIDAwICBAYDBwMCBgIGAwMHBwQCAwQDAwYDBAYEBAMHAgYGAwcHAwcGAgQGBgEEBAcDBQQCBwcEAgMGBAQCBAQBBAMDAwIHBAQGBAQEAgMCBwMHAgQHBwYDAwIHBwMCBAcCBwMDBAQDAwMEAgMHBAMHBAcEAgMDBwcDAwMEBAcEBwIEAwIEBwQGBgYHBgICBAQEBgMDAwMEBAQCAwIDBAMEAwcDBAMEBAIDBAIEAwQEAwQGBwYEBAQEBgQEBAIGBAQHBwQHBAMDBwQDAwMHAwQGBAcDBAMEBAIEAwYHBgMDBAMEBAMEBgQEBwYDAgcDAgQEBAQEBgQGAgYDBAcCAwQHBgMDAgMFBAcDBwMCAwICBAMEBAQCAwMEAwIEBAQDBAcCBAQDAwMGBAIHAwQGAwYEBwQCBwcEBwYGBwMDBwQHAgQEAgQHAgcEBAIEBAMEBwMCAgMEAwcCAgICBwYEAwYFBAQCBgQCBAQEBAMDAgcCBgYHBAQEAwMGAwYGBAQCBAYEAwQHBgYGBgIDBgMEAwICAwYGAwMEBAIDBAYCBAcDAgQEAwYGBAIHBAYEBgQEAgcGAgYDAwMHBAIEBgYEBAYGAgQGAQcEAwQGBAQEAwMDBwQEBAIDBAMCAgQEBwIEAQIHBAcHAgQEBwQGAgYGAwcEBgcDBgMGAwMEBgIDBgYDBgIEAgMEBAcEBwQCAwIEAwYDBwYDBwcCBAMEBAYCBgQEBAMEBgMEBgIDAwQEBgcCBwMDAwQEAwMHBAMDAQQHBAQEBAYEBwQHBwMCBgYDBwcDAgIDBwQEBgQDAwYGAwYEAgIEAwMGBwMEBwQDAwQHAwQDBgMCAwQEBAMGBgIDBgQGBAQEBgYEBwQCBAQCAwIDAgQGAwYCAgYGAQMEBgQEAwIDAwICBgYCBAQDAwYEBAcCBwMDBAMDBwQCBAMCBAIGBgIGBAYCAwMHAgYDAgQEBgcGBAcGBAQEBAMDAwQCAgIEAgQEAwMHBwECAgQDBAMDAwcDAgQDBgICBwEGAwMDAgcGBwIDBAQCAwMGBwMEBgQDBwMDAwQCBwQDAgMGAwQDAwMEAgIGBgcDBAMCBwYGAwQEAgQEAwIHAgIDBwIEBAMGBwQGBAQEAgQEBwQHAwQEAwQEBwQCBAMEBAQHBAIDAwYGAgMCAwIGBAQDBgQDBwcGAwQEBgMGAgYEBgcHAgEDBgMEAgIEBgQEBAIHBgcDBAQDAwIEAwQGBgYHAgYGAwMEAwYDBgQEBwcGAgMDAwQEAwQCBAIHBwMCAgMEBAIEAwMDBAcCBAMGAwcHBwMEAwQEBgYGAgQDBAQDAgYFBAMCBAIEBAIGAwYEBAQCBwYEBgMDBAICAgIDAgQGAwMCBgQEBAMEBAYHAgYEBAQDBgQEBAYDAwMHAwQDAgQGAwMGBgQGAgYEBgIEAgMEAgQDBgQDAgMEAwQHAwMDBgMCAgcEAwICBgQCAwQGAwYCBgIGBwcGBwQDAwcDAwMCBgQEAgcDBgMEAwYDAwcGAwMGBwIGBAQEAgMDBgIEBgcGBgMEBwIEBAQGBAICAwcDBAYEAgQDBAQCBgIGBwQEBgIGBwIGBgMGBgQCBgMGAwYEBAICAwQDAgQEBgQGBgQCAwYEAwYGBgcGBwYDBgQHBAQDBgIDBwQEBwQEAgcHAwIGAwMGBAQEBAQEAwYGBwIEBAcHBAMDAwQEBAYCAwICBgQHBAMGBAQGBAYGBAIDAwMGBAMDBwIEAwYCAwMEBgYDBAIDBwMEBgMEAwQGBAQGBgQDBAcCBAcDAgMDAwMDBAQCAwMDBAMCBAIGAgQDAwIEAwcGAwYHBgQDAQQGAgMCAwQDAwIEAgcGBAQGBgQEBAMDAgcEAwYEAwcEBgMCBgQCBgYCAgIEBwYGBAMCBwIGAwcGAwQFAwMGBgQDAwQGAgICAgIEBAQGBwYEAwYDAgIDBAMGBAMEAgQHAwMDAwQEAwYDAwICAwIGAwUEBAIHBgMCBAQHBAcEAwQEAwMHAwQDBAYDAwMGBAcGBwYHAwIDBwIEBAIGAgQEAwMDAwcEAQQEAgIHBAYCBwcEAwMEBwMGBwMDAwICAgcDAgYEAgIDBAMCBAMHAwMCBwICBAQDBAQDBAQDBgcCBgIDBAYDBAYEBAIBAwMHBAMEBAYEBwIDAgMGBgQGBAYHAgMEAwIGAwIEAwIDBAMG\",\"dtype\":\"int8\",\"shape\":[1830]}}},\"id\":\"82b1f311-978c-4ffd-bd2e-59d92f8f48c5\",\"type\":\"ColumnDataSource\"},{\"attributes\":{\"plot\":{\"id\":\"9872ffe0-a624-4e8c-a649-0d961ede8cee\",\"subtype\":\"Chart\",\"type\":\"Plot\"}},\"id\":\"ee10c470-80f9-4005-8a3d-634686a5731b\",\"type\":\"WheelZoomTool\"},{\"attributes\":{\"plot\":null,\"text\":null},\"id\":\"0d4b871e-b981-4e0e-8ed9-1c3e6353490c\",\"type\":\"Title\"},{\"attributes\":{\"callback\":null,\"end\":5.5,\"start\":-0.5},\"id\":\"2b539cb6-fa9d-44f1-aa50-e07c7ad3d39c\",\"type\":\"Range1d\"},{\"attributes\":{\"fill_alpha\":{\"value\":0.7},\"fill_color\":{\"value\":\"#f22c40\"},\"line_color\":{\"value\":\"#f22c40\"},\"size\":{\"units\":\"screen\",\"value\":8},\"x\":{\"field\":\"x_values\"},\"y\":{\"field\":\"y_values\"}},\"id\":\"5b1d55d6-e45a-4d7c-b832-c3dfb6385e6d\",\"type\":\"Circle\"},{\"attributes\":{},\"id\":\"7d78bbcd-c6cb-4bfd-9007-41f6d10a17fc\",\"type\":\"BasicTickFormatter\"},{\"attributes\":{\"plot\":{\"id\":\"9872ffe0-a624-4e8c-a649-0d961ede8cee\",\"subtype\":\"Chart\",\"type\":\"Plot\"},\"ticker\":{\"id\":\"ea9fd824-34ab-4585-8915-efe809612041\",\"type\":\"BasicTicker\"}},\"id\":\"de960855-069d-491b-84af-6d3852b7e23e\",\"type\":\"Grid\"},{\"attributes\":{\"callback\":null,\"end\":7.7,\"start\":-0.7000000000000001},\"id\":\"f7341c8a-0881-4a8e-8fcb-0aa7b3f66427\",\"type\":\"Range1d\"},{\"attributes\":{\"below\":[{\"id\":\"2c934e05-abd2-40e5-94a0-22a8ff80cef9\",\"type\":\"LinearAxis\"}],\"css_classes\":null,\"left\":[{\"id\":\"fc7913f2-4fb1-4276-81eb-d1b47e9946e7\",\"type\":\"LinearAxis\"}],\"renderers\":[{\"id\":\"cf8209e5-08b6-4098-b8ff-b5d6fcc549bc\",\"type\":\"BoxAnnotation\"},{\"id\":\"34cd2875-5118-4513-a565-e2cb14b0f65d\",\"type\":\"GlyphRenderer\"},{\"id\":\"7136d1d0-666f-4428-8f18-70ab03e2cd01\",\"type\":\"GlyphRenderer\"},{\"id\":\"788bddec-594b-4675-a663-9639f8985182\",\"type\":\"Legend\"},{\"id\":\"2c934e05-abd2-40e5-94a0-22a8ff80cef9\",\"type\":\"LinearAxis\"},{\"id\":\"fc7913f2-4fb1-4276-81eb-d1b47e9946e7\",\"type\":\"LinearAxis\"},{\"id\":\"de960855-069d-491b-84af-6d3852b7e23e\",\"type\":\"Grid\"},{\"id\":\"e208f9f1-ab39-4e5d-9dd2-638d1f3379e9\",\"type\":\"Grid\"}],\"title\":{\"id\":\"0d4b871e-b981-4e0e-8ed9-1c3e6353490c\",\"type\":\"Title\"},\"tool_events\":{\"id\":\"f527ea94-4f86-4fb8-818d-30c109eb2969\",\"type\":\"ToolEvents\"},\"toolbar\":{\"id\":\"b997634f-08ee-406d-a658-a97a19cf8932\",\"type\":\"Toolbar\"},\"x_mapper_type\":\"auto\",\"x_range\":{\"id\":\"2b539cb6-fa9d-44f1-aa50-e07c7ad3d39c\",\"type\":\"Range1d\"},\"y_mapper_type\":\"auto\",\"y_range\":{\"id\":\"f7341c8a-0881-4a8e-8fcb-0aa7b3f66427\",\"type\":\"Range1d\"}},\"id\":\"9872ffe0-a624-4e8c-a649-0d961ede8cee\",\"subtype\":\"Chart\",\"type\":\"Plot\"},{\"attributes\":{\"fill_alpha\":{\"value\":0.7},\"fill_color\":{\"value\":\"#5ab738\"},\"line_color\":{\"value\":\"#5ab738\"},\"size\":{\"units\":\"screen\",\"value\":8},\"x\":{\"field\":\"x_values\"},\"y\":{\"field\":\"y_values\"}},\"id\":\"f33904dc-4cf1-494b-b4ab-7216245dc24c\",\"type\":\"Circle\"},{\"attributes\":{\"callback\":null,\"column_names\":[\"y_values\",\"x_values\"],\"data\":{\"chart_index\":[{\"target\":1},{\"target\":1},{\"target\":1},{\"target\":1},{\"target\":1},{\"target\":1},{\"target\":1},{\"target\":1},{\"target\":1},{\"target\":1},{\"target\":1},{\"target\":1},{\"target\":1},{\"target\":1},{\"target\":1},{\"target\":1},{\"target\":1},{\"target\":1},{\"target\":1},{\"target\":1},{\"target\":1},{\"target\":1},{\"target\":1},{\"target\":1},{\"target\":1},{\"target\":1},{\"target\":1},{\"target\":1},{\"target\":1},{\"target\":1},{\"target\":1},{\"target\":1},{\"target\":1},{\"target\":1},{\"target\":1},{\"target\":1},{\"target\":1},{\"target\":1},{\"target\":1},{\"target\":1},{\"target\":1},{\"target\":1},{\"target\":1},{\"target\":1},{\"target\":1},{\"target\":1},{\"target\":1},{\"target\":1},{\"target\":1},{\"target\":1},{\"target\":1},{\"target\":1},{\"target\":1},{\"target\":1},{\"target\":1},{\"target\":1},{\"target\":1},{\"target\":1},{\"target\":1},{\"target\":1},{\"target\":1},{\"target\":1},{\"target\":1},{\"target\":1},{\"target\":1},{\"target\":1},{\"target\":1},{\"target\":1},{\"target\":1},{\"target\":1},{\"target\":1},{\"target\":1},{\"target\":1},{\"target\":1},{\"target\":1},{\"target\":1},{\"target\":1},{\"target\":1},{\"target\":1},{\"target\":1},{\"target\":1},{\"target\":1},{\"target\":1},{\"target\":1},{\"target\":1},{\"target\":1},{\"target\":1},{\"target\":1},{\"target\":1},{\"target\":1},{\"target\":1},{\"target\":1},{\"target\":1},{\"target\":1},{\"target\":1},{\"target\":1},{\"target\":1},{\"target\":1},{\"target\":1},{\"target\":1},{\"target\":1},{\"target\":1},{\"target\":1},{\"target\":1},{\"target\":1},{\"target\":1},{\"target\":1},{\"target\":1},{\"target\":1},{\"target\":1},{\"target\":1},{\"target\":1},{\"target\":1},{\"target\":1},{\"target\":1},{\"target\":1},{\"target\":1},{\"target\":1},{\"target\":1},{\"target\":1},{\"target\":1},{\"target\":1},{\"target\":1},{\"target\":1},{\"target\":1},{\"target\":1},{\"target\":1},{\"target\":1},{\"target\":1},{\"target\":1},{\"target\":1},{\"target\":1},{\"target\":1},{\"target\":1},{\"target\":1},{\"target\":1},{\"target\":1},{\"target\":1},{\"target\":1},{\"target\":1},{\"target\":1},{\"target\":1},{\"target\":1},{\"target\":1},{\"target\":1},{\"target\":1},{\"target\":1},{\"target\":1},{\"target\":1},{\"target\":1},{\"target\":1},{\"target\":1},{\"target\":1},{\"target\":1},{\"target\":1},{\"target\":1},{\"target\":1},{\"target\":1},{\"target\":1},{\"target\":1},{\"target\":1},{\"target\":1},{\"target\":1},{\"target\":1},{\"target\":1},{\"target\":1},{\"target\":1},{\"target\":1},{\"target\":1},{\"target\":1},{\"target\":1},{\"target\":1},{\"target\":1},{\"target\":1},{\"target\":1},{\"target\":1},{\"target\":1},{\"target\":1},{\"target\":1},{\"target\":1},{\"target\":1},{\"target\":1},{\"target\":1},{\"target\":1},{\"target\":1},{\"target\":1},{\"target\":1},{\"target\":1},{\"target\":1},{\"target\":1},{\"target\":1},{\"target\":1},{\"target\":1},{\"target\":1},{\"target\":1},{\"target\":1},{\"target\":1},{\"target\":1},{\"target\":1},{\"target\":1},{\"target\":1},{\"target\":1},{\"target\":1},{\"target\":1},{\"target\":1},{\"target\":1},{\"target\":1},{\"target\":1},{\"target\":1},{\"target\":1},{\"target\":1},{\"target\":1},{\"target\":1},{\"target\":1},{\"target\":1},{\"target\":1},{\"target\":1},{\"target\":1},{\"target\":1},{\"target\":1},{\"target\":1},{\"target\":1},{\"target\":1},{\"target\":1},{\"target\":1},{\"target\":1},{\"target\":1},{\"target\":1},{\"target\":1},{\"target\":1},{\"target\":1},{\"target\":1},{\"target\":1},{\"target\":1},{\"target\":1},{\"target\":1},{\"target\":1},{\"target\":1},{\"target\":1},{\"target\":1},{\"target\":1},{\"target\":1},{\"target\":1},{\"target\":1},{\"target\":1},{\"target\":1},{\"target\":1},{\"target\":1},{\"target\":1},{\"target\":1},{\"target\":1},{\"target\":1},{\"target\":1},{\"target\":1},{\"target\":1},{\"target\":1},{\"target\":1},{\"target\":1},{\"target\":1},{\"target\":1},{\"target\":1},{\"target\":1},{\"target\":1},{\"target\":1},{\"target\":1},{\"target\":1},{\"target\":1},{\"target\":1},{\"target\":1},{\"target\":1},{\"target\":1},{\"target\":1},{\"target\":1},{\"target\":1},{\"target\":1},{\"target\":1},{\"target\":1},{\"target\":1},{\"target\":1},{\"target\":1},{\"target\":1},{\"target\":1},{\"target\":1},{\"target\":1},{\"target\":1},{\"target\":1},{\"target\":1},{\"target\":1},{\"target\":1},{\"target\":1},{\"target\":1},{\"target\":1},{\"target\":1},{\"target\":1},{\"target\":1},{\"target\":1},{\"target\":1},{\"target\":1},{\"target\":1},{\"target\":1},{\"target\":1},{\"target\":1},{\"target\":1},{\"target\":1},{\"target\":1},{\"target\":1},{\"target\":1},{\"target\":1},{\"target\":1},{\"target\":1},{\"target\":1},{\"target\":1},{\"target\":1},{\"target\":1},{\"target\":1},{\"target\":1},{\"target\":1},{\"target\":1},{\"target\":1},{\"target\":1},{\"target\":1},{\"target\":1},{\"target\":1},{\"target\":1},{\"target\":1},{\"target\":1},{\"target\":1},{\"target\":1},{\"target\":1},{\"target\":1},{\"target\":1},{\"target\":1},{\"target\":1},{\"target\":1},{\"target\":1},{\"target\":1},{\"target\":1},{\"target\":1},{\"target\":1},{\"target\":1},{\"target\":1},{\"target\":1},{\"target\":1},{\"target\":1},{\"target\":1},{\"target\":1},{\"target\":1},{\"target\":1},{\"target\":1},{\"target\":1},{\"target\":1},{\"target\":1},{\"target\":1},{\"target\":1},{\"target\":1},{\"target\":1},{\"target\":1},{\"target\":1},{\"target\":1},{\"target\":1},{\"target\":1},{\"target\":1},{\"target\":1},{\"target\":1},{\"target\":1},{\"target\":1},{\"target\":1},{\"target\":1},{\"target\":1},{\"target\":1},{\"target\":1},{\"target\":1},{\"target\":1},{\"target\":1},{\"target\":1},{\"target\":1},{\"target\":1},{\"target\":1},{\"target\":1},{\"target\":1},{\"target\":1},{\"target\":1},{\"target\":1},{\"target\":1},{\"target\":1},{\"target\":1},{\"target\":1},{\"target\":1},{\"target\":1},{\"target\":1},{\"target\":1},{\"target\":1},{\"target\":1},{\"target\":1},{\"target\":1},{\"target\":1},{\"target\":1},{\"target\":1},{\"target\":1},{\"target\":1},{\"target\":1},{\"target\":1},{\"target\":1},{\"target\":1},{\"target\":1},{\"target\":1},{\"target\":1},{\"target\":1},{\"target\":1},{\"target\":1},{\"target\":1},{\"target\":1},{\"target\":1},{\"target\":1},{\"target\":1},{\"target\":1},{\"target\":1},{\"target\":1},{\"target\":1},{\"target\":1},{\"target\":1},{\"target\":1},{\"target\":1},{\"target\":1},{\"target\":1},{\"target\":1},{\"target\":1},{\"target\":1},{\"target\":1},{\"target\":1},{\"target\":1},{\"target\":1},{\"target\":1},{\"target\":1},{\"target\":1},{\"target\":1},{\"target\":1},{\"target\":1},{\"target\":1},{\"target\":1},{\"target\":1},{\"target\":1},{\"target\":1},{\"target\":1},{\"target\":1},{\"target\":1},{\"target\":1},{\"target\":1},{\"target\":1},{\"target\":1},{\"target\":1},{\"target\":1},{\"target\":1},{\"target\":1},{\"target\":1},{\"target\":1},{\"target\":1},{\"target\":1},{\"target\":1},{\"target\":1},{\"target\":1},{\"target\":1},{\"target\":1},{\"target\":1},{\"target\":1},{\"target\":1},{\"target\":1},{\"target\":1},{\"target\":1},{\"target\":1},{\"target\":1},{\"target\":1},{\"target\":1},{\"target\":1},{\"target\":1},{\"target\":1},{\"target\":1},{\"target\":1},{\"target\":1},{\"target\":1},{\"target\":1},{\"target\":1},{\"target\":1},{\"target\":1},{\"target\":1},{\"target\":1},{\"target\":1},{\"target\":1},{\"target\":1},{\"target\":1},{\"target\":1},{\"target\":1},{\"target\":1},{\"target\":1},{\"target\":1},{\"target\":1},{\"target\":1},{\"target\":1},{\"target\":1},{\"target\":1},{\"target\":1},{\"target\":1},{\"target\":1},{\"target\":1},{\"target\":1},{\"target\":1},{\"target\":1},{\"target\":1},{\"target\":1},{\"target\":1},{\"target\":1},{\"target\":1},{\"target\":1},{\"target\":1},{\"target\":1},{\"target\":1},{\"target\":1},{\"target\":1},{\"target\":1},{\"target\":1},{\"target\":1},{\"target\":1},{\"target\":1},{\"target\":1},{\"target\":1},{\"target\":1},{\"target\":1},{\"target\":1},{\"target\":1},{\"target\":1},{\"target\":1},{\"target\":1},{\"target\":1},{\"target\":1},{\"target\":1},{\"target\":1},{\"target\":1},{\"target\":1},{\"target\":1},{\"target\":1},{\"target\":1},{\"target\":1},{\"target\":1},{\"target\":1},{\"target\":1},{\"target\":1},{\"target\":1},{\"target\":1},{\"target\":1},{\"target\":1},{\"target\":1},{\"target\":1},{\"target\":1},{\"target\":1},{\"target\":1},{\"target\":1},{\"target\":1},{\"target\":1},{\"target\":1},{\"target\":1},{\"target\":1},{\"target\":1},{\"target\":1},{\"target\":1},{\"target\":1},{\"target\":1},{\"target\":1},{\"target\":1},{\"target\":1},{\"target\":1},{\"target\":1},{\"target\":1},{\"target\":1},{\"target\":1},{\"target\":1},{\"target\":1},{\"target\":1},{\"target\":1},{\"target\":1},{\"target\":1},{\"target\":1},{\"target\":1},{\"target\":1},{\"target\":1},{\"target\":1},{\"target\":1},{\"target\":1},{\"target\":1},{\"target\":1},{\"target\":1},{\"target\":1},{\"target\":1},{\"target\":1},{\"target\":1},{\"target\":1},{\"target\":1},{\"target\":1},{\"target\":1},{\"target\":1},{\"target\":1},{\"target\":1},{\"target\":1},{\"target\":1},{\"target\":1},{\"target\":1},{\"target\":1},{\"target\":1},{\"target\":1},{\"target\":1},{\"target\":1},{\"target\":1},{\"target\":1},{\"target\":1},{\"target\":1},{\"target\":1},{\"target\":1},{\"target\":1},{\"target\":1},{\"target\":1},{\"target\":1},{\"target\":1},{\"target\":1},{\"target\":1},{\"target\":1},{\"target\":1},{\"target\":1},{\"target\":1},{\"target\":1},{\"target\":1},{\"target\":1},{\"target\":1},{\"target\":1},{\"target\":1},{\"target\":1},{\"target\":1},{\"target\":1},{\"target\":1},{\"target\":1},{\"target\":1},{\"target\":1},{\"target\":1},{\"target\":1},{\"target\":1},{\"target\":1},{\"target\":1},{\"target\":1},{\"target\":1},{\"target\":1},{\"target\":1},{\"target\":1},{\"target\":1},{\"target\":1},{\"target\":1},{\"target\":1},{\"target\":1},{\"target\":1},{\"target\":1},{\"target\":1},{\"target\":1},{\"target\":1},{\"target\":1},{\"target\":1},{\"target\":1},{\"target\":1},{\"target\":1},{\"target\":1},{\"target\":1},{\"target\":1},{\"target\":1},{\"target\":1},{\"target\":1},{\"target\":1},{\"target\":1},{\"target\":1},{\"target\":1},{\"target\":1},{\"target\":1},{\"target\":1},{\"target\":1},{\"target\":1},{\"target\":1},{\"target\":1},{\"target\":1},{\"target\":1},{\"target\":1},{\"target\":1},{\"target\":1},{\"target\":1},{\"target\":1},{\"target\":1},{\"target\":1},{\"target\":1},{\"target\":1},{\"target\":1},{\"target\":1},{\"target\":1},{\"target\":1},{\"target\":1},{\"target\":1},{\"target\":1},{\"target\":1},{\"target\":1},{\"target\":1},{\"target\":1},{\"target\":1},{\"target\":1},{\"target\":1},{\"target\":1},{\"target\":1},{\"target\":1},{\"target\":1},{\"target\":1},{\"target\":1},{\"target\":1},{\"target\":1},{\"target\":1},{\"target\":1},{\"target\":1},{\"target\":1},{\"target\":1},{\"target\":1},{\"target\":1},{\"target\":1},{\"target\":1},{\"target\":1},{\"target\":1},{\"target\":1},{\"target\":1},{\"target\":1},{\"target\":1},{\"target\":1},{\"target\":1},{\"target\":1},{\"target\":1},{\"target\":1},{\"target\":1},{\"target\":1},{\"target\":1},{\"target\":1},{\"target\":1},{\"target\":1},{\"target\":1},{\"target\":1},{\"target\":1},{\"target\":1},{\"target\":1},{\"target\":1},{\"target\":1},{\"target\":1},{\"target\":1},{\"target\":1},{\"target\":1},{\"target\":1},{\"target\":1},{\"target\":1},{\"target\":1},{\"target\":1},{\"target\":1},{\"target\":1},{\"target\":1},{\"target\":1},{\"target\":1},{\"target\":1},{\"target\":1},{\"target\":1},{\"target\":1},{\"target\":1},{\"target\":1},{\"target\":1},{\"target\":1},{\"target\":1},{\"target\":1},{\"target\":1},{\"target\":1},{\"target\":1},{\"target\":1},{\"target\":1},{\"target\":1},{\"target\":1},{\"target\":1},{\"target\":1},{\"target\":1},{\"target\":1},{\"target\":1},{\"target\":1},{\"target\":1},{\"target\":1},{\"target\":1},{\"target\":1},{\"target\":1},{\"target\":1},{\"target\":1},{\"target\":1},{\"target\":1},{\"target\":1},{\"target\":1},{\"target\":1},{\"target\":1},{\"target\":1},{\"target\":1},{\"target\":1},{\"target\":1},{\"target\":1},{\"target\":1},{\"target\":1},{\"target\":1},{\"target\":1},{\"target\":1},{\"target\":1},{\"target\":1},{\"target\":1},{\"target\":1},{\"target\":1},{\"target\":1},{\"target\":1},{\"target\":1},{\"target\":1},{\"target\":1},{\"target\":1},{\"target\":1},{\"target\":1},{\"target\":1},{\"target\":1},{\"target\":1},{\"target\":1},{\"target\":1},{\"target\":1},{\"target\":1},{\"target\":1},{\"target\":1},{\"target\":1},{\"target\":1},{\"target\":1},{\"target\":1},{\"target\":1},{\"target\":1},{\"target\":1},{\"target\":1},{\"target\":1},{\"target\":1},{\"target\":1},{\"target\":1},{\"target\":1},{\"target\":1},{\"target\":1},{\"target\":1},{\"target\":1},{\"target\":1},{\"target\":1},{\"target\":1},{\"target\":1},{\"target\":1},{\"target\":1},{\"target\":1},{\"target\":1},{\"target\":1},{\"target\":1},{\"target\":1},{\"target\":1},{\"target\":1},{\"target\":1},{\"target\":1},{\"target\":1},{\"target\":1},{\"target\":1},{\"target\":1},{\"target\":1},{\"target\":1},{\"target\":1},{\"target\":1},{\"target\":1},{\"target\":1},{\"target\":1},{\"target\":1},{\"target\":1},{\"target\":1},{\"target\":1},{\"target\":1},{\"target\":1},{\"target\":1},{\"target\":1},{\"target\":1},{\"target\":1},{\"target\":1},{\"target\":1},{\"target\":1},{\"target\":1},{\"target\":1},{\"target\":1},{\"target\":1},{\"target\":1},{\"target\":1},{\"target\":1},{\"target\":1},{\"target\":1},{\"target\":1},{\"target\":1},{\"target\":1},{\"target\":1},{\"target\":1},{\"target\":1},{\"target\":1},{\"target\":1},{\"target\":1},{\"target\":1},{\"target\":1},{\"target\":1},{\"target\":1},{\"target\":1},{\"target\":1},{\"target\":1},{\"target\":1},{\"target\":1},{\"target\":1},{\"target\":1},{\"target\":1},{\"target\":1},{\"target\":1},{\"target\":1},{\"target\":1},{\"target\":1},{\"target\":1},{\"target\":1},{\"target\":1},{\"target\":1},{\"target\":1},{\"target\":1},{\"target\":1},{\"target\":1},{\"target\":1},{\"target\":1},{\"target\":1},{\"target\":1},{\"target\":1},{\"target\":1},{\"target\":1},{\"target\":1},{\"target\":1},{\"target\":1},{\"target\":1},{\"target\":1},{\"target\":1},{\"target\":1},{\"target\":1},{\"target\":1},{\"target\":1},{\"target\":1},{\"target\":1},{\"target\":1},{\"target\":1},{\"target\":1},{\"target\":1},{\"target\":1},{\"target\":1},{\"target\":1},{\"target\":1},{\"target\":1},{\"target\":1},{\"target\":1},{\"target\":1},{\"target\":1},{\"target\":1},{\"target\":1},{\"target\":1},{\"target\":1},{\"target\":1},{\"target\":1},{\"target\":1},{\"target\":1},{\"target\":1},{\"target\":1},{\"target\":1},{\"target\":1},{\"target\":1},{\"target\":1},{\"target\":1},{\"target\":1},{\"target\":1},{\"target\":1},{\"target\":1},{\"target\":1},{\"target\":1},{\"target\":1},{\"target\":1},{\"target\":1},{\"target\":1},{\"target\":1},{\"target\":1},{\"target\":1},{\"target\":1},{\"target\":1},{\"target\":1},{\"target\":1},{\"target\":1},{\"target\":1},{\"target\":1},{\"target\":1},{\"target\":1},{\"target\":1},{\"target\":1},{\"target\":1},{\"target\":1},{\"target\":1},{\"target\":1},{\"target\":1},{\"target\":1},{\"target\":1},{\"target\":1},{\"target\":1},{\"target\":1},{\"target\":1},{\"target\":1},{\"target\":1},{\"target\":1},{\"target\":1},{\"target\":1},{\"target\":1},{\"target\":1},{\"target\":1},{\"target\":1},{\"target\":1},{\"target\":1},{\"target\":1},{\"target\":1},{\"target\":1},{\"target\":1},{\"target\":1},{\"target\":1},{\"target\":1},{\"target\":1},{\"target\":1},{\"target\":1},{\"target\":1},{\"target\":1},{\"target\":1},{\"target\":1},{\"target\":1},{\"target\":1},{\"target\":1},{\"target\":1},{\"target\":1},{\"target\":1},{\"target\":1},{\"target\":1},{\"target\":1},{\"target\":1},{\"target\":1},{\"target\":1},{\"target\":1},{\"target\":1},{\"target\":1},{\"target\":1},{\"target\":1},{\"target\":1},{\"target\":1},{\"target\":1},{\"target\":1},{\"target\":1},{\"target\":1},{\"target\":1},{\"target\":1},{\"target\":1},{\"target\":1},{\"target\":1},{\"target\":1},{\"target\":1},{\"target\":1},{\"target\":1},{\"target\":1},{\"target\":1},{\"target\":1},{\"target\":1},{\"target\":1},{\"target\":1},{\"target\":1},{\"target\":1},{\"target\":1},{\"target\":1},{\"target\":1},{\"target\":1},{\"target\":1},{\"target\":1},{\"target\":1},{\"target\":1},{\"target\":1},{\"target\":1},{\"target\":1},{\"target\":1},{\"target\":1},{\"target\":1},{\"target\":1},{\"target\":1},{\"target\":1},{\"target\":1},{\"target\":1},{\"target\":1},{\"target\":1},{\"target\":1},{\"target\":1},{\"target\":1},{\"target\":1},{\"target\":1},{\"target\":1},{\"target\":1},{\"target\":1},{\"target\":1},{\"target\":1},{\"target\":1},{\"target\":1},{\"target\":1},{\"target\":1},{\"target\":1},{\"target\":1},{\"target\":1},{\"target\":1},{\"target\":1},{\"target\":1},{\"target\":1},{\"target\":1},{\"target\":1},{\"target\":1},{\"target\":1},{\"target\":1},{\"target\":1},{\"target\":1},{\"target\":1},{\"target\":1},{\"target\":1},{\"target\":1},{\"target\":1},{\"target\":1},{\"target\":1},{\"target\":1},{\"target\":1},{\"target\":1},{\"target\":1},{\"target\":1},{\"target\":1},{\"target\":1},{\"target\":1},{\"target\":1},{\"target\":1},{\"target\":1},{\"target\":1},{\"target\":1},{\"target\":1},{\"target\":1},{\"target\":1},{\"target\":1},{\"target\":1},{\"target\":1},{\"target\":1},{\"target\":1},{\"target\":1},{\"target\":1},{\"target\":1},{\"target\":1},{\"target\":1},{\"target\":1},{\"target\":1},{\"target\":1},{\"target\":1},{\"target\":1},{\"target\":1},{\"target\":1},{\"target\":1},{\"target\":1},{\"target\":1},{\"target\":1},{\"target\":1}],\"target\":[1,1,1,1,1,1,1,1,1,1,1,1,1,1,1,1,1,1,1,1,1,1,1,1,1,1,1,1,1,1,1,1,1,1,1,1,1,1,1,1,1,1,1,1,1,1,1,1,1,1,1,1,1,1,1,1,1,1,1,1,1,1,1,1,1,1,1,1,1,1,1,1,1,1,1,1,1,1,1,1,1,1,1,1,1,1,1,1,1,1,1,1,1,1,1,1,1,1,1,1,1,1,1,1,1,1,1,1,1,1,1,1,1,1,1,1,1,1,1,1,1,1,1,1,1,1,1,1,1,1,1,1,1,1,1,1,1,1,1,1,1,1,1,1,1,1,1,1,1,1,1,1,1,1,1,1,1,1,1,1,1,1,1,1,1,1,1,1,1,1,1,1,1,1,1,1,1,1,1,1,1,1,1,1,1,1,1,1,1,1,1,1,1,1,1,1,1,1,1,1,1,1,1,1,1,1,1,1,1,1,1,1,1,1,1,1,1,1,1,1,1,1,1,1,1,1,1,1,1,1,1,1,1,1,1,1,1,1,1,1,1,1,1,1,1,1,1,1,1,1,1,1,1,1,1,1,1,1,1,1,1,1,1,1,1,1,1,1,1,1,1,1,1,1,1,1,1,1,1,1,1,1,1,1,1,1,1,1,1,1,1,1,1,1,1,1,1,1,1,1,1,1,1,1,1,1,1,1,1,1,1,1,1,1,1,1,1,1,1,1,1,1,1,1,1,1,1,1,1,1,1,1,1,1,1,1,1,1,1,1,1,1,1,1,1,1,1,1,1,1,1,1,1,1,1,1,1,1,1,1,1,1,1,1,1,1,1,1,1,1,1,1,1,1,1,1,1,1,1,1,1,1,1,1,1,1,1,1,1,1,1,1,1,1,1,1,1,1,1,1,1,1,1,1,1,1,1,1,1,1,1,1,1,1,1,1,1,1,1,1,1,1,1,1,1,1,1,1,1,1,1,1,1,1,1,1,1,1,1,1,1,1,1,1,1,1,1,1,1,1,1,1,1,1,1,1,1,1,1,1,1,1,1,1,1,1,1,1,1,1,1,1,1,1,1,1,1,1,1,1,1,1,1,1,1,1,1,1,1,1,1,1,1,1,1,1,1,1,1,1,1,1,1,1,1,1,1,1,1,1,1,1,1,1,1,1,1,1,1,1,1,1,1,1,1,1,1,1,1,1,1,1,1,1,1,1,1,1,1,1,1,1,1,1,1,1,1,1,1,1,1,1,1,1,1,1,1,1,1,1,1,1,1,1,1,1,1,1,1,1,1,1,1,1,1,1,1,1,1,1,1,1,1,1,1,1,1,1,1,1,1,1,1,1,1,1,1,1,1,1,1,1,1,1,1,1,1,1,1,1,1,1,1,1,1,1,1,1,1,1,1,1,1,1,1,1,1,1,1,1,1,1,1,1,1,1,1,1,1,1,1,1,1,1,1,1,1,1,1,1,1,1,1,1,1,1,1,1,1,1,1,1,1,1,1,1,1,1,1,1,1,1,1,1,1,1,1,1,1,1,1,1,1,1,1,1,1,1,1,1,1,1,1,1,1,1,1,1,1,1,1,1,1,1,1,1,1,1,1,1,1,1,1,1,1,1,1,1,1,1,1,1,1,1,1,1,1,1,1,1,1,1,1,1,1,1,1,1,1,1,1,1,1,1,1,1,1,1,1,1,1,1,1,1,1,1,1,1,1,1,1,1,1,1,1,1,1,1,1,1,1,1,1,1,1,1,1,1,1,1,1,1,1,1,1,1,1,1,1,1,1,1,1,1,1,1,1,1,1,1,1,1,1,1,1,1,1,1,1,1,1,1,1,1,1,1,1,1,1,1,1,1,1,1,1,1,1,1,1,1,1,1,1,1,1,1,1,1,1,1,1,1,1,1,1,1,1,1,1,1,1,1,1,1,1,1,1,1,1,1,1,1,1,1,1,1,1,1,1,1,1,1,1,1,1,1,1,1,1,1,1,1,1,1,1,1,1,1,1,1,1,1,1,1,1,1,1,1,1,1,1,1,1,1,1,1,1,1,1,1,1,1,1,1,1,1,1,1,1,1,1,1,1,1,1,1,1,1,1,1,1,1,1,1,1,1,1,1,1,1,1,1,1,1,1,1,1,1,1,1,1,1,1,1,1,1,1,1,1,1,1,1,1,1,1,1,1,1,1,1,1,1,1,1,1,1,1,1,1,1,1,1,1,1,1,1,1,1,1,1,1,1,1,1,1,1,1,1,1,1,1,1,1,1,1,1,1,1,1,1,1,1,1,1,1,1,1,1,1,1,1,1,1,1,1,1,1,1,1,1,1,1,1,1,1,1,1,1,1,1,1,1,1,1,1,1,1,1,1,1,1,1,1,1,1,1,1,1,1,1,1,1,1,1,1,1,1,1,1,1,1,1,1,1,1,1,1,1,1,1,1,1,1,1,1,1,1,1,1,1,1,1,1,1,1,1,1,1,1,1,1,1,1,1,1,1,1,1,1,1,1,1,1,1,1,1,1,1,1,1,1,1,1,1,1,1,1,1,1,1,1,1,1,1,1,1,1,1,1,1,1,1,1,1,1,1,1,1,1,1,1,1,1,1,1,1,1,1,1,1,1,1,1,1,1,1,1,1,1,1],\"x_values\":{\"__ndarray__\":\"AgIFBQIFBQUCBQMCBQUCAgICAgICAgUCAgIFAgUFBQIFBQUCAgICAQIFBQIFAgUFAgUFBQIFBQUFAgUCBQUCAgIFAgAFAgICAAIAAgICAgUFBQIFBQICBQIFAgIFBQUCBQICBQICAgUCBQIFAgUCAgUCAgUFAgUFBQIFBQUFBQICAgIDAgUCBQUCBQIFAgIFBQUCBQUCBQICBQUFBQUCBQUCBQICBQUCBQIFBQUFAgIFAgUFAgIFAgIFAgICBQICAgUFAgICBQUFAgUFBQICBQUCAgUCAgUCBQIFBQICAgUFAgICAgUFAgUCBQIFAgUFAgICAgUFAgICAgUFBQIFBQUCAgICBQICAgUCAgIFAgUFAgIFAgUFBQIFBQUFAgUFAgACBQUCBQMCBQUFBQIFAgUFBQICBQICAgUFBQIFBQUFBQUCBQUFBQUFAgICBQUCBQICBQUABQUCAgIFAgICAgICBQICBQICBQICBQUFAgUCBQIFBQUCBQUFBQUFBQUCBQUCAgUCAgUCBQUFBQUCBQIFAgICAgIFBQIFBQUCBQEFBQACBQICBQUCAgUCAgICAAICAgIFAgICBQUFBQUABQUFBQICAgUCBQUFAgICAgUFBQUCBQUFBQICAgUFBQICBQICBQICBQUFAgIFAgICAgUCBQUCBQUCBQIFBQUCAgUFAgUCAgICAgUFBQUCAgICAgICAgIFAgUCBQUCAgIFBQICBQUCBQICBQICAgUCAgUCBQICAgUFAAUFBQUFBQIFBQUCAgUCBQUFAgUCBQUFAgUFAgUFBQUFAgIFAgUFBQUCBQIFAgUFAgICBQIFBQIFBQUFAgIFBQUCAgICBQACBQIFBQIFAgUFAgUCBQIFAgIFAgIFAgIAAgUCAgUFBQUCAgUCBQICAgICBQUFBQUCBQUFBQUCAgUFBQIFBQUCBQUFBQIDBQUFAgIFBQIFBQIFBQIFAgIFBQIFAgIFAgUFAgIFAgIAAgUFAgUFBQUFBQIFAgUCAgUCAgIFAgIFBQICBQUFAgUFBQICBQICBQICBQUFBQUCAgICAgUCAgUFAgICBQUAAgIFBQUFAwUAAgIFBQUFBQIFAgUFBQUFBQUFBQUFBQICBQUCAgICBQICAgUFAgUFBQUFAgICAgUCAgUFBQUFAgIFBQUFBQIFAgUCAgMCBQIFBQUFAgUCAgUAAgUCBQUCBQUCAgIABQIFAgUCAgIFBQUCBQIFBQUFBQUFAgIFAgUCBQICBQUCAgICAgIFAgUCAgICBQUFBQICAgICAgUFBQUCBQUFBQUCBQUFBQICBQIFAgICAgIFBQUFBQUFAgUFBQICBQIFBQUFBQICBQICBQUCBQUFBQUCAgIFBQIFBQIFAwUCBQICBQIFAgIFBQUFAgIFAgUAAwUCAgIFBQUCAgUFAgUFBQUFBQUCBQUCAgIFAgUCAgIFAgICAgICAgICBQUCBQIDAgUFAgIFBQIFBQIFAgICBQIFBQUFAgICBQICAgIFBQACAgICAgUFBQUCAgAFAgUCAgICAgICAAUFAgIFBQIFBQUFAgUFBQIC\",\"dtype\":\"int8\",\"shape\":[1170]},\"y_values\":{\"__ndarray__\":\"BgcDAAcDAwMEAwEAAwcHBwMDAwcHAQQAAwcHBgMDBAcHBwMDAwcEBwMHBwIGBgUDBwcHBwcDBgMHBwMHBgMDBQMDBwAHBwMHAAYGBwMEAAMFBgcHAwYHAwcGAwQHAwMAAwYHAwADBgMHAAMGAwMDAwQGAwUGBwMHBwQFBgcHBwMAAwMEAAYHBwUDAwYHBwMCAwQDBAUDBwMDAwMHBwYDAwMHAwMEBwMEAwADAwMHBwcGBwUHAwcGBwMEBgcEBwMHBwcDBwMHBgcDBwMDBwMDAwMHAwcGAwMDAwMDBgADAwMGBgYGBwMDBwAHAQYDAwcEAwcHBgcDAwcDAwMGBwMDAwMEAwMFBgQHAwYDAwYHBwcHAwcHAwYHBwMGBwYDBwYDAwAHAwYEAwcEBwcHAAMHBAMDAwcAAwcGBwYDBAMDBgMEBAYDAwMHAwMEAwMHBgMHAwMHAwcGBgYABAcHAwMGBwUDBgMHAwMHAwcDAwMHAwcHBgMFAwcHAwMHBwMDBgYGAwMGBwMEBwcDAwcHBgMGAwMDBgcDBwQGBgMDBQYGBwYDAwYHBwMABgYDBwMGBgQEBQMHBwYHAwQHAwMHBgUHBwMDAwcAAAMHAwMHAwMEBgYDBwMDAwMHAwcEAwYHAAMDAAMHBwQDBwcDAwAHAwMDAAMDBQMGAwMHBwMGAwYGAwYDBgcGBwcDBgUDAwMAAwMDAwcHBAMDBwMHAQcGAwcDBwMABgMDAwMGBwMBBwUEAwMGAwcHAwcDBgMHBgMDAwcHAwMGBwMDAwYHBwcDAAYHBwcGBwYDAwMHBAYDAAcDAwYHAwAGAwMHBwMHBgMGAwQFBwcHAAQDBwcDBAcHAwUHAwcDBwMGBwYFAwQGBQMHAwcDBwMHAwMFAwMEBgMGAwcDBwUHBwMGBwMHBwcDAwYHBwAHBQYDBwcHAwMDBwYDAwADAwMGBQcHAwMFBwMDBgcGBgcHAwMGAwcDBwcGAwMDBwcHAwcABwcDAwMFAwYDAwMHBwcGBAQDAwMHAwMHBwYGBwMHBgUDAwMHBgMABQMHAwMDBAQEAwYHAAcHBgMGBwcGAwAFBwMHBwYEAgMFAwcHBwAHAwMBBgMGBgcHBQMDBwMEAwYDAwcHBAMEBgcDBwYDBwMABQMEBwAHBgcHAwYHBwMDAAcDAAMGAwcDBAYDBwEGAwMGAwcGAwcGBwMHBgQHBgMDBwMHBwQFBwMDBwcHAwcDAwQGBQcGBAcHBwMHBgMDAAcDAwcDAAMDAwQHBgMDBAADAAMDBwMDAwMDAwMEAwcDBwcHBAMEAwUDBAMDBAYGAwYHAwMHAwYAAwMGBwQDAwMHBwcDBgYGBgMHAwcHAwMFBQcHAwYDAwcHBwcDBwQGBgYEBwcABwMBBwcHBQcHAwADBwAGAwcGBAMDAwcGAwQDBAMDBwQEAwcDBwMHBwcEAwMDAwMDAAMAAwMDAwAHAwMHAwcDBgcEBgcHBgYHAAYABwADBwMDBwcHAAcGAwcEAwcHAAQHBwYHAAMDBwMEAwQHBwUDAwMHBwYDAwMGAAADBwcGAwMEAwcGBwMABgcD\",\"dtype\":\"int8\",\"shape\":[1170]}}},\"id\":\"ad1fd99d-573e-4df2-9654-a863442e29fb\",\"type\":\"ColumnDataSource\"},{\"attributes\":{},\"id\":\"bc7827a8-fe05-4b1d-8e3d-267d0d513926\",\"type\":\"BasicTicker\"},{\"attributes\":{\"plot\":{\"id\":\"9872ffe0-a624-4e8c-a649-0d961ede8cee\",\"subtype\":\"Chart\",\"type\":\"Plot\"}},\"id\":\"b553394f-20df-4f1b-8181-877d66db8c9e\",\"type\":\"PanTool\"},{\"attributes\":{\"data_source\":{\"id\":\"82b1f311-978c-4ffd-bd2e-59d92f8f48c5\",\"type\":\"ColumnDataSource\"},\"glyph\":{\"id\":\"5b1d55d6-e45a-4d7c-b832-c3dfb6385e6d\",\"type\":\"Circle\"},\"hover_glyph\":null,\"muted_glyph\":null},\"id\":\"34cd2875-5118-4513-a565-e2cb14b0f65d\",\"type\":\"GlyphRenderer\"},{\"attributes\":{},\"id\":\"1a568a84-2349-4fac-b37e-5ed81ee23fa3\",\"type\":\"BasicTickFormatter\"},{\"attributes\":{\"bottom_units\":\"screen\",\"fill_alpha\":{\"value\":0.5},\"fill_color\":{\"value\":\"lightgrey\"},\"left_units\":\"screen\",\"level\":\"overlay\",\"line_alpha\":{\"value\":1.0},\"line_color\":{\"value\":\"black\"},\"line_dash\":[4,4],\"line_width\":{\"value\":2},\"plot\":null,\"render_mode\":\"css\",\"right_units\":\"screen\",\"top_units\":\"screen\"},\"id\":\"cf8209e5-08b6-4098-b8ff-b5d6fcc549bc\",\"type\":\"BoxAnnotation\"}],\"root_ids\":[\"9872ffe0-a624-4e8c-a649-0d961ede8cee\"]},\"title\":\"Bokeh Application\",\"version\":\"0.12.5\"}};\n",
       "            var render_items = [{\"docid\":\"04ca3ff9-bda6-4ade-802f-92a153d90792\",\"elementid\":\"11f7cffa-9f10-4b12-87bd-c8b1a59aa74a\",\"modelid\":\"9872ffe0-a624-4e8c-a649-0d961ede8cee\"}];\n",
       "            \n",
       "            Bokeh.embed.embed_items(docs_json, render_items);\n",
       "          };\n",
       "          if (document.readyState != \"loading\") fn();\n",
       "          else document.addEventListener(\"DOMContentLoaded\", fn);\n",
       "        })();\n",
       "      },\n",
       "      function(Bokeh) {\n",
       "      }\n",
       "    ];\n",
       "  \n",
       "    function run_inline_js() {\n",
       "      \n",
       "      if ((window.Bokeh !== undefined) || (force === true)) {\n",
       "        for (var i = 0; i < inline_js.length; i++) {\n",
       "          inline_js[i](window.Bokeh);\n",
       "        }if (force === true) {\n",
       "          display_loaded();\n",
       "        }} else if (Date.now() < window._bokeh_timeout) {\n",
       "        setTimeout(run_inline_js, 100);\n",
       "      } else if (!window._bokeh_failed_load) {\n",
       "        console.log(\"Bokeh: BokehJS failed to load within specified timeout.\");\n",
       "        window._bokeh_failed_load = true;\n",
       "      } else if (force !== true) {\n",
       "        var cell = $(document.getElementById(\"11f7cffa-9f10-4b12-87bd-c8b1a59aa74a\")).parents('.cell').data().cell;\n",
       "        cell.output_area.append_execute_result(NB_LOAD_WARNING)\n",
       "      }\n",
       "  \n",
       "    }\n",
       "  \n",
       "    if (window._bokeh_is_loading === 0) {\n",
       "      console.log(\"Bokeh: BokehJS loaded, going straight to plotting\");\n",
       "      run_inline_js();\n",
       "    } else {\n",
       "      load_libs(js_urls, function() {\n",
       "        console.log(\"Bokeh: BokehJS plotting callback run at\", now());\n",
       "        run_inline_js();\n",
       "      });\n",
       "    }\n",
       "  }(this));\n",
       "</script>"
      ]
     },
     "metadata": {},
     "output_type": "display_data"
    }
   ],
   "source": [
    "show(p)"
   ]
  },
  {
   "cell_type": "code",
   "execution_count": 68,
   "metadata": {
    "collapsed": true
   },
   "outputs": [],
   "source": [
    "X = np.array(df.ix[:, 1:22])"
   ]
  },
  {
   "cell_type": "code",
   "execution_count": 69,
   "metadata": {
    "collapsed": false
   },
   "outputs": [],
   "source": [
    "y = np.array(df['target'])"
   ]
  },
  {
   "cell_type": "code",
   "execution_count": 70,
   "metadata": {
    "collapsed": false
   },
   "outputs": [],
   "source": [
    "# split into train and test\n",
    "X_train, X_test, y_train, y_test = train_test_split(X, y, test_size=0.33, random_state=42)"
   ]
  },
  {
   "cell_type": "code",
   "execution_count": 71,
   "metadata": {
    "collapsed": false
   },
   "outputs": [],
   "source": [
    "knn = KNeighborsClassifier(n_neighbors=3)"
   ]
  },
  {
   "cell_type": "code",
   "execution_count": 72,
   "metadata": {
    "collapsed": false
   },
   "outputs": [
    {
     "data": {
      "text/plain": [
       "KNeighborsClassifier(algorithm='auto', leaf_size=30, metric='minkowski',\n",
       "           metric_params=None, n_jobs=1, n_neighbors=3, p=2,\n",
       "           weights='uniform')"
      ]
     },
     "execution_count": 72,
     "metadata": {},
     "output_type": "execute_result"
    }
   ],
   "source": [
    "knn.fit(X_train, y_train)"
   ]
  },
  {
   "cell_type": "code",
   "execution_count": 73,
   "metadata": {
    "collapsed": true
   },
   "outputs": [],
   "source": [
    "pred = knn.predict(X_test)"
   ]
  },
  {
   "cell_type": "code",
   "execution_count": 74,
   "metadata": {
    "collapsed": false
   },
   "outputs": [
    {
     "name": "stdout",
     "output_type": "stream",
     "text": [
      "1.0\n"
     ]
    }
   ],
   "source": [
    "print(accuracy_score(y_test, pred))"
   ]
  },
  {
   "cell_type": "code",
   "execution_count": 79,
   "metadata": {
    "collapsed": false
   },
   "outputs": [],
   "source": [
    "trained_model = knn.fit(X_train, y_train)"
   ]
  },
  {
   "cell_type": "code",
   "execution_count": 80,
   "metadata": {
    "collapsed": false
   },
   "outputs": [
    {
     "data": {
      "text/plain": [
       "0.99950248756218907"
      ]
     },
     "execution_count": 80,
     "metadata": {},
     "output_type": "execute_result"
    }
   ],
   "source": [
    "trained_model.score(X_train, y_train)"
   ]
  },
  {
   "cell_type": "code",
   "execution_count": null,
   "metadata": {
    "collapsed": true
   },
   "outputs": [],
   "source": []
  }
 ],
 "metadata": {
  "kernelspec": {
   "display_name": "Python 3",
   "language": "python",
   "name": "python3"
  },
  "language_info": {
   "codemirror_mode": {
    "name": "ipython",
    "version": 3
   },
   "file_extension": ".py",
   "mimetype": "text/x-python",
   "name": "python",
   "nbconvert_exporter": "python",
   "pygments_lexer": "ipython3",
   "version": "3.4.3"
  }
 },
 "nbformat": 4,
 "nbformat_minor": 0
}

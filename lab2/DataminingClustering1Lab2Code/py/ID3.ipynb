{
 "cells": [
  {
   "cell_type": "code",
   "execution_count": 3,
   "metadata": {
    "collapsed": true
   },
   "outputs": [],
   "source": [
    "from math import log\n",
    "import operator\n",
    "import pandas as pd"
   ]
  },
  {
   "cell_type": "code",
   "execution_count": 4,
   "metadata": {
    "collapsed": true
   },
   "outputs": [],
   "source": [
    "# column names\n",
    "names = [\"target\", \"cap-shape\", \"cap-surface\", \"cap-color\", \"bruises\",\n",
    "        \"odor\", \"gill-attachment\", \"gill-spacing\", \"gill-size\",\n",
    "        \"gill-color\", \"stalk-shape\", \"stalk-root\", \"stalk-surface-above-ring\",\n",
    "        \"stalk-surface-below-ring\", \"stalk-color-above-ring\", \"stalk-color-below-ring\",\n",
    "        \"veil-type\", \"veil-color\", \"ring-number\", \"ring-type\", \"spore-print-color\",\n",
    "        \"population\", \"habitat\"]"
   ]
  },
  {
   "cell_type": "code",
   "execution_count": 5,
   "metadata": {
    "collapsed": false
   },
   "outputs": [],
   "source": [
    "# training data\n",
    "df = pd.read_csv('../Resources/agaricus-lepiotadata.txt', header=None, names=names)"
   ]
  },
  {
   "cell_type": "code",
   "execution_count": 6,
   "metadata": {
    "collapsed": true
   },
   "outputs": [],
   "source": [
    "# select all columns of type object\n",
    "cat_columns = df.select_dtypes(['object']).columns"
   ]
  },
  {
   "cell_type": "code",
   "execution_count": 7,
   "metadata": {
    "collapsed": true
   },
   "outputs": [],
   "source": [
    "# convert all object columns to type category\n",
    "df[cat_columns] = df[cat_columns].apply(lambda x: x.astype('category'))"
   ]
  },
  {
   "cell_type": "code",
   "execution_count": 8,
   "metadata": {
    "collapsed": true
   },
   "outputs": [],
   "source": [
    "# convert categorical data to numeric\n",
    "df[cat_columns] = df[cat_columns].apply(lambda x: x.cat.codes)"
   ]
  },
  {
   "cell_type": "code",
   "execution_count": 9,
   "metadata": {
    "collapsed": false
   },
   "outputs": [],
   "source": [
    "# convert DataFrame to 2D-list\n",
    "data = df.values.tolist()"
   ]
  },
  {
   "cell_type": "code",
   "execution_count": 10,
   "metadata": {
    "collapsed": false
   },
   "outputs": [],
   "source": [
    "def entropy(data):\n",
    "    # calculate the entropy of a data set\n",
    "    \n",
    "    entries = len(data)\n",
    "    labels = {}\n",
    "    # import pdb; pdb.set_trace()\n",
    "    for row in data:\n",
    "        label = row[0]\n",
    "        if label not in labels.keys():\n",
    "            labels[label] = 0\n",
    "        labels[label] += 1\n",
    "    entropy = 0.0\n",
    "    for key in labels:\n",
    "        probability = float(labels[key])/entries\n",
    "        entropy -= probability * log(probability, 2)\n",
    "    return entropy"
   ]
  },
  {
   "cell_type": "code",
   "execution_count": 11,
   "metadata": {
    "collapsed": true
   },
   "outputs": [],
   "source": [
    "def split(data, att, val):\n",
    "    # split data on a given attribute\n",
    "    \n",
    "    newdata = []\n",
    "    for row in data:\n",
    "        if row[att] == val:\n",
    "            reduced = row[:att]\n",
    "            reduced.extend(row[att+1:])\n",
    "            newdata.append(reduced)\n",
    "    return newdata"
   ]
  },
  {
   "cell_type": "code",
   "execution_count": 12,
   "metadata": {
    "collapsed": false
   },
   "outputs": [],
   "source": [
    "def chooseAtt(data):\n",
    "    # choose best attribute to split on\n",
    "    \n",
    "    attributes = len(data[0])\n",
    "    exp_ent = entropy(data)\n",
    "    gain = 0.0\n",
    "    bestatt = -1\n",
    "    for row in range(1, attributes):\n",
    "        attlist = [ex[row] for ex in data]\n",
    "        uniquevals = set(attlist)\n",
    "        newentropy = 0.0\n",
    "        for value in uniquevals:\n",
    "            newdata = split(data, row, value)\n",
    "            probability = len(newdata)/float(len(data))\n",
    "            newentropy += probability * entropy(newdata)\n",
    "        infogain = exp_ent - newentropy\n",
    "        if (infogain > gain):\n",
    "            gain = infogain\n",
    "            bestatt = row\n",
    "    return bestatt"
   ]
  },
  {
   "cell_type": "code",
   "execution_count": 13,
   "metadata": {
    "collapsed": false
   },
   "outputs": [],
   "source": [
    "def majVotting(majclass):\n",
    "    # return majority class\n",
    "    \n",
    "    classcount = {}\n",
    "    for vote in majclass:\n",
    "        if vote not in classcount.keys():\n",
    "            classcount[vote] = 0\n",
    "        classcount[vote] += 1\n",
    "        sortedclass = sorted(classcount.items(), key=operator.itemgetter(1), reverse=True)\n",
    "        return sortedclass[0][0]"
   ]
  },
  {
   "cell_type": "code",
   "execution_count": 14,
   "metadata": {
    "collapsed": true
   },
   "outputs": [],
   "source": [
    "def id3Tree(data, labels):\n",
    "    # main class - generate decision tree\n",
    "    import pdb; pdb.set_trace()\n",
    "    classifier = [row[0] for row in data]\n",
    "    if (classifier.count(classifier[0]) == len(classifier)):\n",
    "        return classifier[0]\n",
    "    if (len(data[0]) == 1):\n",
    "        return majVotting(classifier)\n",
    "    \n",
    "    best_att = chooseAtt(data)\n",
    "    best_label = labels[best_att]\n",
    "    tree = {best_label: {}}\n",
    "    del(labels[best_att])\n",
    "    label_values = [row[best_att] for row in data]\n",
    "    uniquevals = set(label_values)\n",
    "    \n",
    "    for value in uniquevals:\n",
    "        sublabels = labels[:]\n",
    "        tree[best_label][value] = id3Tree(split(data, best_att, value), sublabels)\n",
    "    \n",
    "    return tree"
   ]
  },
  {
   "cell_type": "code",
   "execution_count": null,
   "metadata": {
    "collapsed": false
   },
   "outputs": [
    {
     "name": "stdout",
     "output_type": "stream",
     "text": [
      "> <ipython-input-14-4d2c251a0b62>(4)id3Tree()\n",
      "-> classifier = [row[0] for row in data]\n",
      "(Pdb) n\n",
      "> <ipython-input-14-4d2c251a0b62>(5)id3Tree()\n",
      "-> if (classifier.count(classifier[0]) == len(classifier)):\n",
      "(Pdb) clasifier\n",
      "*** NameError: name 'clasifier' is not defined\n",
      "(Pdb) n\n",
      "> <ipython-input-14-4d2c251a0b62>(7)id3Tree()\n",
      "-> if (len(data[0]) == 1):\n",
      "(Pdb) n\n",
      "> <ipython-input-14-4d2c251a0b62>(10)id3Tree()\n",
      "-> best_att = chooseAtt(data)\n"
     ]
    }
   ],
   "source": [
    "id3Tree(data, names)"
   ]
  },
  {
   "cell_type": "code",
   "execution_count": null,
   "metadata": {
    "collapsed": true
   },
   "outputs": [],
   "source": []
  }
 ],
 "metadata": {
  "kernelspec": {
   "display_name": "Python 3",
   "language": "python",
   "name": "python3"
  },
  "language_info": {
   "codemirror_mode": {
    "name": "ipython",
    "version": 3
   },
   "file_extension": ".py",
   "mimetype": "text/x-python",
   "name": "python",
   "nbconvert_exporter": "python",
   "pygments_lexer": "ipython3",
   "version": "3.4.3"
  }
 },
 "nbformat": 4,
 "nbformat_minor": 0
}

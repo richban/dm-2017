{
 "cells": [
  {
   "cell_type": "code",
   "execution_count": 147,
   "metadata": {
    "collapsed": true
   },
   "outputs": [],
   "source": [
    "import numpy as np\n",
    "import random\n",
    "import math"
   ]
  },
  {
   "cell_type": "code",
   "execution_count": 148,
   "metadata": {
    "collapsed": true
   },
   "outputs": [],
   "source": [
    "def load_data():\n",
    "    data = [l.strip() for l in open('data/z_scores.csv') if l.strip()]\n",
    "    features = [list(map(float, x.split(',')[:-1])) for x in data]\n",
    "    labels = [x.split(',')[-1] for x in data]\n",
    "    return features, labels"
   ]
  },
  {
   "cell_type": "code",
   "execution_count": 225,
   "metadata": {
    "collapsed": false
   },
   "outputs": [],
   "source": [
    "class Cluster(object):\n",
    "    \"\"\"Object that represent\n",
    "    the Clusters & Centroids and \n",
    "    related methods\"\"\"\n",
    "    \n",
    "    def __init__(self, vectors):\n",
    "        \"\"\"The vectors of the cluster\"\"\"\n",
    "        \n",
    "        self.vectors = vectors\n",
    "        self.centroid = self.calcCentroid()\n",
    "        \n",
    "    \"\"\"def __repr__(self):\n",
    "        \n",
    "        return str((self.vectors, self.centroid))\"\"\"\n",
    "    \n",
    "    def calcCentroid(self):\n",
    "        \"\"\"Calculate the center point\"\"\"\n",
    "        size = len(self.vectors)\n",
    "        # zip all features together\n",
    "        zipped = zip(*self.vectors)\n",
    "        # Calculate the mean for each feature/column\n",
    "        centroid = [math.fsum(column)/size for column in zipped]\n",
    "        \n",
    "        return centroid\n",
    "    \n",
    "    def updateCentroid(self, vectors):\n",
    "        \"\"\"Returns how much the centroids moved\n",
    "        from his previous place and update the new centroid\"\"\"\n",
    "        previous_centroid = self.centroid\n",
    "        self.vectors = vectors\n",
    "        self.centroid = self.calcCentroid()\n",
    "        shift = distance(previous_centroid, self.centroid)\n",
    "        \n",
    "        return shift"
   ]
  },
  {
   "cell_type": "code",
   "execution_count": 226,
   "metadata": {
    "collapsed": false
   },
   "outputs": [],
   "source": [
    "def distance(x, y):\n",
    "    \"\"\"Euclidan distance between two vectors\"\"\"\n",
    "    dist = [pow((x-y), 2) for x, y in zip(x,y)]\n",
    "    dist = math.sqrt(sum(dist))\n",
    "    \n",
    "    return dist"
   ]
  },
  {
   "cell_type": "code",
   "execution_count": 227,
   "metadata": {
    "collapsed": true
   },
   "outputs": [],
   "source": [
    "def kmeans(vectors, k, converaged):\n",
    "    \n",
    "    \"\"\"Select random k vectors as initial centroids\"\"\"\n",
    "    init_vectors = random.sample(vectors, k)\n",
    "    \n",
    "    \"\"\"Create k clusters using init_vectors\"\"\"\n",
    "    clusters = [Cluster([v]) for v in init_vectors]\n",
    "    \n",
    "    \"\"\"How many interations until centroids stabilize\"\"\"\n",
    "    iteration = 0\n",
    "    \n",
    "    while True:\n",
    "        \n",
    "        # Vector (list) which holds all the cluster points in the given cluster\n",
    "        cluster_points = [[] for c in clusters]\n",
    "        n_cluster = len(clusters)\n",
    "        \n",
    "        # Start the iteration\n",
    "        iteration += 1\n",
    "        \n",
    "        # For every feature from the vectors (dataset)\n",
    "        for v in vectors:\n",
    "            # Distance between the first feature and the centroid of the 1st cluster\n",
    "            distance_ = distance(v, clusters[0].centroid)\n",
    "            cluster_no = 0\n",
    "            \n",
    "            for i in range(1, n_cluster):\n",
    "                dist = distance(v, clusters[i].centroid)\n",
    "                # Find the smallest distance from each remaining centroids\n",
    "                if dist < distance_:\n",
    "                    distance_ = dist\n",
    "                    cluster_no = i\n",
    "            \n",
    "            cluster_points[cluster_no].append(v)\n",
    "        \n",
    "        # Initial (biggest) shift\n",
    "        shift = 0.0\n",
    "        \n",
    "        for i in range(n_cluster):\n",
    "            # Calculate much the centroids moved in the interation\n",
    "            shift_ = clusters[i].updateCentroid(cluster_points[i]) \n",
    "            # Largest Move from all the clusters\n",
    "            shift = max(shift, shift_)\n",
    "            \n",
    "        if shift_ < converaged:\n",
    "            print(\"Convereged after \" + repr(iteration) + \" iterations\")\n",
    "            break\n",
    "        \n",
    "    \n",
    "    return clusters"
   ]
  },
  {
   "cell_type": "code",
   "execution_count": 228,
   "metadata": {
    "collapsed": true
   },
   "outputs": [],
   "source": [
    "features, labels = load_data()"
   ]
  },
  {
   "cell_type": "code",
   "execution_count": 243,
   "metadata": {
    "collapsed": true
   },
   "outputs": [],
   "source": [
    "converaged = 0.002"
   ]
  },
  {
   "cell_type": "code",
   "execution_count": 244,
   "metadata": {
    "collapsed": false
   },
   "outputs": [
    {
     "name": "stdout",
     "output_type": "stream",
     "text": [
      "Convereged after 8 iterations\n"
     ]
    }
   ],
   "source": [
    "clusters = kmeans(features, 3, converaged)"
   ]
  },
  {
   "cell_type": "code",
   "execution_count": null,
   "metadata": {
    "collapsed": true
   },
   "outputs": [],
   "source": []
  }
 ],
 "metadata": {
  "kernelspec": {
   "display_name": "Python 3",
   "language": "python",
   "name": "python3"
  },
  "language_info": {
   "codemirror_mode": {
    "name": "ipython",
    "version": 3
   },
   "file_extension": ".py",
   "mimetype": "text/x-python",
   "name": "python",
   "nbconvert_exporter": "python",
   "pygments_lexer": "ipython3",
   "version": "3.4.3"
  }
 },
 "nbformat": 4,
 "nbformat_minor": 0
}

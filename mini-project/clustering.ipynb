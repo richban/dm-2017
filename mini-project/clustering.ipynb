{
 "cells": [
  {
   "cell_type": "code",
   "execution_count": 1,
   "metadata": {
    "collapsed": false
   },
   "outputs": [],
   "source": [
    "import numpy as np\n",
    "import random\n",
    "import math\n",
    "import matplotlib.pyplot as plt\n",
    "from matplotlib import style\n",
    "style.use(\"ggplot\")\n",
    "from mpl_toolkits.mplot3d import Axes3D\n",
    "from pylab import figure\n",
    "%matplotlib inline"
   ]
  },
  {
   "cell_type": "code",
   "execution_count": 2,
   "metadata": {
    "collapsed": true
   },
   "outputs": [],
   "source": [
    "def load_data():\n",
    "    data = [l.strip() for l in open('data/n_minmax.csv') if l.strip()]\n",
    "    features = [list(map(float, x.split(',')[:-1])) for x in data]\n",
    "    labels = [x.split(',')[-1] for x in data]\n",
    "    return features, labels"
   ]
  },
  {
   "cell_type": "code",
   "execution_count": 3,
   "metadata": {
    "collapsed": false
   },
   "outputs": [],
   "source": [
    "class Cluster(object):\n",
    "    \"\"\"Object that represent\n",
    "    the Clusters & Centroids and Data Points\n",
    "    in the n dimensional space\"\"\"\n",
    "    \n",
    "    def __init__(self, vectors):\n",
    "        \"\"\"The vectors of the cluster\"\"\"\n",
    "        \n",
    "        self.vectors = vectors\n",
    "        self.centroid = self.calcCentroid()\n",
    "        \n",
    "    \"\"\"def __repr__(self):\n",
    "        \n",
    "        return str((self.vectors, self.centroid))\"\"\"\n",
    "    \n",
    "    def calcCentroid(self):\n",
    "        \"\"\"Calculate the center point\"\"\"\n",
    "        size = len(self.vectors)\n",
    "        # zip all features together\n",
    "        zipped = zip(*self.vectors)\n",
    "        # Calculate the mean for each feature/column\n",
    "        centroid = [math.fsum(column)/size for column in zipped]\n",
    "        \n",
    "        return centroid\n",
    "    \n",
    "    def updateCentroid(self, vectors):\n",
    "        \"\"\"Returns how much the centroids moved\n",
    "        from his previous place and update the new centroid\"\"\"\n",
    "        previous_centroid = self.centroid\n",
    "        self.vectors = vectors\n",
    "        self.centroid = self.calcCentroid()\n",
    "        shift = distance(previous_centroid, self.centroid)\n",
    "        \n",
    "        return shift"
   ]
  },
  {
   "cell_type": "code",
   "execution_count": 4,
   "metadata": {
    "collapsed": false
   },
   "outputs": [],
   "source": [
    "def distance(x, y):\n",
    "    \"\"\"Euclidan distance between two vectors\"\"\"\n",
    "    dist = [pow((x-y), 2) for x, y in zip(x,y)]\n",
    "    dist = math.sqrt(sum(dist))\n",
    "    \n",
    "    return dist"
   ]
  },
  {
   "cell_type": "code",
   "execution_count": 5,
   "metadata": {
    "collapsed": true
   },
   "outputs": [],
   "source": [
    "def kmeans(vectors, k, converaged):\n",
    "    \n",
    "    # Select random k vectors as initial centroids\"\"\"\n",
    "    init_vectors = random.sample(vectors, k)\n",
    "    \n",
    "    # Create k clusters using init_vectors and used as init centroids\n",
    "    clusters = [Cluster([v]) for v in init_vectors]\n",
    "    \n",
    "    # How many interations until centroids stabilize - converage\n",
    "    iteration = 0\n",
    "    \n",
    "    while True:\n",
    "        \n",
    "        # Vector (list) which holds all the cluster points in the given cluster\n",
    "        cluster_points = [[] for c in clusters]\n",
    "        n_cluster = len(clusters)\n",
    "        \n",
    "        # Start the iteration\n",
    "        iteration += 1\n",
    "        \n",
    "        # For every feature from the vectors (dataset)\n",
    "        for v in vectors:\n",
    "            # Distance between the first feature and the centroid of the 1st cluster\n",
    "            distance_ = distance(v, clusters[0].centroid)\n",
    "            cluster_no = 0\n",
    "            \n",
    "            for i in range(1, n_cluster):\n",
    "                dist = distance(v, clusters[i].centroid)\n",
    "                # Find the smallest distance from each remaining centroids\n",
    "                if dist < distance_:\n",
    "                    distance_ = dist\n",
    "                    cluster_no = i\n",
    "            \n",
    "            cluster_points[cluster_no].append(v)\n",
    "        \n",
    "        # Initial (biggest) shift\n",
    "        shift = 0.0\n",
    "        \n",
    "        for i in range(n_cluster):\n",
    "            # Calculate how much the centroids moved in the interation\n",
    "            shift_ = clusters[i].updateCentroid(cluster_points[i]) \n",
    "            # Largest Move from all the clusters\n",
    "            shift = max(shift, shift_)\n",
    "            \n",
    "        if shift_ < converaged:\n",
    "            print(\"Convereged after \" + repr(iteration) + \" iterations\")\n",
    "            break\n",
    "        \n",
    "    \n",
    "    return clusters"
   ]
  },
  {
   "cell_type": "code",
   "execution_count": 6,
   "metadata": {
    "collapsed": true
   },
   "outputs": [],
   "source": [
    "features, labels = load_data()"
   ]
  },
  {
   "cell_type": "code",
   "execution_count": 7,
   "metadata": {
    "collapsed": true
   },
   "outputs": [],
   "source": [
    "converaged = 0.002"
   ]
  },
  {
   "cell_type": "code",
   "execution_count": 8,
   "metadata": {
    "collapsed": true
   },
   "outputs": [],
   "source": [
    "k = 7"
   ]
  },
  {
   "cell_type": "code",
   "execution_count": 9,
   "metadata": {
    "collapsed": false
   },
   "outputs": [
    {
     "name": "stdout",
     "output_type": "stream",
     "text": [
      "Convereged after 13 iterations\n"
     ]
    }
   ],
   "source": [
    "clusters = kmeans(features, k, converaged)"
   ]
  },
  {
   "cell_type": "code",
   "execution_count": 10,
   "metadata": {
    "collapsed": false
   },
   "outputs": [],
   "source": [
    "def plot(X, clusters, cluster_num):\n",
    "    \"\"\"Visualizing the Cluster Centroids\n",
    "    and Data Points in 3D\"\"\"\n",
    "    centroids = []\n",
    "    X = np.asarray(X)\n",
    "    for i in range(0,cluster_num):\n",
    "        centroids.append(clusters[i].centroid)\n",
    "    \n",
    "    np_centroids = np.asarray(centroids)\n",
    "    \n",
    "    color = [\"g\", \"r\", \"b\", \"c\", \"m\", \"y\", \"b\"]\n",
    "    \n",
    "    fig = figure()\n",
    "    ax = fig.gca(projection='3d')\n",
    "    for i in range(len(X)):\n",
    "        ax.scatter(X[i][0], X[i][1], X[i][2], c=color)\n",
    "    \n",
    "    ax.scatter(np_centroids[:, 0],np_centroids[:, 1],\n",
    "               np_centroids[:, 2], marker = \"x\", s=150,\n",
    "               linewidths = 5, zorder = 100, c=color\n",
    "              )"
   ]
  },
  {
   "cell_type": "code",
   "execution_count": 11,
   "metadata": {
    "collapsed": false
   },
   "outputs": [
    {
     "data": {
      "image/png": "[encoded data removed]",
      "text/plain": [
       "<matplotlib.figure.Figure at 0x105983ba8>"
      ]
     },
     "metadata": {},
     "output_type": "display_data"
    }
   ],
   "source": [
    "plot(features, clusters, k)"
   ]
  },
  {
   "cell_type": "code",
   "execution_count": 16,
   "metadata": {
    "collapsed": false
   },
   "outputs": [],
   "source": [
    "def elbow(features, K, converaged):\n",
    "    variance = []\n",
    "    for k in range(1, K):\n",
    "        clusters = kmeans(features, k, converaged)\n",
    "        dist = []\n",
    "        for c in clusters:\n",
    "            for v in c.vectors:\n",
    "                d = pow(distance(v, c.centroid), 2)\n",
    "                dist.append(d)\n",
    "        variance.append(sum(dist))\n",
    "        \n",
    "    return variance"
   ]
  },
  {
   "cell_type": "code",
   "execution_count": 17,
   "metadata": {
    "collapsed": false
   },
   "outputs": [
    {
     "name": "stdout",
     "output_type": "stream",
     "text": [
      "Convereged after 2 iterations\n",
      "Convereged after 12 iterations\n",
      "Convereged after 6 iterations\n",
      "Convereged after 3 iterations\n",
      "Convereged after 4 iterations\n",
      "Convereged after 1 iterations\n",
      "Convereged after 5 iterations\n",
      "Convereged after 8 iterations\n",
      "Convereged after 2 iterations\n",
      "Convereged after 1 iterations\n",
      "Convereged after 6 iterations\n",
      "Convereged after 2 iterations\n",
      "Convereged after 3 iterations\n",
      "Convereged after 5 iterations\n",
      "Convereged after 3 iterations\n",
      "Convereged after 3 iterations\n",
      "Convereged after 7 iterations\n",
      "Convereged after 4 iterations\n",
      "Convereged after 2 iterations\n",
      "Convereged after 3 iterations\n",
      "Convereged after 1 iterations\n",
      "Convereged after 1 iterations\n",
      "Convereged after 3 iterations\n",
      "Convereged after 3 iterations\n",
      "Convereged after 3 iterations\n",
      "Convereged after 2 iterations\n",
      "Convereged after 3 iterations\n",
      "Convereged after 5 iterations\n",
      "Convereged after 2 iterations\n",
      "Convereged after 1 iterations\n",
      "Convereged after 3 iterations\n",
      "Convereged after 1 iterations\n",
      "Convereged after 2 iterations\n",
      "Convereged after 1 iterations\n",
      "Convereged after 1 iterations\n",
      "Convereged after 2 iterations\n",
      "Convereged after 1 iterations\n",
      "Convereged after 2 iterations\n",
      "Convereged after 3 iterations\n",
      "Convereged after 1 iterations\n",
      "Convereged after 1 iterations\n",
      "Convereged after 2 iterations\n",
      "Convereged after 2 iterations\n",
      "Convereged after 1 iterations\n",
      "Convereged after 1 iterations\n",
      "Convereged after 1 iterations\n",
      "Convereged after 2 iterations\n",
      "Convereged after 1 iterations\n",
      "Convereged after 1 iterations\n",
      "Convereged after 1 iterations\n",
      "Convereged after 1 iterations\n",
      "Convereged after 1 iterations\n",
      "Convereged after 1 iterations\n",
      "Convereged after 1 iterations\n",
      "Convereged after 1 iterations\n",
      "Convereged after 1 iterations\n",
      "Convereged after 1 iterations\n",
      "Convereged after 1 iterations\n",
      "Convereged after 3 iterations\n"
     ]
    }
   ],
   "source": [
    "var = elbow(features, 60, converaged)"
   ]
  },
  {
   "cell_type": "code",
   "execution_count": 18,
   "metadata": {
    "collapsed": false
   },
   "outputs": [
    {
     "data": {
      "text/plain": [
       "[0.9079003279708896,\n",
       " 0.24207045857912468,\n",
       " 0.10373450760552169,\n",
       " 0.06793521165658993,\n",
       " 0.07658772328340215,\n",
       " 0.6264903094208611,\n",
       " 0.04073775170260191,\n",
       " 0.030516540460226352,\n",
       " 0.9079003279708896,\n",
       " 0.5545341808807762,\n",
       " 0.020060920912567958,\n",
       " 0.45375822935492055,\n",
       " 0.021683728057614864,\n",
       " 0.014896652373909884,\n",
       " 0.02164788367388196,\n",
       " 0.013316668794620531,\n",
       " 0.012391227358190881,\n",
       " 0.010862121509205682,\n",
       " 0.017865835168693545,\n",
       " 0.009183450902784423,\n",
       " 0.3483508971371655,\n",
       " 0.24602258823028716,\n",
       " 0.010493472501516173,\n",
       " 0.008951503931394766,\n",
       " 0.007726866481534684,\n",
       " 0.0087437624352304,\n",
       " 0.007004426144041198,\n",
       " 0.005377073425048147,\n",
       " 0.006338642578228912,\n",
       " 0.012301169310649337,\n",
       " 0.005322943598582791,\n",
       " 0.24363675295519593,\n",
       " 0.005400214923340464,\n",
       " 0.009324161852171046,\n",
       " 0.008916126698373177,\n",
       " 0.004826199367997706,\n",
       " 0.3174288731420302,\n",
       " 0.00523210656792961,\n",
       " 0.0030496238841541895,\n",
       " 0.005820485811867599,\n",
       " 0.23675242320746478,\n",
       " 0.1967443901816208,\n",
       " 0.880247716229512,\n",
       " 0.00813011373913414,\n",
       " 0.0016784236117760956,\n",
       " 0.0024830561673422906,\n",
       " 0.13367993946597118,\n",
       " 0.00137519018587677,\n",
       " 0.23902507793631028,\n",
       " 0.007805600774575209,\n",
       " 0.23637444540202365,\n",
       " 0.0019178184216966181,\n",
       " 0.000941619585687382,\n",
       " 0.0008884207390383764,\n",
       " 0.0011810143956079017,\n",
       " 0.0010214178556608893,\n",
       " 0.0012328832710906833,\n",
       " 0.0017954610744039077,\n",
       " 0.00028727377190462545]"
      ]
     },
     "execution_count": 18,
     "metadata": {},
     "output_type": "execute_result"
    }
   ],
   "source": [
    "var"
   ]
  },
  {
   "cell_type": "code",
   "execution_count": 19,
   "metadata": {
    "collapsed": false
   },
   "outputs": [
    {
     "data": {
      "image/png": "[encoded data removed]",
      "text/plain": [
       "<matplotlib.figure.Figure at 0x106552898>"
      ]
     },
     "metadata": {},
     "output_type": "display_data"
    }
   ],
   "source": [
    "plt.plot(var)\n",
    "plt.show()"
   ]
  },
  {
   "cell_type": "code",
   "execution_count": null,
   "metadata": {
    "collapsed": true
   },
   "outputs": [],
   "source": []
  }
 ],
 "metadata": {
  "kernelspec": {
   "display_name": "Python 3",
   "language": "python",
   "name": "python3"
  },
  "language_info": {
   "codemirror_mode": {
    "name": "ipython",
    "version": 3
   },
   "file_extension": ".py",
   "mimetype": "text/x-python",
   "name": "python",
   "nbconvert_exporter": "python",
   "pygments_lexer": "ipython3",
   "version": "3.4.3"
  }
 },
 "nbformat": 4,
 "nbformat_minor": 0
}

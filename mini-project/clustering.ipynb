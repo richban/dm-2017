{
 "cells": [
  {
   "cell_type": "code",
   "execution_count": 1,
   "metadata": {
    "collapsed": false
   },
   "outputs": [],
   "source": [
    "import numpy as np\n",
    "import random\n",
    "import math\n",
    "import matplotlib.pyplot as plt\n",
    "from matplotlib import style\n",
    "style.use(\"ggplot\")\n",
    "from mpl_toolkits.mplot3d import Axes3D\n",
    "from pylab import figure\n",
    "%matplotlib inline"
   ]
  },
  {
   "cell_type": "code",
   "execution_count": 2,
   "metadata": {
    "collapsed": true
   },
   "outputs": [],
   "source": [
    "def load_data():\n",
    "    data = [l.strip() for l in open('data/n_minmax.csv') if l.strip()]\n",
    "    features = [list(map(float, x.split(',')[:-1])) for x in data]\n",
    "    labels = [x.split(',')[-1] for x in data]\n",
    "    return features, labels"
   ]
  },
  {
   "cell_type": "code",
   "execution_count": 3,
   "metadata": {
    "collapsed": false
   },
   "outputs": [],
   "source": [
    "class Cluster(object):\n",
    "    \"\"\"Object that represent\n",
    "    the Clusters & Centroids and Data Points\n",
    "    in the n dimensional space\"\"\"\n",
    "    \n",
    "    def __init__(self, vectors):\n",
    "        \"\"\"The vectors of the cluster\"\"\"\n",
    "        \n",
    "        self.vectors = vectors\n",
    "        self.centroid = self.calcCentroid()\n",
    "        \n",
    "    \"\"\"def __repr__(self):\n",
    "        \n",
    "        return str((self.vectors, self.centroid))\"\"\"\n",
    "    \n",
    "    def calcCentroid(self):\n",
    "        \"\"\"Calculate the center point\"\"\"\n",
    "        size = len(self.vectors)\n",
    "        # zip all features together\n",
    "        zipped = zip(*self.vectors)\n",
    "        # Calculate the mean for each feature/column\n",
    "        centroid = [math.fsum(column)/size for column in zipped]\n",
    "        \n",
    "        return centroid\n",
    "    \n",
    "    def updateCentroid(self, vectors):\n",
    "        \"\"\"Returns how much the centroids moved\n",
    "        from his previous place and update the new centroid\"\"\"\n",
    "        previous_centroid = self.centroid\n",
    "        self.vectors = vectors\n",
    "        self.centroid = self.calcCentroid()\n",
    "        shift = distance(previous_centroid, self.centroid)\n",
    "        \n",
    "        return shift"
   ]
  },
  {
   "cell_type": "code",
   "execution_count": 4,
   "metadata": {
    "collapsed": false
   },
   "outputs": [],
   "source": [
    "def distance(x, y):\n",
    "    \"\"\"Euclidan distance between two vectors\"\"\"\n",
    "    dist = [pow((x-y), 2) for x, y in zip(x,y)]\n",
    "    dist = math.sqrt(sum(dist))\n",
    "    \n",
    "    return dist"
   ]
  },
  {
   "cell_type": "code",
   "execution_count": 5,
   "metadata": {
    "collapsed": true
   },
   "outputs": [],
   "source": [
    "def kmeans(vectors, k, converaged):\n",
    "    \n",
    "    # Select random k vectors as initial centroids\"\"\"\n",
    "    init_vectors = random.sample(vectors, k)\n",
    "    \n",
    "    # Create k clusters using init_vectors and used as init centroids\n",
    "    clusters = [Cluster([v]) for v in init_vectors]\n",
    "    \n",
    "    # How many interations until centroids stabilize - converage\n",
    "    iteration = 0\n",
    "    \n",
    "    while True:\n",
    "        \n",
    "        # Vector (list) which holds all the cluster points in the given cluster\n",
    "        cluster_points = [[] for c in clusters]\n",
    "        n_cluster = len(clusters)\n",
    "        \n",
    "        # Start the iteration\n",
    "        iteration += 1\n",
    "        \n",
    "        # For every feature from the vectors (dataset)\n",
    "        for v in vectors:\n",
    "            # Distance between the first feature and the centroid of the 1st cluster\n",
    "            distance_ = distance(v, clusters[0].centroid)\n",
    "            cluster_no = 0\n",
    "            \n",
    "            for i in range(1, n_cluster):\n",
    "                dist = distance(v, clusters[i].centroid)\n",
    "                # Find the smallest distance from each remaining centroids\n",
    "                if dist < distance_:\n",
    "                    distance_ = dist\n",
    "                    cluster_no = i\n",
    "            \n",
    "            cluster_points[cluster_no].append(v)\n",
    "        \n",
    "        # Initial (biggest) shift\n",
    "        shift = 0.0\n",
    "        \n",
    "        for i in range(n_cluster):\n",
    "            # Calculate how much the centroids moved in the interation\n",
    "            shift_ = clusters[i].updateCentroid(cluster_points[i]) \n",
    "            # Largest Move from all the clusters\n",
    "            shift = max(shift, shift_)\n",
    "            \n",
    "        if shift_ < converaged:\n",
    "            print(\"Convereged after \" + repr(iteration) + \" iterations\")\n",
    "            break\n",
    "        \n",
    "    \n",
    "    return clusters"
   ]
  },
  {
   "cell_type": "code",
   "execution_count": 31,
   "metadata": {
    "collapsed": false
   },
   "outputs": [],
   "source": [
    "features, labels = load_data()"
   ]
  },
  {
   "cell_type": "code",
   "execution_count": 32,
   "metadata": {
    "collapsed": true
   },
   "outputs": [],
   "source": [
    "converaged = 0.2e-5"
   ]
  },
  {
   "cell_type": "code",
   "execution_count": 39,
   "metadata": {
    "collapsed": true
   },
   "outputs": [],
   "source": [
    "k = 6"
   ]
  },
  {
   "cell_type": "code",
   "execution_count": 40,
   "metadata": {
    "collapsed": false
   },
   "outputs": [
    {
     "name": "stdout",
     "output_type": "stream",
     "text": [
      "Convereged after 5 iterations\n"
     ]
    }
   ],
   "source": [
    "clusters = kmeans(features, k, converaged)"
   ]
  },
  {
   "cell_type": "code",
   "execution_count": 43,
   "metadata": {
    "collapsed": false
   },
   "outputs": [],
   "source": [
    "def plot(X, clusters, cluster_num):\n",
    "    \"\"\"Visualizing the Cluster Centroids\n",
    "    and Data Points in 3D\"\"\"\n",
    "    centroids = []\n",
    "    X = np.asarray(X)\n",
    "    for i in range(0,cluster_num):\n",
    "        centroids.append(clusters[i].centroid)\n",
    "    \n",
    "    np_centroids = np.asarray(centroids)\n",
    "    \n",
    "    color = [\"g\", \"r\", \"b\", \"c\", \"m\", \"b\"]\n",
    "    \n",
    "    fig = figure()\n",
    "    ax = fig.gca(projection='3d')\n",
    "    for i in range(len(X)):\n",
    "        ax.scatter(X[i][0], X[i][1], X[i][2], c=color)\n",
    "    \n",
    "    ax.scatter(np_centroids[:, 0],np_centroids[:, 1],\n",
    "               np_centroids[:, 2], marker = \"x\", s=150,\n",
    "               linewidths = 5, zorder = 100, c=color\n",
    "              )"
   ]
  },
  {
   "cell_type": "code",
   "execution_count": 44,
   "metadata": {
    "collapsed": false
   },
   "outputs": [
    {
     "data": {
      "image/png": "[encoded data removed]",
      "text/plain": [
       "<matplotlib.figure.Figure at 0x106c72eb8>"
      ]
     },
     "metadata": {},
     "output_type": "display_data"
    }
   ],
   "source": [
    "plot(features, clusters, k)"
   ]
  },
  {
   "cell_type": "code",
   "execution_count": 22,
   "metadata": {
    "collapsed": false
   },
   "outputs": [],
   "source": [
    "def elbow(features, K, converaged):\n",
    "    variance = []\n",
    "    for k in range(1, K):\n",
    "        clusters = kmeans(features, k, converaged)\n",
    "        dist = []\n",
    "        for c in clusters:\n",
    "            for v in c.vectors:\n",
    "                d = pow(distance(v, c.centroid), 2)\n",
    "                dist.append(d)\n",
    "        variance.append(sum(dist)/k)\n",
    "        \n",
    "    return variance"
   ]
  },
  {
   "cell_type": "code",
   "execution_count": 23,
   "metadata": {
    "collapsed": false,
    "scrolled": true
   },
   "outputs": [
    {
     "name": "stdout",
     "output_type": "stream",
     "text": [
      "Convereged after 2 iterations\n",
      "Convereged after 7 iterations\n",
      "Convereged after 2 iterations\n",
      "Convereged after 2 iterations\n",
      "Convereged after 6 iterations\n",
      "Convereged after 9 iterations\n",
      "Convereged after 2 iterations\n",
      "Convereged after 3 iterations\n",
      "Convereged after 1 iterations\n",
      "Convereged after 5 iterations\n",
      "Convereged after 3 iterations\n",
      "Convereged after 10 iterations\n",
      "Convereged after 2 iterations\n",
      "Convereged after 5 iterations\n",
      "Convereged after 1 iterations\n",
      "Convereged after 3 iterations\n",
      "Convereged after 3 iterations\n",
      "Convereged after 3 iterations\n",
      "Convereged after 4 iterations\n",
      "Convereged after 3 iterations\n",
      "Convereged after 1 iterations\n",
      "Convereged after 2 iterations\n",
      "Convereged after 5 iterations\n",
      "Convereged after 2 iterations\n",
      "Convereged after 2 iterations\n",
      "Convereged after 1 iterations\n",
      "Convereged after 4 iterations\n",
      "Convereged after 1 iterations\n",
      "Convereged after 1 iterations\n",
      "Convereged after 1 iterations\n",
      "Convereged after 1 iterations\n",
      "Convereged after 2 iterations\n",
      "Convereged after 1 iterations\n",
      "Convereged after 2 iterations\n",
      "Convereged after 1 iterations\n",
      "Convereged after 1 iterations\n",
      "Convereged after 1 iterations\n",
      "Convereged after 1 iterations\n",
      "Convereged after 2 iterations\n",
      "Convereged after 1 iterations\n",
      "Convereged after 2 iterations\n",
      "Convereged after 3 iterations\n",
      "Convereged after 1 iterations\n",
      "Convereged after 2 iterations\n",
      "Convereged after 1 iterations\n",
      "Convereged after 2 iterations\n",
      "Convereged after 1 iterations\n",
      "Convereged after 1 iterations\n",
      "Convereged after 1 iterations\n",
      "Convereged after 1 iterations\n",
      "Convereged after 1 iterations\n",
      "Convereged after 2 iterations\n",
      "Convereged after 1 iterations\n",
      "Convereged after 1 iterations\n",
      "Convereged after 2 iterations\n",
      "Convereged after 1 iterations\n",
      "Convereged after 1 iterations\n",
      "Convereged after 1 iterations\n",
      "Convereged after 2 iterations\n"
     ]
    }
   ],
   "source": [
    "var = elbow(features, 60, converaged)"
   ]
  },
  {
   "cell_type": "code",
   "execution_count": 28,
   "metadata": {
    "collapsed": true
   },
   "outputs": [],
   "source": [
    "def plot_variance(variance):\n",
    "    plt.xlabel('K')\n",
    "    plt.ylabel('Average within-cluster variation')\n",
    "    plt.title('Cluster Quality - Finding the right K')\n",
    "    plt.plot(var)\n",
    "    plt.show()"
   ]
  },
  {
   "cell_type": "code",
   "execution_count": 29,
   "metadata": {
    "collapsed": false
   },
   "outputs": [
    {
     "data": {
      "image/png": "[encoded data removed]",
      "text/plain": [
       "<matplotlib.figure.Figure at 0x1068bda90>"
      ]
     },
     "metadata": {},
     "output_type": "display_data"
    }
   ],
   "source": [
    "plot_variance(var)"
   ]
  },
  {
   "cell_type": "code",
   "execution_count": null,
   "metadata": {
    "collapsed": true
   },
   "outputs": [],
   "source": []
  }
 ],
 "metadata": {
  "kernelspec": {
   "display_name": "Python 3",
   "language": "python",
   "name": "python3"
  },
  "language_info": {
   "codemirror_mode": {
    "name": "ipython",
    "version": 3
   },
   "file_extension": ".py",
   "mimetype": "text/x-python",
   "name": "python",
   "nbconvert_exporter": "python",
   "pygments_lexer": "ipython3",
   "version": "3.4.3"
  }
 },
 "nbformat": 4,
 "nbformat_minor": 0
}

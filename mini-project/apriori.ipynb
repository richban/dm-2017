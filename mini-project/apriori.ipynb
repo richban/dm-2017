{
 "cells": [
  {
   "cell_type": "code",
   "execution_count": 1,
   "metadata": {
    "collapsed": true
   },
   "outputs": [],
   "source": [
    "import numpy as np\n",
    "import csv\n",
    "PATH = 'data/apriori.csv'"
   ]
  },
  {
   "cell_type": "code",
   "execution_count": 2,
   "metadata": {
    "collapsed": true
   },
   "outputs": [],
   "source": [
    "def loadDataSet(filename):\n",
    "    \"\"\"load data and split into training & test sets\"\"\"\n",
    "    with open(filename, 'r') as file:\n",
    "        lines = csv.reader(file)\n",
    "        dataset = list(lines)\n",
    "    return dataset"
   ]
  },
  {
   "cell_type": "code",
   "execution_count": 3,
   "metadata": {
    "collapsed": true
   },
   "outputs": [],
   "source": [
    "def createC1(dataset):\n",
    "    \"\"\"Create the first l-itemset C1 of size one.\"\"\"\n",
    "    c1 = []\n",
    "    for t in dataset:\n",
    "        for i in t:\n",
    "            if not [i] in c1:\n",
    "                c1.append([i])\n",
    "    return map(frozenset, c1)"
   ]
  },
  {
   "cell_type": "code",
   "execution_count": 4,
   "metadata": {
    "collapsed": true
   },
   "outputs": [],
   "source": [
    "def scanD(dataset, candidates, min_sup):\n",
    "    \"\"\"Return candidates l-itemsets satisfying minimum support.\"\"\"\n",
    "    csc = {}\n",
    "    for t in dataset:\n",
    "        for c in candidates:\n",
    "            if c.issubset(t):\n",
    "                csc.setdefault(c, 0)\n",
    "                csc[c] += 1\n",
    "    \n",
    "    items_len = float(len(dataset))\n",
    "    freq = []\n",
    "    support_data = {}\n",
    "    for key in csc:\n",
    "        can_support = csc[key] / items_len\n",
    "        if can_support >= min_sup:\n",
    "            freq.insert(0, key)\n",
    "        support_data[key] = can_support\n",
    "    return freq, support_data"
   ]
  },
  {
   "cell_type": "code",
   "execution_count": 5,
   "metadata": {
    "collapsed": false
   },
   "outputs": [],
   "source": [
    "def joinSet(itemSet, length):\n",
    "    \"\"\"Join a set with itself.\"\"\"\n",
    "    return set([i.union(j) for i in itemSet for j in itemSet if len(i.union(j)) == length])"
   ]
  },
  {
   "cell_type": "code",
   "execution_count": 6,
   "metadata": {
    "collapsed": true
   },
   "outputs": [],
   "source": [
    "def apriori(dataset, min_sup=0.2):\n",
    "    \"\"\"Generation of frequent itemsets\"\"\"\n",
    "    C1 = list(createC1(dataset))\n",
    "    D = list(map(set, dataset))\n",
    "    L1, support_data = scanD(D, C1, min_sup)\n",
    "    L = [L1]\n",
    "    k = 2\n",
    "    while(len(L[k-2]) > 0):\n",
    "        candidates = joinSet(L[k-2], k)\n",
    "        Lk, suppK = scanD(D, candidates, min_sup)\n",
    "        support_data.update(suppK)\n",
    "        L.append(Lk)\n",
    "        k += 1\n",
    "    \n",
    "    return L, support_data"
   ]
  },
  {
   "cell_type": "code",
   "execution_count": 7,
   "metadata": {
    "collapsed": true
   },
   "outputs": [],
   "source": [
    "def confidence(itemset, H, support_data, rules, min_conf=0.7):\n",
    "    \"\"\"Evaluate the rule generated\"\"\"\n",
    "    prunedSet = []\n",
    "    for h in H:\n",
    "        conf = support_data[itemset] / support_data[itemset - h]\n",
    "        if conf >= min_conf:\n",
    "            print(str(itemset-h) + \"---->\" + str(h) + \" confidence: \" + str(conf))\n",
    "            rules.append((itemset-h, h, conf))\n",
    "            prunedSet.append(h)\n",
    "    return prunedSet"
   ]
  },
  {
   "cell_type": "code",
   "execution_count": 8,
   "metadata": {
    "collapsed": true
   },
   "outputs": [],
   "source": [
    "def rules_(itemset, H, support_data, rules, min_conf=0.7):\n",
    "    \"\"\"Generate a set of candidate rules.\"\"\"\n",
    "    m = len(H[0])\n",
    "    if(len(itemset) > (m+1)):\n",
    "        hmp = joinSet(H, m+1)\n",
    "        hmp = confidence(itemset, hmp, support_data, rules, min_conf)\n",
    "        if len(hmp) > 1:\n",
    "            rules(itemset, hmp, support_data, rules, min_conf)"
   ]
  },
  {
   "cell_type": "code",
   "execution_count": 24,
   "metadata": {
    "collapsed": false
   },
   "outputs": [],
   "source": [
    "def generateRules(L, support_data, min_conf=0.7):\n",
    "    \"\"\"Generate the association rules.\"\"\"\n",
    "    rules = []\n",
    "    for i in range(1, len(L)):\n",
    "        for itemset in L[i]:\n",
    "            H1 = [frozenset([item]) for item in itemset]\n",
    "            print(\"FrequentSet \" + str(itemset) + \"H1 \" + str(H1) + str(i))\n",
    "            if(i > 1):\n",
    "                rules_(itemset, H1, support_data, rules, min_conf)\n",
    "            else:\n",
    "                confidence(itemset, H1, support_data, rules, min_conf)\n",
    "    return rules"
   ]
  },
  {
   "cell_type": "code",
   "execution_count": 25,
   "metadata": {
    "collapsed": false
   },
   "outputs": [],
   "source": [
    "dataset = loadDataSet(PATH)"
   ]
  },
  {
   "cell_type": "code",
   "execution_count": 26,
   "metadata": {
    "collapsed": true
   },
   "outputs": [],
   "source": [
    "L, support = apriori(dataset)"
   ]
  },
  {
   "cell_type": "code",
   "execution_count": 30,
   "metadata": {
    "collapsed": false
   },
   "outputs": [
    {
     "data": {
      "text/plain": [
       "[[frozenset({'c#'}),\n",
       "  frozenset({'c'}),\n",
       "  frozenset({'python'}),\n",
       "  frozenset({'javascript'}),\n",
       "  frozenset({'java'}),\n",
       "  frozenset({'f#'}),\n",
       "  frozenset({'c++'})],\n",
       " [frozenset({'c', 'java'}),\n",
       "  frozenset({'c#', 'java'}),\n",
       "  frozenset({'c++', 'java'}),\n",
       "  frozenset({'c#', 'python'}),\n",
       "  frozenset({'f#', 'java'}),\n",
       "  frozenset({'c#', 'c++'}),\n",
       "  frozenset({'java', 'javascript'}),\n",
       "  frozenset({'java', 'python'}),\n",
       "  frozenset({'c#', 'javascript'})],\n",
       " [frozenset({'c#', 'java', 'javascript'}),\n",
       "  frozenset({'c#', 'c++', 'java'}),\n",
       "  frozenset({'c#', 'java', 'python'})],\n",
       " []]"
      ]
     },
     "execution_count": 30,
     "metadata": {},
     "output_type": "execute_result"
    }
   ],
   "source": [
    "L"
   ]
  },
  {
   "cell_type": "code",
   "execution_count": 27,
   "metadata": {
    "collapsed": false
   },
   "outputs": [
    {
     "name": "stdout",
     "output_type": "stream",
     "text": [
      "FrequentSet frozenset({'java', 'c'})H1 [frozenset({'java'}), frozenset({'c'})]1\n",
      "frozenset({'c'})---->frozenset({'java'}) confidence: 1.0\n",
      "FrequentSet frozenset({'c#', 'java'})H1 [frozenset({'c#'}), frozenset({'java'})]1\n",
      "frozenset({'c#'})---->frozenset({'java'}) confidence: 0.9655172413793103\n",
      "FrequentSet frozenset({'java', 'c++'})H1 [frozenset({'java'}), frozenset({'c++'})]1\n",
      "frozenset({'c++'})---->frozenset({'java'}) confidence: 0.95\n",
      "FrequentSet frozenset({'c#', 'python'})H1 [frozenset({'c#'}), frozenset({'python'})]1\n",
      "FrequentSet frozenset({'java', 'f#'})H1 [frozenset({'java'}), frozenset({'f#'})]1\n",
      "frozenset({'f#'})---->frozenset({'java'}) confidence: 1.0\n",
      "FrequentSet frozenset({'c#', 'c++'})H1 [frozenset({'c#'}), frozenset({'c++'})]1\n",
      "frozenset({'c++'})---->frozenset({'c#'}) confidence: 0.9000000000000001\n",
      "FrequentSet frozenset({'javascript', 'java'})H1 [frozenset({'javascript'}), frozenset({'java'})]1\n",
      "frozenset({'javascript'})---->frozenset({'java'}) confidence: 0.95\n",
      "FrequentSet frozenset({'java', 'python'})H1 [frozenset({'java'}), frozenset({'python'})]1\n",
      "frozenset({'python'})---->frozenset({'java'}) confidence: 0.9047619047619047\n",
      "FrequentSet frozenset({'c#', 'javascript'})H1 [frozenset({'c#'}), frozenset({'javascript'})]1\n",
      "FrequentSet frozenset({'c#', 'java', 'javascript'})H1 [frozenset({'c#'}), frozenset({'java'}), frozenset({'javascript'})]2\n",
      "FrequentSet frozenset({'c#', 'java', 'c++'})H1 [frozenset({'c#'}), frozenset({'java'}), frozenset({'c++'})]2\n",
      "frozenset({'c++'})---->frozenset({'c#', 'java'}) confidence: 0.8500000000000001\n",
      "FrequentSet frozenset({'c#', 'java', 'python'})H1 [frozenset({'c#'}), frozenset({'java'}), frozenset({'python'})]2\n"
     ]
    },
    {
     "data": {
      "text/plain": [
       "[(frozenset({'c'}), frozenset({'java'}), 1.0),\n",
       " (frozenset({'c#'}), frozenset({'java'}), 0.9655172413793103),\n",
       " (frozenset({'c++'}), frozenset({'java'}), 0.95),\n",
       " (frozenset({'f#'}), frozenset({'java'}), 1.0),\n",
       " (frozenset({'c++'}), frozenset({'c#'}), 0.9000000000000001),\n",
       " (frozenset({'javascript'}), frozenset({'java'}), 0.95),\n",
       " (frozenset({'python'}), frozenset({'java'}), 0.9047619047619047),\n",
       " (frozenset({'c++'}), frozenset({'c#', 'java'}), 0.8500000000000001)]"
      ]
     },
     "execution_count": 27,
     "metadata": {},
     "output_type": "execute_result"
    }
   ],
   "source": [
    "generateRules(L, support)"
   ]
  },
  {
   "cell_type": "code",
   "execution_count": null,
   "metadata": {
    "collapsed": true
   },
   "outputs": [],
   "source": []
  }
 ],
 "metadata": {
  "kernelspec": {
   "display_name": "Python 3",
   "language": "python",
   "name": "python3"
  },
  "language_info": {
   "codemirror_mode": {
    "name": "ipython",
    "version": 3
   },
   "file_extension": ".py",
   "mimetype": "text/x-python",
   "name": "python",
   "nbconvert_exporter": "python",
   "pygments_lexer": "ipython3",
   "version": "3.4.3"
  }
 },
 "nbformat": 4,
 "nbformat_minor": 0
}

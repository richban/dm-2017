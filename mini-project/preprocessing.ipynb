{
 "cells": [
  {
   "cell_type": "code",
   "execution_count": 1,
   "metadata": {
    "collapsed": true
   },
   "outputs": [],
   "source": [
    "import csv, os\n",
    "import numpy as np\n",
    "import pandas as pa\n",
    "import re\n",
    "from matplotlib import pyplot as plt\n",
    "%matplotlib inline"
   ]
  },
  {
   "cell_type": "code",
   "execution_count": 2,
   "metadata": {
    "collapsed": false
   },
   "outputs": [],
   "source": [
    "path = '/Users/richardbanyi/Developer/itu/2017-dm/lab1/javacode/data.csv'\n",
    "csv_write = '/Users/richardbanyi/Developer/itu/2017-dm/mini-project/data/data.csv'\n",
    "# source = open(path, 'r')\n",
    "# csv_file = open(csv_write, 'w')\n",
    "# writer = csv.writer(csv_file, delimiter=',', quotechar='\"')"
   ]
  },
  {
   "cell_type": "code",
   "execution_count": 3,
   "metadata": {
    "collapsed": false
   },
   "outputs": [],
   "source": [
    "# Getting know the data - import as list\n",
    "# reader = list(csv.reader((line.replace(';;', ';') for line in source), delimiter=';', quotechar='\"'))"
   ]
  },
  {
   "cell_type": "code",
   "execution_count": 4,
   "metadata": {
    "collapsed": false
   },
   "outputs": [],
   "source": [
    "def filternum(num):\n",
    "    \"\"\"Filter out only numbers with regex\"\"\"\n",
    "    \n",
    "    match = re.match('\\d+', str(num))\n",
    "    if match is not None:\n",
    "        return int(match.group(0))\n",
    "    else:\n",
    "        return np.nan"
   ]
  },
  {
   "cell_type": "code",
   "execution_count": 5,
   "metadata": {
    "collapsed": true
   },
   "outputs": [],
   "source": [
    "def genfilter(gender):\n",
    "    \"\"\"Normalized Genters two to grups male/female\"\"\"\n",
    "    \n",
    "    if (gender.lower() == 'male' or \n",
    "        gender.lower() == 'm' or\n",
    "        gender.lower() == 'Man'\n",
    "       ):\n",
    "        return 'male'\n",
    "    if (gender.lower() == 'female' or gender.lower() == 'f'):\n",
    "        return 'female'\n",
    "    else:\n",
    "        return np.nan"
   ]
  },
  {
   "cell_type": "code",
   "execution_count": 6,
   "metadata": {
    "collapsed": true
   },
   "outputs": [],
   "source": [
    "def seats(seat):\n",
    "    \"\"\"Normalzize seats\"\"\"\n",
    "    \n",
    "    if len(str(seat)) > 1:\n",
    "        return np.nan\n",
    "    else:\n",
    "        return str(seat)"
   ]
  },
  {
   "cell_type": "code",
   "execution_count": 7,
   "metadata": {
    "collapsed": false
   },
   "outputs": [],
   "source": [
    "data = pa.read_csv(csv_write, sep=',', na_values=['unknown', 'Meh', 'none', 'NaN'], header=None, skiprows=1,\n",
    "                  converters={2: lambda x: genfilter(x),\n",
    "                              3: lambda x: float(x.replace(',','.')),\n",
    "                              4: lambda x: float(re.match('\\d+', str(x)).group(0)),\n",
    "                              7: lambda x: x.strip(),\n",
    "                              39: lambda x: filternum(x),\n",
    "                              43: lambda x: seats(x),\n",
    "                              44: lambda x: filternum(x)\n",
    "                             } \n",
    "                  )"
   ]
  },
  {
   "cell_type": "code",
   "execution_count": 8,
   "metadata": {
    "collapsed": false
   },
   "outputs": [],
   "source": [
    "data_subset = data.loc[:, [1, 3, 4, 7, 2]]"
   ]
  },
  {
   "cell_type": "code",
   "execution_count": 9,
   "metadata": {
    "collapsed": false
   },
   "outputs": [],
   "source": [
    "split = lambda x: pa.Series([i.strip() for i in reversed(re.split('; |,', x.lower()))])"
   ]
  },
  {
   "cell_type": "code",
   "execution_count": 10,
   "metadata": {
    "collapsed": false
   },
   "outputs": [],
   "source": [
    "data_subset.columns = ['age', 'shoe_size', 'height', 'language', 'gender']"
   ]
  },
  {
   "cell_type": "code",
   "execution_count": 11,
   "metadata": {
    "collapsed": false
   },
   "outputs": [
    {
     "data": {
      "text/html": [
       "<div>\n",
       "<table border=\"1\" class=\"dataframe\">\n",
       "  <thead>\n",
       "    <tr style=\"text-align: right;\">\n",
       "      <th></th>\n",
       "      <th>age</th>\n",
       "      <th>shoe_size</th>\n",
       "      <th>height</th>\n",
       "    </tr>\n",
       "  </thead>\n",
       "  <tbody>\n",
       "    <tr>\n",
       "      <th>count</th>\n",
       "      <td>67.000000</td>\n",
       "      <td>67.000000</td>\n",
       "      <td>67.000000</td>\n",
       "    </tr>\n",
       "    <tr>\n",
       "      <th>mean</th>\n",
       "      <td>40.701493</td>\n",
       "      <td>41.537313</td>\n",
       "      <td>175.298507</td>\n",
       "    </tr>\n",
       "    <tr>\n",
       "      <th>std</th>\n",
       "      <td>118.907784</td>\n",
       "      <td>5.915640</td>\n",
       "      <td>25.702856</td>\n",
       "    </tr>\n",
       "    <tr>\n",
       "      <th>min</th>\n",
       "      <td>22.000000</td>\n",
       "      <td>2.000000</td>\n",
       "      <td>34.000000</td>\n",
       "    </tr>\n",
       "    <tr>\n",
       "      <th>25%</th>\n",
       "      <td>24.000000</td>\n",
       "      <td>40.750000</td>\n",
       "      <td>172.000000</td>\n",
       "    </tr>\n",
       "    <tr>\n",
       "      <th>50%</th>\n",
       "      <td>25.000000</td>\n",
       "      <td>42.500000</td>\n",
       "      <td>180.000000</td>\n",
       "    </tr>\n",
       "    <tr>\n",
       "      <th>75%</th>\n",
       "      <td>28.000000</td>\n",
       "      <td>44.250000</td>\n",
       "      <td>186.500000</td>\n",
       "    </tr>\n",
       "    <tr>\n",
       "      <th>max</th>\n",
       "      <td>999.000000</td>\n",
       "      <td>49.000000</td>\n",
       "      <td>205.000000</td>\n",
       "    </tr>\n",
       "  </tbody>\n",
       "</table>\n",
       "</div>"
      ],
      "text/plain": [
       "              age  shoe_size      height\n",
       "count   67.000000  67.000000   67.000000\n",
       "mean    40.701493  41.537313  175.298507\n",
       "std    118.907784   5.915640   25.702856\n",
       "min     22.000000   2.000000   34.000000\n",
       "25%     24.000000  40.750000  172.000000\n",
       "50%     25.000000  42.500000  180.000000\n",
       "75%     28.000000  44.250000  186.500000\n",
       "max    999.000000  49.000000  205.000000"
      ]
     },
     "execution_count": 11,
     "metadata": {},
     "output_type": "execute_result"
    }
   ],
   "source": [
    "data_subset.describe()"
   ]
  },
  {
   "cell_type": "code",
   "execution_count": 14,
   "metadata": {
    "collapsed": false
   },
   "outputs": [
    {
     "data": {
      "text/plain": [
       "male      55\n",
       "female     9\n",
       "Name: gender, dtype: int64"
      ]
     },
     "execution_count": 14,
     "metadata": {},
     "output_type": "execute_result"
    }
   ],
   "source": [
    "data_subset['gender'].value_counts()"
   ]
  },
  {
   "cell_type": "code",
   "execution_count": 15,
   "metadata": {
    "collapsed": false
   },
   "outputs": [
    {
     "data": {
      "text/plain": [
       "(67, 5)"
      ]
     },
     "execution_count": 15,
     "metadata": {},
     "output_type": "execute_result"
    }
   ],
   "source": [
    "data_subset.shape"
   ]
  },
  {
   "cell_type": "code",
   "execution_count": 16,
   "metadata": {
    "collapsed": true
   },
   "outputs": [],
   "source": [
    "data_subset = data_subset.dropna(axis=0)"
   ]
  },
  {
   "cell_type": "code",
   "execution_count": 17,
   "metadata": {
    "collapsed": false
   },
   "outputs": [
    {
     "data": {
      "text/plain": [
       "(64, 5)"
      ]
     },
     "execution_count": 17,
     "metadata": {},
     "output_type": "execute_result"
    }
   ],
   "source": [
    "data_subset.shape"
   ]
  },
  {
   "cell_type": "code",
   "execution_count": 18,
   "metadata": {
    "collapsed": false
   },
   "outputs": [],
   "source": [
    "# Dataframe for Appriori\n",
    "language = data_subset['language'].apply(split)"
   ]
  },
  {
   "cell_type": "code",
   "execution_count": 19,
   "metadata": {
    "collapsed": false
   },
   "outputs": [],
   "source": [
    "# Dataframe  for Classification & Clustering\n",
    "x_np = data_subset.loc[:, ['age', 'shoe_size', 'height']].as_matrix()\n",
    "y_np = data_subset.loc[:, ['gender']].as_matrix()"
   ]
  },
  {
   "cell_type": "code",
   "execution_count": 20,
   "metadata": {
    "collapsed": false
   },
   "outputs": [],
   "source": [
    "# Standarization\n",
    "z_scores_np = (x_np - x_np.mean()) / x_np.std()"
   ]
  },
  {
   "cell_type": "code",
   "execution_count": 21,
   "metadata": {
    "collapsed": false
   },
   "outputs": [],
   "source": [
    "# Min-Max scalling\n",
    "np_minmax = (x_np - x_np.min()) / (x_np.max() - x_np.min())"
   ]
  },
  {
   "cell_type": "code",
   "execution_count": 30,
   "metadata": {
    "collapsed": true
   },
   "outputs": [],
   "source": [
    "def plot():\n",
    "    \"\"\"Plot Normalization\"\"\"\n",
    "    plt.figure(figsize=(8,6))\n",
    "    \n",
    "    plt.scatter(x_np[:, 0:1], x_np[:, 1:2], color='green',\n",
    "               label='Input Scale', alpha=0.5)\n",
    "    \n",
    "    #plt.scatter(z_scores_np[:, 0:1], z_scores_np[:, 1:2], color='blue',\n",
    "    #           label='Standardized with Z-Score', alpha=0.3)\n",
    "    \n",
    "    #plt.scatter(np_minmax[:, 0], np_minmax[:, 1], color='red',\n",
    "    #            label='Min-Max scaled [min=0, max=1]', alpha=0.3)\n",
    "    \n",
    "    plt.title('ITU Dataset Normalization')\n",
    "    plt.xlabel('Age')\n",
    "    plt.ylabel('Shoes Size')\n",
    "    plt.legend(loc='upper left')\n",
    "    plt.grid()\n",
    "    plt.tight_layout"
   ]
  },
  {
   "cell_type": "code",
   "execution_count": 32,
   "metadata": {
    "collapsed": false
   },
   "outputs": [
    {
     "data": {
      "image/png": "[encoded data removed]",
      "text/plain": [
       "<matplotlib.figure.Figure at 0x10801c1d0>"
      ]
     },
     "metadata": {},
     "output_type": "display_data"
    }
   ],
   "source": [
    "plot()"
   ]
  },
  {
   "cell_type": "code",
   "execution_count": 33,
   "metadata": {
    "collapsed": false
   },
   "outputs": [],
   "source": [
    "# Added Class/Target Labels\n",
    "class_data = np.concatenate((z_scores_np, y_np), axis=1)\n",
    "class_data_ = np.concatenate((np_minmax, y_np), axis=1)"
   ]
  },
  {
   "cell_type": "code",
   "execution_count": 34,
   "metadata": {
    "collapsed": false
   },
   "outputs": [],
   "source": [
    "# Saved data to csv file\n",
    "np.savetxt(\"data/z_scores.csv\", class_data, delimiter=\",\", fmt=\"%s\")\n",
    "np.savetxt(\"data/n_minmax.csv\", class_data_, delimiter=\",\", fmt=\"%s\")"
   ]
  },
  {
   "cell_type": "code",
   "execution_count": 35,
   "metadata": {
    "collapsed": false
   },
   "outputs": [],
   "source": [
    "# Dataset used for market-basket analysis\n",
    "# Deleted 3 outliers from the dataset\n",
    "apriori = language.drop(language.index[[0, 14, 29]])"
   ]
  },
  {
   "cell_type": "code",
   "execution_count": 36,
   "metadata": {
    "collapsed": false
   },
   "outputs": [
    {
     "data": {
      "text/plain": [
       "array(['r;', 'java', nan, 'css', 'html', 'javascript', 'c', 'c++', 'c#',\n",
       "       'python', 'gml.', 'arduino', 'processing', 'vba', 'f#',\n",
       "       'java c c++ scala', 'matlab', 'scala', 'php', 'kotlin', 'ruby',\n",
       "       'prolog', 'c# java c++ swift python', '', 'r', 'haskell', 'haxe',\n",
       "       'lua', 'html5', 'sql', 'pascal', 'c##', 'vb.net', 'android.',\n",
       "       'puredata', 'jvascript', 'vb', 'batch', 'powershell', 'bash', 'js',\n",
       "       'android', 'erlang', 'golang'], dtype=object)"
      ]
     },
     "execution_count": 36,
     "metadata": {},
     "output_type": "execute_result"
    }
   ],
   "source": [
    "# getting know the unique values\n",
    "pa.unique(apriori.values.ravel())"
   ]
  },
  {
   "cell_type": "code",
   "execution_count": 37,
   "metadata": {
    "collapsed": false
   },
   "outputs": [],
   "source": [
    "# replaces typos\n",
    "apriori[0] = apriori[0].replace(to_replace='r;', value='r')\n",
    "apriori[0] = apriori[0].replace(to_replace='jvascript', value='javascript')\n",
    "apriori[0] = apriori[0].replace(to_replace='c##', value='c#')\n",
    "apriori[0] = apriori[0].replace(to_replace='gml.', value='gml')\n",
    "apriori[0] = apriori[0].replace(to_replace='android.', value='android')\n",
    "apriori[0] = apriori[0].replace(to_replace='vb', value='vba')\n",
    "apriori[6] = apriori[6].replace(to_replace='js', value='javascript')\n",
    "apriori[0] = apriori[0].replace(to_replace='', value=np.nan)\n",
    "apriori[0] = apriori[0].replace(to_replace='java c c++ scala', value=np.nan)\n",
    "apriori[0] = apriori[0].replace(to_replace='c# java c++ swift python', value=np.nan)"
   ]
  },
  {
   "cell_type": "code",
   "execution_count": 38,
   "metadata": {
    "collapsed": false
   },
   "outputs": [
    {
     "data": {
      "text/plain": [
       "array(['r', 'java', nan, 'css', 'html', 'javascript', 'c', 'c++', 'c#',\n",
       "       'python', 'gml', 'arduino', 'processing', 'vba', 'f#', 'matlab',\n",
       "       'scala', 'php', 'kotlin', 'ruby', 'prolog', 'haskell', 'haxe',\n",
       "       'lua', 'html5', 'sql', 'pascal', 'vb.net', 'android', 'puredata',\n",
       "       'batch', 'powershell', 'bash', 'erlang', 'golang'], dtype=object)"
      ]
     },
     "execution_count": 38,
     "metadata": {},
     "output_type": "execute_result"
    }
   ],
   "source": [
    "# compare the final result after replacment\n",
    "pa.unique(apriori.values.ravel())"
   ]
  },
  {
   "cell_type": "code",
   "execution_count": 39,
   "metadata": {
    "collapsed": false
   },
   "outputs": [],
   "source": [
    "np_ap = apriori.as_matrix()"
   ]
  },
  {
   "cell_type": "code",
   "execution_count": 40,
   "metadata": {
    "collapsed": false
   },
   "outputs": [],
   "source": [
    "# get rid of NaN values and empty lists\n",
    "clean = [[x for x in y if str(x) != 'nan'] for y in np_ap]\n",
    "clean = [x for x in clean if x != []]"
   ]
  },
  {
   "cell_type": "code",
   "execution_count": 41,
   "metadata": {
    "collapsed": false
   },
   "outputs": [],
   "source": [
    "# save the data to csv\n",
    "with open('data/apriori.csv', 'w') as f:\n",
    "    csv.writer(f).writerows(clean)"
   ]
  },
  {
   "cell_type": "code",
   "execution_count": 42,
   "metadata": {
    "collapsed": true
   },
   "outputs": [
    {
     "data": {
      "text/plain": [
       "[['r', 'java'],\n",
       " ['java', 'css', 'html'],\n",
       " ['javascript', 'java'],\n",
       " ['java'],\n",
       " ['c', 'c++', 'c#', 'python', 'java', 'javascript'],\n",
       " ['gml', 'javascript', 'java', 'c#', 'c++'],\n",
       " ['css', 'html', 'c#', 'c++', 'python'],\n",
       " ['java'],\n",
       " ['java'],\n",
       " ['arduino', 'processing', 'c#', 'java'],\n",
       " ['javascript', 'vba', 'java', 'f#'],\n",
       " ['c#', 'java', 'c++'],\n",
       " ['matlab', 'python', 'c', 'java'],\n",
       " ['java'],\n",
       " ['java'],\n",
       " ['scala', 'python', 'f#', 'c', 'c#', 'java'],\n",
       " ['html', 'c++', 'java'],\n",
       " ['php', 'kotlin', 'c', 'python', 'c++', 'f#', 'javascript', 'java', 'c#'],\n",
       " ['ruby', 'c++', 'java', 'c#'],\n",
       " ['java'],\n",
       " ['prolog', 'f#', 'c', 'java'],\n",
       " ['f#', 'java', 'c#'],\n",
       " ['c', 'f#', 'python', 'javascript', 'c#', 'java'],\n",
       " ['java', 'c#', 'c++'],\n",
       " ['php', 'c', 'java', 'c++', 'matlab', 'javascript', 'python'],\n",
       " ['javascript', 'python', 'java'],\n",
       " ['vba', 'java', 'r', 'c'],\n",
       " ['java', 'c++', 'c#'],\n",
       " ['javascript', 'java', 'c#'],\n",
       " ['f#', 'c#', 'c++', 'java', 'python'],\n",
       " ['haskell', 'javascript', 'java', 'c++', 'c#', 'haxe'],\n",
       " ['java'],\n",
       " ['java', 'f#', 'c#', 'c++', 'c'],\n",
       " ['javascript', 'python', 'java'],\n",
       " ['java'],\n",
       " ['java'],\n",
       " ['java'],\n",
       " ['java'],\n",
       " ['python', 'f#', 'c', 'c++', 'java', 'c#'],\n",
       " ['javascript', 'python', 'java'],\n",
       " ['python', 'java'],\n",
       " ['lua', 'f#', 'javascript', 'java', 'c#', 'c', 'c++'],\n",
       " ['java'],\n",
       " ['php', 'javascript', 'html5', 'sql', 'python'],\n",
       " ['c#', 'python', 'java'],\n",
       " ['python', 'c++', 'php', 'pascal', 'c#', 'java'],\n",
       " ['c#', 'scala', 'java'],\n",
       " ['java'],\n",
       " ['sql', 'pascal', 'java'],\n",
       " ['vb.net', 'f#', 'javascript', 'lua', 'c', 'java', 'c++', 'c#'],\n",
       " ['css',\n",
       "  'c++',\n",
       "  'c',\n",
       "  'python',\n",
       "  'c#',\n",
       "  'javascript',\n",
       "  'html',\n",
       "  'php',\n",
       "  'sql',\n",
       "  'java'],\n",
       " ['c#', 'python', 'c++', 'java'],\n",
       " ['android',\n",
       "  'processing',\n",
       "  'arduino',\n",
       "  'puredata',\n",
       "  'php',\n",
       "  'javascript',\n",
       "  'css',\n",
       "  'html',\n",
       "  'java',\n",
       "  'c++',\n",
       "  'c#'],\n",
       " ['java'],\n",
       " ['javascript', 'java'],\n",
       " ['vba',\n",
       "  'c#',\n",
       "  'batch',\n",
       "  'powershell',\n",
       "  'python',\n",
       "  'bash',\n",
       "  'javascript',\n",
       "  'android',\n",
       "  'scala',\n",
       "  'php',\n",
       "  'java'],\n",
       " ['python', 'c#', 'javascript', 'haskell', 'f#', 'java', 'scala', 'erlang'],\n",
       " ['c', 'golang', 'f#', 'java', 'c#'],\n",
       " ['vba', 'c#', 'ruby', 'java', 'python']]"
      ]
     },
     "execution_count": 42,
     "metadata": {},
     "output_type": "execute_result"
    }
   ],
   "source": [
    "# print out the results\n",
    "clean"
   ]
  },
  {
   "cell_type": "code",
   "execution_count": null,
   "metadata": {
    "collapsed": true
   },
   "outputs": [],
   "source": []
  }
 ],
 "metadata": {
  "kernelspec": {
   "display_name": "Python 3",
   "language": "python",
   "name": "python3"
  },
  "language_info": {
   "codemirror_mode": {
    "name": "ipython",
    "version": 3
   },
   "file_extension": ".py",
   "mimetype": "text/x-python",
   "name": "python",
   "nbconvert_exporter": "python",
   "pygments_lexer": "ipython3",
   "version": "3.4.3"
  }
 },
 "nbformat": 4,
 "nbformat_minor": 0
}

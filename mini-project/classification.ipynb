{
 "cells": [
  {
   "cell_type": "code",
   "execution_count": 1,
   "metadata": {
    "collapsed": true
   },
   "outputs": [],
   "source": [
    "import csv, os\n",
    "import numpy as np\n",
    "import pandas as pa\n",
    "import re\n",
    "from matplotlib import pyplot as plt\n",
    "import random\n",
    "import math\n",
    "import operator\n",
    "%matplotlib inline\n",
    "\n",
    "PATH = 'data/z_scores.csv'\n",
    "train = []\n",
    "test = []"
   ]
  },
  {
   "cell_type": "code",
   "execution_count": 4,
   "metadata": {
    "collapsed": true
   },
   "outputs": [],
   "source": [
    "# load data and split into training & test sets\n",
    "def loadDataSet(filename, split, train=[], test=[]):\n",
    "    with open(filename, 'r') as file:\n",
    "        lines = csv.reader(file)\n",
    "        dataset = list(lines)\n",
    "        for x in range(len(dataset)-1):\n",
    "            for y in range(3):\n",
    "                dataset[x][y] = float(dataset[x][y])\n",
    "            if random.random() < split:\n",
    "                train.append(dataset[x])\n",
    "            else:\n",
    "                test.append(dataset[x])"
   ]
  },
  {
   "cell_type": "code",
   "execution_count": 5,
   "metadata": {
    "collapsed": true
   },
   "outputs": [],
   "source": [
    "def distance(x1, x2, length):\n",
    "    distance = 0\n",
    "    for x in range(length):\n",
    "        distance += pow((x1[x] - x2[x]), 2)\n",
    "    return math.sqrt(distance)"
   ]
  },
  {
   "cell_type": "code",
   "execution_count": 6,
   "metadata": {
    "collapsed": true
   },
   "outputs": [],
   "source": [
    "def KNeighbors(train, test, k):\n",
    "    distances = []\n",
    "    length = len(test)-1\n",
    "    for x in range(len(train)):\n",
    "        dist = distance(test, train[x], length)\n",
    "        distances.append((train[x], dist))\n",
    "    distances.sort(key=operator.itemgetter(1))\n",
    "    neighbors = []\n",
    "    for x in range(k):\n",
    "        neighbors.append(distances[x][0])\n",
    "    return neighbors "
   ]
  },
  {
   "cell_type": "code",
   "execution_count": 7,
   "metadata": {
    "collapsed": true
   },
   "outputs": [],
   "source": [
    "def getResponse(neighbors):\n",
    "    classVotes = {}\n",
    "    for x in range(len(neighbors)):\n",
    "        response = neighbors[x][-1]\n",
    "        if response in classVotes:\n",
    "            classVotes[response] += 1\n",
    "        else:\n",
    "            classVotes[response] = 1\n",
    "    sortedVotes = sorted(classVotes.items(), key=operator.itemgetter(1), reverse=True)\n",
    "    return sortedVotes[0][0]"
   ]
  },
  {
   "cell_type": "code",
   "execution_count": 8,
   "metadata": {
    "collapsed": false
   },
   "outputs": [],
   "source": [
    "def accuracy_(test, pred):\n",
    "    correct = 0\n",
    "    for x in range(len(test)):\n",
    "        if test[x][-1] == pred[x]:\n",
    "            correct += 1\n",
    "    result = (correct/float(len(test))) * 100.0\n",
    "    return result"
   ]
  },
  {
   "cell_type": "code",
   "execution_count": 83,
   "metadata": {
    "collapsed": true
   },
   "outputs": [],
   "source": [
    "def main():\n",
    "    train = []\n",
    "    test = []\n",
    "    split = 0.7\n",
    "    filename = PATH\n",
    "    accuracy = []\n",
    "    loadDataSet(filename, split, train, test)\n",
    "    print(\"Train: \" + repr(len(train)))\n",
    "    print(\"Test: \"  + repr(len(test)))\n",
    "    # generate predictions\n",
    "    k_ = 30\n",
    "    for k in range(1, k_):\n",
    "        pred = []\n",
    "        for x in range(len(test)):\n",
    "            neighbors = KNeighbors(train, test[x], k)\n",
    "            result = getResponse(neighbors)\n",
    "            pred.append(result)\n",
    "            # print(\"Predicted: \" + repr(result) + \" | Actual: \" + repr(test[x][-1]))\n",
    "        acc = accuracy_(test, pred)\n",
    "        accuracy.append(acc)\n",
    "        # print(\"Accuracy: \" + repr(acc) + '%')\n",
    "    \n",
    "    return accuracy"
   ]
  },
  {
   "cell_type": "code",
   "execution_count": 92,
   "metadata": {
    "collapsed": false
   },
   "outputs": [
    {
     "name": "stdout",
     "output_type": "stream",
     "text": [
      "Train: 39\n",
      "Test: 24\n"
     ]
    }
   ],
   "source": [
    "acc = main()"
   ]
  },
  {
   "cell_type": "code",
   "execution_count": 93,
   "metadata": {
    "collapsed": false
   },
   "outputs": [],
   "source": [
    "k = [x for x in range(1, 30)]"
   ]
  },
  {
   "cell_type": "code",
   "execution_count": 94,
   "metadata": {
    "collapsed": true
   },
   "outputs": [],
   "source": [
    "def plot(acc, k):\n",
    "    \n",
    "    plt.figure(figsize=(8,6))\n",
    "    plt.plot(k, acc)\n",
    "    \n",
    "    \n",
    "    plt.title('KNN Classification')\n",
    "    plt.xlabel('K')\n",
    "    plt.ylabel('Accuracy')\n",
    "    plt.legend(loc='upper left')\n",
    "    plt.grid()\n",
    "    plt.tight_layout"
   ]
  },
  {
   "cell_type": "code",
   "execution_count": 95,
   "metadata": {
    "collapsed": false
   },
   "outputs": [
    {
     "name": "stderr",
     "output_type": "stream",
     "text": [
      "/Users/richardbanyi/Developer/Environments/Data/lib/python3.4/site-packages/matplotlib/axes/_axes.py:545: UserWarning: No labelled objects found. Use label='...' kwarg on individual plots.\n",
      "  warnings.warn(\"No labelled objects found. \"\n"
     ]
    },
    {
     "data": {
      "image/png": "[encoded data removed]",
      "text/plain": [
       "<matplotlib.figure.Figure at 0x108545e80>"
      ]
     },
     "metadata": {},
     "output_type": "display_data"
    }
   ],
   "source": [
    "plot(acc, k)"
   ]
  },
  {
   "cell_type": "code",
   "execution_count": null,
   "metadata": {
    "collapsed": true
   },
   "outputs": [],
   "source": []
  }
 ],
 "metadata": {
  "kernelspec": {
   "display_name": "Python 3",
   "language": "python",
   "name": "python3"
  },
  "language_info": {
   "codemirror_mode": {
    "name": "ipython",
    "version": 3
   },
   "file_extension": ".py",
   "mimetype": "text/x-python",
   "name": "python",
   "nbconvert_exporter": "python",
   "pygments_lexer": "ipython3",
   "version": "3.4.3"
  }
 },
 "nbformat": 4,
 "nbformat_minor": 0
}

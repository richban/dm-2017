{
 "cells": [
  {
   "cell_type": "code",
   "execution_count": 1,
   "metadata": {
    "collapsed": true
   },
   "outputs": [],
   "source": [
    "import csv, os\n",
    "import numpy as np\n",
    "import pandas as pa\n",
    "import re\n",
    "from matplotlib import pyplot as plt\n",
    "import random\n",
    "import math\n",
    "import operator\n",
    "%matplotlib inline\n",
    "\n",
    "PATH = 'data/z_scores.csv'\n",
    "train = []\n",
    "test = []"
   ]
  },
  {
   "cell_type": "code",
   "execution_count": 2,
   "metadata": {
    "collapsed": true
   },
   "outputs": [],
   "source": [
    "# load data and split into training & test sets\n",
    "def loadDataSet(filename, split, train=[], test=[]):\n",
    "    with open(filename, 'r') as file:\n",
    "        lines = csv.reader(file)\n",
    "        dataset = list(lines)\n",
    "        for x in range(len(dataset)-1):\n",
    "            for y in range(3):\n",
    "                dataset[x][y] = float(dataset[x][y])\n",
    "            if random.random() < split:\n",
    "                train.append(dataset[x])\n",
    "            else:\n",
    "                test.append(dataset[x])"
   ]
  },
  {
   "cell_type": "code",
   "execution_count": 3,
   "metadata": {
    "collapsed": false
   },
   "outputs": [],
   "source": [
    "loadDataSet(PATH, 0.66, train, test)"
   ]
  },
  {
   "cell_type": "code",
   "execution_count": 4,
   "metadata": {
    "collapsed": false
   },
   "outputs": [
    {
     "name": "stdout",
     "output_type": "stream",
     "text": [
      "Train: 37\n",
      "Test: 26\n"
     ]
    }
   ],
   "source": [
    "print(\"Train: \" + repr(len(train)))\n",
    "print(\"Test: \"  + repr(len(test)))"
   ]
  },
  {
   "cell_type": "code",
   "execution_count": 5,
   "metadata": {
    "collapsed": true
   },
   "outputs": [],
   "source": [
    "def distance(x1, x2, length):\n",
    "    distance = 0\n",
    "    for x in range(length):\n",
    "        distance += pow((x1[x] - x2[x]), 2)\n",
    "    return math.sqrt(distance)"
   ]
  },
  {
   "cell_type": "code",
   "execution_count": 6,
   "metadata": {
    "collapsed": false
   },
   "outputs": [],
   "source": [
    "x1 = [train[2], train[3]]"
   ]
  },
  {
   "cell_type": "code",
   "execution_count": 7,
   "metadata": {
    "collapsed": true
   },
   "outputs": [],
   "source": [
    "x2 = test[2]"
   ]
  },
  {
   "cell_type": "code",
   "execution_count": 8,
   "metadata": {
    "collapsed": false
   },
   "outputs": [
    {
     "name": "stdout",
     "output_type": "stream",
     "text": [
      "Distance: 0.16343475020051948\n"
     ]
    }
   ],
   "source": [
    "print('Distance: ' + repr((distance(x1[0], x2, len(x2)-1))))"
   ]
  },
  {
   "cell_type": "code",
   "execution_count": 9,
   "metadata": {
    "collapsed": true
   },
   "outputs": [],
   "source": [
    "def KNeighbors(train, test, k):\n",
    "    distances = []\n",
    "    length = len(test)-1\n",
    "    for x in range(len(train)):\n",
    "        dist = distance(test, train[x], length)\n",
    "        distances.append((train[x], dist))\n",
    "    distances.sort(key=operator.itemgetter(1))\n",
    "    neighbors = []\n",
    "    for x in range(k):\n",
    "        neighbors.append(distances[x][0])\n",
    "    return neighbors "
   ]
  },
  {
   "cell_type": "code",
   "execution_count": 10,
   "metadata": {
    "collapsed": true
   },
   "outputs": [],
   "source": [
    "def getResponse(neighbors):\n",
    "    classVotes = {}\n",
    "    for x in range(len(neighbors)):\n",
    "        response = neighbors[x][-1]\n",
    "        if response in classVotes:\n",
    "            classVotes[response] += 1\n",
    "        else:\n",
    "            classVotes[response] = 1\n",
    "    sortedVotes = sorted(classVotes.items(), key=operator.itemgetter(1), reverse=True)\n",
    "    return sortedVotes[0][0]"
   ]
  },
  {
   "cell_type": "code",
   "execution_count": 11,
   "metadata": {
    "collapsed": false
   },
   "outputs": [],
   "source": [
    "def accuracy_(test, pred):\n",
    "    correct = 0\n",
    "    for x in range(len(test)):\n",
    "        if test[x][-1] == pred[x]:\n",
    "            correct += 1\n",
    "    result = (correct/float(len(test))) * 100.0\n",
    "    return result"
   ]
  },
  {
   "cell_type": "code",
   "execution_count": 19,
   "metadata": {
    "collapsed": true
   },
   "outputs": [],
   "source": [
    "def main():\n",
    "    train = []\n",
    "    test = []\n",
    "    split = 0.7\n",
    "    filename = PATH\n",
    "    accuracy = []\n",
    "    loadDataSet(filename, split, train, test)\n",
    "    print(\"Train: \" + repr(len(train)))\n",
    "    print(\"Test: \"  + repr(len(test)))\n",
    "    # generate predictions\n",
    "    pred = []\n",
    "    k = 1\n",
    "    for x in range(len(test)):\n",
    "        neighbors = KNeighbors(train, test[x], k)\n",
    "        result = getResponse(neighbors)\n",
    "        pred.append(result)\n",
    "        print(\"Predicted: \" + repr(result) + \" | Actual: \" + repr(test[x][-1]))\n",
    "    acc = accuracy_(test, pred)\n",
    "    accuracy.append(acc)\n",
    "    print(\"Accuracy: \" + repr(acc) + '%')"
   ]
  },
  {
   "cell_type": "code",
   "execution_count": 25,
   "metadata": {
    "collapsed": true
   },
   "outputs": [
    {
     "name": "stdout",
     "output_type": "stream",
     "text": [
      "Train: 36\n",
      "Test: 27\n",
      "Predicted: 'female' | Actual: 'male'\n",
      "Predicted: 'male' | Actual: 'female'\n",
      "Predicted: 'male' | Actual: 'male'\n",
      "Predicted: 'male' | Actual: 'male'\n",
      "Predicted: 'male' | Actual: 'female'\n",
      "Predicted: 'male' | Actual: 'male'\n",
      "Predicted: 'male' | Actual: 'male'\n",
      "Predicted: 'male' | Actual: 'male'\n",
      "Predicted: 'male' | Actual: 'male'\n",
      "Predicted: 'male' | Actual: 'male'\n",
      "Predicted: 'male' | Actual: 'male'\n",
      "Predicted: 'male' | Actual: 'male'\n",
      "Predicted: 'male' | Actual: 'male'\n",
      "Predicted: 'male' | Actual: 'male'\n",
      "Predicted: 'male' | Actual: 'male'\n",
      "Predicted: 'male' | Actual: 'male'\n",
      "Predicted: 'male' | Actual: 'male'\n",
      "Predicted: 'male' | Actual: 'female'\n",
      "Predicted: 'male' | Actual: 'female'\n",
      "Predicted: 'male' | Actual: 'male'\n",
      "Predicted: 'male' | Actual: 'male'\n",
      "Predicted: 'male' | Actual: 'male'\n",
      "Predicted: 'male' | Actual: 'male'\n",
      "Predicted: 'male' | Actual: 'male'\n",
      "Predicted: 'male' | Actual: 'male'\n",
      "Predicted: 'male' | Actual: 'male'\n",
      "Predicted: 'male' | Actual: 'male'\n",
      "Accuracy: 81.48148148148148%\n"
     ]
    }
   ],
   "source": [
    "main()"
   ]
  },
  {
   "cell_type": "code",
   "execution_count": null,
   "metadata": {
    "collapsed": true
   },
   "outputs": [],
   "source": []
  }
 ],
 "metadata": {
  "kernelspec": {
   "display_name": "Python 3",
   "language": "python",
   "name": "python3"
  },
  "language_info": {
   "codemirror_mode": {
    "name": "ipython",
    "version": 3
   },
   "file_extension": ".py",
   "mimetype": "text/x-python",
   "name": "python",
   "nbconvert_exporter": "python",
   "pygments_lexer": "ipython3",
   "version": "3.4.3"
  }
 },
 "nbformat": 4,
 "nbformat_minor": 0
}

{
 "cells": [
  {
   "cell_type": "code",
   "execution_count": 19,
   "metadata": {
    "collapsed": true
   },
   "outputs": [],
   "source": [
    "import csv, os\n",
    "import numpy as np\n",
    "import pandas as pa\n",
    "import re\n",
    "from matplotlib import pyplot as plt\n",
    "%matplotlib inline\n",
    "\n",
    "PATH = 'data/data.csv'"
   ]
  },
  {
   "cell_type": "code",
   "execution_count": 14,
   "metadata": {
    "collapsed": true
   },
   "outputs": [],
   "source": [
    "def filternum(num):\n",
    "    \"\"\"Filter out only numbers with regex\"\"\"\n",
    "    \n",
    "    match = re.match('\\d+', str(num))\n",
    "    if match is not None:\n",
    "        return int(match.group(0))\n",
    "    else:\n",
    "        return np.nan"
   ]
  },
  {
   "cell_type": "code",
   "execution_count": 15,
   "metadata": {
    "collapsed": true
   },
   "outputs": [],
   "source": [
    "def genfilter(gender):\n",
    "    \"\"\"Normalized Genters two to grups male/female\"\"\"\n",
    "    \n",
    "    if (gender.lower() == 'male' or \n",
    "        gender.lower() == 'm' or\n",
    "        gender.lower() == 'Man'\n",
    "       ):\n",
    "        return 'male'\n",
    "    if (gender.lower() == 'female' or gender.lower() == 'f'):\n",
    "        return 'female'\n",
    "    else:\n",
    "        return np.nan"
   ]
  },
  {
   "cell_type": "code",
   "execution_count": 16,
   "metadata": {
    "collapsed": true
   },
   "outputs": [],
   "source": [
    "def seats(seat):\n",
    "    \"\"\"Normalzize seats\"\"\"\n",
    "    \n",
    "    if len(str(seat)) > 1:\n",
    "        return np.nan\n",
    "    else:\n",
    "        return str(seat)"
   ]
  },
  {
   "cell_type": "code",
   "execution_count": 17,
   "metadata": {
    "collapsed": true
   },
   "outputs": [],
   "source": [
    "def df_data(csv_write):\n",
    "    data = pa.read_csv(csv_write, sep=',', na_values=['unknown', 'Meh', 'none', 'NaN'], header=None, skiprows=1,\n",
    "                      converters={2: lambda x: genfilter(x),\n",
    "                                  3: lambda x: float(x.replace(',','.')),\n",
    "                                  4: lambda x: float(re.match('\\d+', str(x)).group(0)),\n",
    "                                  7: lambda x: x.strip(),\n",
    "                                  39: lambda x: filternum(x),\n",
    "                                  43: lambda x: seats(x),\n",
    "                                  44: lambda x: filternum(x)\n",
    "                                 } \n",
    "                      )\n",
    "    return data"
   ]
  },
  {
   "cell_type": "code",
   "execution_count": 28,
   "metadata": {
    "collapsed": false
   },
   "outputs": [],
   "source": [
    "data = df_data(PATH)"
   ]
  },
  {
   "cell_type": "code",
   "execution_count": 29,
   "metadata": {
    "collapsed": true
   },
   "outputs": [],
   "source": [
    "data = data.loc[:, [1, 3, 4, 2]]"
   ]
  },
  {
   "cell_type": "code",
   "execution_count": 30,
   "metadata": {
    "collapsed": false
   },
   "outputs": [],
   "source": [
    "data.columns = ['age', 'shoe_size', 'height', 'target']"
   ]
  },
  {
   "cell_type": "code",
   "execution_count": 35,
   "metadata": {
    "collapsed": true
   },
   "outputs": [],
   "source": [
    "# Dataframe  for Classification & Clustering\n",
    "x_np = data.loc[:, ['age', 'shoe_size', 'height']].as_matrix()\n",
    "y_labels = data['target'].as_matrix()"
   ]
  },
  {
   "cell_type": "code",
   "execution_count": 36,
   "metadata": {
    "collapsed": true
   },
   "outputs": [],
   "source": [
    "# Min-Max scalling\n",
    "np_minmax = (x_np - x_np.min()) / (x_np.max() - x_np.min())"
   ]
  },
  {
   "cell_type": "code",
   "execution_count": 44,
   "metadata": {
    "collapsed": false
   },
   "outputs": [
    {
     "data": {
      "text/plain": [
       "array([[ 0.03209629,  0.03209629,  0.03209629],\n",
       "       [ 0.03510532,  0.03711133,  0.16750251],\n",
       "       [ 0.0220662 ,  0.04714142,  0.20361083],\n",
       "       [ 0.02708124,  0.03911735,  0.16850552],\n",
       "       [ 0.02607823,  0.04112337,  0.17452357],\n",
       "       [ 0.02106319,  0.04112337,  0.1885657 ],\n",
       "       [ 0.02507523,  0.04212638,  0.18455366],\n",
       "       [ 0.02507523,  0.04312939,  0.18555667],\n",
       "       [ 0.02106319,  0.04062187,  0.17853561],\n",
       "       [ 0.0220662 ,  0.03811434,  0.16349047],\n",
       "       [ 0.0220662 ,  0.03811434,  0.17051153],\n",
       "       [ 0.02407222,  0.0441324 ,  0.1885657 ],\n",
       "       [ 0.02106319,  0.04112337,  0.17452357],\n",
       "       [ 0.02106319,  0.0441324 ,  0.19157472],\n",
       "       [ 0.02507523,  0.04012036,  0.16850552],\n",
       "       [ 0.0220662 ,  0.02507523,  0.18455366],\n",
       "       [ 0.02106319,  0.0441324 ,  0.1885657 ],\n",
       "       [ 0.02607823,  0.03410231,  0.15346038],\n",
       "       [ 0.0220662 ,  0.04312939,  0.19057172],\n",
       "       [ 0.02006018,  0.03911735,  0.18054162],\n",
       "       [ 0.02808425,  0.03911735,  0.16850552],\n",
       "       [ 0.0220662 ,  0.04112337,  0.19057172],\n",
       "       [ 0.0220662 ,  0.04312939,  0.19759278],\n",
       "       [ 0.0220662 ,  0.0441324 ,  0.18956871],\n",
       "       [ 1.        ,  0.        ,  0.04814443],\n",
       "       [ 0.02607823,  0.04312939,  0.18655968],\n",
       "       [ 0.02006018,  0.0441324 ,  0.1885657 ],\n",
       "       [ 0.02006018,  0.04312939,  0.18655968],\n",
       "       [ 0.0220662 ,  0.04262788,  0.18655968],\n",
       "       [ 0.0220662 ,  0.04112337,  0.18154463],\n",
       "       [ 0.02407222,  0.04012036,  0.18054162],\n",
       "       [ 0.02507523,  0.04012036,  0.17352056],\n",
       "       [ 0.02607823,  0.04312939,  0.18355065],\n",
       "       [ 0.0220662 ,  0.04312939,  0.18355065],\n",
       "       [ 0.0220662 ,  0.04312939,  0.1885657 ],\n",
       "       [ 0.02306921,  0.04212638,  0.17652959],\n",
       "       [ 0.02407222,  0.04012036,  0.16950853],\n",
       "       [ 0.02507523,  0.04212638,  0.18756269],\n",
       "       [ 0.0220662 ,  0.04312939,  0.18154463],\n",
       "       [ 0.03811434,  0.03510532,  0.16048144],\n",
       "       [ 0.02808425,  0.03911735,  0.17352056],\n",
       "       [ 0.02306921,  0.03811434,  0.16750251],\n",
       "       [ 0.03610832,  0.04062187,  0.18154463],\n",
       "       [ 0.02106319,  0.03610832,  0.15646941],\n",
       "       [ 0.02507523,  0.04112337,  0.17953862],\n",
       "       [ 0.02407222,  0.04212638,  0.17452357],\n",
       "       [ 0.0220662 ,  0.04212638,  0.17853561],\n",
       "       [ 0.02407222,  0.03861585,  0.17352056],\n",
       "       [ 0.02507523,  0.03711133,  0.17051153],\n",
       "       [ 0.02808425,  0.04112337,  0.17552658],\n",
       "       [ 0.02106319,  0.03510532,  0.15346038],\n",
       "       [ 0.02106319,  0.04012036,  0.18355065],\n",
       "       [ 0.02006018,  0.03811434,  0.15847543],\n",
       "       [ 0.02708124,  0.04112337,  0.18355065],\n",
       "       [ 0.02507523,  0.04012036,  0.17352056],\n",
       "       [ 0.02607823,  0.04012036,  0.17953862],\n",
       "       [ 0.0220662 ,  0.04012036,  0.18154463],\n",
       "       [ 0.02407222,  0.04112337,  0.18355065],\n",
       "       [ 0.02106319,  0.03911735,  0.17051153],\n",
       "       [ 0.0220662 ,  0.03811434,  0.17251755],\n",
       "       [ 0.02407222,  0.04012036,  0.17853561],\n",
       "       [ 0.02607823,  0.04212638,  0.18655968],\n",
       "       [ 0.02607823,  0.04012036,  0.1775326 ],\n",
       "       [ 0.02306921,  0.04312939,  0.18054162],\n",
       "       [ 0.0330993 ,  0.04012036,  0.17151454],\n",
       "       [ 0.02306921,  0.03510532,  0.15847543],\n",
       "       [ 0.02106319,  0.03811434,  0.17352056]])"
      ]
     },
     "execution_count": 44,
     "metadata": {},
     "output_type": "execute_result"
    }
   ],
   "source": []
  },
  {
   "cell_type": "code",
   "execution_count": null,
   "metadata": {
    "collapsed": true
   },
   "outputs": [],
   "source": []
  }
 ],
 "metadata": {
  "kernelspec": {
   "display_name": "Python 3",
   "language": "python",
   "name": "python3"
  },
  "language_info": {
   "codemirror_mode": {
    "name": "ipython",
    "version": 3
   },
   "file_extension": ".py",
   "mimetype": "text/x-python",
   "name": "python",
   "nbconvert_exporter": "python",
   "pygments_lexer": "ipython3",
   "version": "3.4.3"
  }
 },
 "nbformat": 4,
 "nbformat_minor": 0
}

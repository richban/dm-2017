{
 "cells": [
  {
   "cell_type": "code",
   "execution_count": 1,
   "metadata": {
    "collapsed": true
   },
   "outputs": [],
   "source": [
    "from numpy import genfromtxt\n",
    "import numpy as np\n",
    "import pandas as pd\n",
    "from sklearn import preprocessing\n",
    "from sklearn.preprocessing import Imputer\n",
    "from sklearn.cluster import KMeans\n",
    "from mpl_toolkits.mplot3d import Axes3D\n",
    "import matplotlib.pyplot as plt"
   ]
  },
  {
   "cell_type": "code",
   "execution_count": 2,
   "metadata": {
    "collapsed": true
   },
   "outputs": [],
   "source": [
    "path = \"../data/clustering_data.tsv\""
   ]
  },
  {
   "cell_type": "code",
   "execution_count": 3,
   "metadata": {
    "collapsed": false
   },
   "outputs": [],
   "source": [
    "df = pd.read_csv(path, delimiter=\"\\t\")"
   ]
  },
  {
   "cell_type": "code",
   "execution_count": 4,
   "metadata": {
    "collapsed": false
   },
   "outputs": [
    {
     "data": {
      "text/plain": [
       "Index(['energy_100g', 'fat_100g', 'saturated-fat_100g', 'trans-fat_100g',\n",
       "       'cholesterol_100g', 'carbohydrates_100g', 'sugars_100g', 'fiber_100g',\n",
       "       'proteins_100g', 'salt_100g', 'sodium_100g', 'vitamin-a_100g',\n",
       "       'vitamin-c_100g', 'calcium_100g', 'iron_100g'],\n",
       "      dtype='object')"
      ]
     },
     "execution_count": 4,
     "metadata": {},
     "output_type": "execute_result"
    }
   ],
   "source": [
    "df.columns"
   ]
  },
  {
   "cell_type": "code",
   "execution_count": 5,
   "metadata": {
    "collapsed": false
   },
   "outputs": [
    {
     "data": {
      "text/html": [
       "<div>\n",
       "<table border=\"1\" class=\"dataframe\">\n",
       "  <thead>\n",
       "    <tr style=\"text-align: right;\">\n",
       "      <th></th>\n",
       "      <th>energy_100g</th>\n",
       "      <th>fat_100g</th>\n",
       "      <th>saturated-fat_100g</th>\n",
       "      <th>trans-fat_100g</th>\n",
       "      <th>cholesterol_100g</th>\n",
       "      <th>carbohydrates_100g</th>\n",
       "      <th>sugars_100g</th>\n",
       "      <th>fiber_100g</th>\n",
       "      <th>proteins_100g</th>\n",
       "      <th>salt_100g</th>\n",
       "      <th>sodium_100g</th>\n",
       "      <th>vitamin-a_100g</th>\n",
       "      <th>vitamin-c_100g</th>\n",
       "      <th>calcium_100g</th>\n",
       "      <th>iron_100g</th>\n",
       "    </tr>\n",
       "  </thead>\n",
       "  <tbody>\n",
       "    <tr>\n",
       "      <th>count</th>\n",
       "      <td>2.641030e+05</td>\n",
       "      <td>246947.000000</td>\n",
       "      <td>232582.000000</td>\n",
       "      <td>143310.000000</td>\n",
       "      <td>144097.000000</td>\n",
       "      <td>246656.000000</td>\n",
       "      <td>247992.000000</td>\n",
       "      <td>202664.000000</td>\n",
       "      <td>262908.000000</td>\n",
       "      <td>258532.000000</td>\n",
       "      <td>258485.000000</td>\n",
       "      <td>137570.000000</td>\n",
       "      <td>140891.000000</td>\n",
       "      <td>141086.000000</td>\n",
       "      <td>140485.000000</td>\n",
       "    </tr>\n",
       "    <tr>\n",
       "      <th>mean</th>\n",
       "      <td>1.141734e+03</td>\n",
       "      <td>12.744683</td>\n",
       "      <td>5.128742</td>\n",
       "      <td>0.073474</td>\n",
       "      <td>0.020070</td>\n",
       "      <td>32.016909</td>\n",
       "      <td>15.964292</td>\n",
       "      <td>2.863981</td>\n",
       "      <td>7.079194</td>\n",
       "      <td>2.018999</td>\n",
       "      <td>0.795024</td>\n",
       "      <td>0.000397</td>\n",
       "      <td>0.023367</td>\n",
       "      <td>0.125177</td>\n",
       "      <td>0.003741</td>\n",
       "    </tr>\n",
       "    <tr>\n",
       "      <th>std</th>\n",
       "      <td>6.411181e+03</td>\n",
       "      <td>17.586484</td>\n",
       "      <td>8.016221</td>\n",
       "      <td>1.540159</td>\n",
       "      <td>0.358053</td>\n",
       "      <td>29.705222</td>\n",
       "      <td>22.280895</td>\n",
       "      <td>12.821718</td>\n",
       "      <td>8.401575</td>\n",
       "      <td>127.518382</td>\n",
       "      <td>50.208649</td>\n",
       "      <td>0.073274</td>\n",
       "      <td>2.236260</td>\n",
       "      <td>3.317841</td>\n",
       "      <td>0.216165</td>\n",
       "    </tr>\n",
       "    <tr>\n",
       "      <th>min</th>\n",
       "      <td>0.000000e+00</td>\n",
       "      <td>0.000000</td>\n",
       "      <td>0.000000</td>\n",
       "      <td>-3.570000</td>\n",
       "      <td>0.000000</td>\n",
       "      <td>0.000000</td>\n",
       "      <td>-17.860000</td>\n",
       "      <td>-6.700000</td>\n",
       "      <td>-800.000000</td>\n",
       "      <td>0.000000</td>\n",
       "      <td>0.000000</td>\n",
       "      <td>-0.000340</td>\n",
       "      <td>-0.002100</td>\n",
       "      <td>0.000000</td>\n",
       "      <td>-0.000260</td>\n",
       "    </tr>\n",
       "    <tr>\n",
       "      <th>25%</th>\n",
       "      <td>3.770000e+02</td>\n",
       "      <td>0.000000</td>\n",
       "      <td>0.000000</td>\n",
       "      <td>0.000000</td>\n",
       "      <td>0.000000</td>\n",
       "      <td>5.910000</td>\n",
       "      <td>1.300000</td>\n",
       "      <td>0.000000</td>\n",
       "      <td>0.700000</td>\n",
       "      <td>0.063500</td>\n",
       "      <td>0.025000</td>\n",
       "      <td>0.000000</td>\n",
       "      <td>0.000000</td>\n",
       "      <td>0.000000</td>\n",
       "      <td>0.000000</td>\n",
       "    </tr>\n",
       "    <tr>\n",
       "      <th>50%</th>\n",
       "      <td>1.100000e+03</td>\n",
       "      <td>5.000000</td>\n",
       "      <td>1.790000</td>\n",
       "      <td>0.000000</td>\n",
       "      <td>0.000000</td>\n",
       "      <td>20.410000</td>\n",
       "      <td>5.700000</td>\n",
       "      <td>1.500000</td>\n",
       "      <td>4.760000</td>\n",
       "      <td>0.580000</td>\n",
       "      <td>0.228346</td>\n",
       "      <td>0.000000</td>\n",
       "      <td>0.000000</td>\n",
       "      <td>0.035000</td>\n",
       "      <td>0.001010</td>\n",
       "    </tr>\n",
       "    <tr>\n",
       "      <th>75%</th>\n",
       "      <td>1.674000e+03</td>\n",
       "      <td>20.000000</td>\n",
       "      <td>7.140000</td>\n",
       "      <td>0.000000</td>\n",
       "      <td>0.020000</td>\n",
       "      <td>58.180000</td>\n",
       "      <td>24.000000</td>\n",
       "      <td>3.600000</td>\n",
       "      <td>10.000000</td>\n",
       "      <td>1.371600</td>\n",
       "      <td>0.540000</td>\n",
       "      <td>0.000107</td>\n",
       "      <td>0.003700</td>\n",
       "      <td>0.106000</td>\n",
       "      <td>0.002400</td>\n",
       "    </tr>\n",
       "    <tr>\n",
       "      <th>max</th>\n",
       "      <td>3.251373e+06</td>\n",
       "      <td>714.290000</td>\n",
       "      <td>550.000000</td>\n",
       "      <td>369.000000</td>\n",
       "      <td>95.238000</td>\n",
       "      <td>2916.670000</td>\n",
       "      <td>3520.000000</td>\n",
       "      <td>5380.000000</td>\n",
       "      <td>430.000000</td>\n",
       "      <td>64312.800000</td>\n",
       "      <td>25320.000000</td>\n",
       "      <td>26.700000</td>\n",
       "      <td>716.981100</td>\n",
       "      <td>694.737000</td>\n",
       "      <td>50.000000</td>\n",
       "    </tr>\n",
       "  </tbody>\n",
       "</table>\n",
       "</div>"
      ],
      "text/plain": [
       "        energy_100g       fat_100g  saturated-fat_100g  trans-fat_100g  \\\n",
       "count  2.641030e+05  246947.000000       232582.000000   143310.000000   \n",
       "mean   1.141734e+03      12.744683            5.128742        0.073474   \n",
       "std    6.411181e+03      17.586484            8.016221        1.540159   \n",
       "min    0.000000e+00       0.000000            0.000000       -3.570000   \n",
       "25%    3.770000e+02       0.000000            0.000000        0.000000   \n",
       "50%    1.100000e+03       5.000000            1.790000        0.000000   \n",
       "75%    1.674000e+03      20.000000            7.140000        0.000000   \n",
       "max    3.251373e+06     714.290000          550.000000      369.000000   \n",
       "\n",
       "       cholesterol_100g  carbohydrates_100g    sugars_100g     fiber_100g  \\\n",
       "count     144097.000000       246656.000000  247992.000000  202664.000000   \n",
       "mean           0.020070           32.016909      15.964292       2.863981   \n",
       "std            0.358053           29.705222      22.280895      12.821718   \n",
       "min            0.000000            0.000000     -17.860000      -6.700000   \n",
       "25%            0.000000            5.910000       1.300000       0.000000   \n",
       "50%            0.000000           20.410000       5.700000       1.500000   \n",
       "75%            0.020000           58.180000      24.000000       3.600000   \n",
       "max           95.238000         2916.670000    3520.000000    5380.000000   \n",
       "\n",
       "       proteins_100g      salt_100g    sodium_100g  vitamin-a_100g  \\\n",
       "count  262908.000000  258532.000000  258485.000000   137570.000000   \n",
       "mean        7.079194       2.018999       0.795024        0.000397   \n",
       "std         8.401575     127.518382      50.208649        0.073274   \n",
       "min      -800.000000       0.000000       0.000000       -0.000340   \n",
       "25%         0.700000       0.063500       0.025000        0.000000   \n",
       "50%         4.760000       0.580000       0.228346        0.000000   \n",
       "75%        10.000000       1.371600       0.540000        0.000107   \n",
       "max       430.000000   64312.800000   25320.000000       26.700000   \n",
       "\n",
       "       vitamin-c_100g   calcium_100g      iron_100g  \n",
       "count   140891.000000  141086.000000  140485.000000  \n",
       "mean         0.023367       0.125177       0.003741  \n",
       "std          2.236260       3.317841       0.216165  \n",
       "min         -0.002100       0.000000      -0.000260  \n",
       "25%          0.000000       0.000000       0.000000  \n",
       "50%          0.000000       0.035000       0.001010  \n",
       "75%          0.003700       0.106000       0.002400  \n",
       "max        716.981100     694.737000      50.000000  "
      ]
     },
     "execution_count": 5,
     "metadata": {},
     "output_type": "execute_result"
    }
   ],
   "source": [
    "df.describe()"
   ]
  },
  {
   "cell_type": "code",
   "execution_count": 6,
   "metadata": {
    "collapsed": false
   },
   "outputs": [
    {
     "data": {
      "text/plain": [
       "3984285"
      ]
     },
     "execution_count": 6,
     "metadata": {},
     "output_type": "execute_result"
    }
   ],
   "source": [
    "# Number of all values\n",
    "df.size"
   ]
  },
  {
   "cell_type": "code",
   "execution_count": 7,
   "metadata": {
    "collapsed": false
   },
   "outputs": [
    {
     "data": {
      "text/plain": [
       "(265619, 15)"
      ]
     },
     "execution_count": 7,
     "metadata": {},
     "output_type": "execute_result"
    }
   ],
   "source": [
    "df.shape"
   ]
  },
  {
   "cell_type": "code",
   "execution_count": 8,
   "metadata": {
    "collapsed": false
   },
   "outputs": [
    {
     "data": {
      "text/plain": [
       "True"
      ]
     },
     "execution_count": 8,
     "metadata": {},
     "output_type": "execute_result"
    }
   ],
   "source": [
    "df.isnull().values.any()"
   ]
  },
  {
   "cell_type": "code",
   "execution_count": 9,
   "metadata": {
    "collapsed": false
   },
   "outputs": [
    {
     "data": {
      "text/plain": [
       "915977"
      ]
     },
     "execution_count": 9,
     "metadata": {},
     "output_type": "execute_result"
    }
   ],
   "source": [
    "# NaN values\n",
    "# 22.989745964457864\n",
    "df.isnull().sum().sum()"
   ]
  },
  {
   "cell_type": "code",
   "execution_count": 10,
   "metadata": {
    "collapsed": false
   },
   "outputs": [
    {
     "data": {
      "text/plain": [
       "3068308"
      ]
     },
     "execution_count": 10,
     "metadata": {},
     "output_type": "execute_result"
    }
   ],
   "source": [
    "# Number of non NAN values\n",
    "df.notnull().sum().sum()"
   ]
  },
  {
   "cell_type": "code",
   "execution_count": 11,
   "metadata": {
    "collapsed": false
   },
   "outputs": [
    {
     "data": {
      "text/plain": [
       "246170"
      ]
     },
     "execution_count": 11,
     "metadata": {},
     "output_type": "execute_result"
    }
   ],
   "source": [
    "# Number of outliers\n",
    "df[df > 100].notnull().sum().sum()"
   ]
  },
  {
   "cell_type": "code",
   "execution_count": 12,
   "metadata": {
    "collapsed": true
   },
   "outputs": [],
   "source": [
    "# Imputation of missing values fill in missing values with median\n",
    "imp = Imputer(missing_values='NaN', strategy='median', axis=0)\n",
    "imputer = imp.fit_transform(df.as_matrix())"
   ]
  },
  {
   "cell_type": "code",
   "execution_count": 13,
   "metadata": {
    "collapsed": false
   },
   "outputs": [],
   "source": [
    "# Scaling data with outliers\n",
    "robust_scale = preprocessing.robust_scale(imputer, axis=0)"
   ]
  },
  {
   "cell_type": "code",
   "execution_count": 14,
   "metadata": {
    "collapsed": false
   },
   "outputs": [
    {
     "data": {
      "text/plain": [
       "array([[  0.88399072,   1.26380697,   4.22397476, ...,   0.0214    ,\n",
       "         -2.91666667,   1.03703704],\n",
       "       [  0.65042537,   0.68954424,  -0.28233438, ...,   0.        ,\n",
       "          3.        ,   1.03703704],\n",
       "       [  1.1136891 ,   2.79571046,   0.56309148, ...,   0.        ,\n",
       "          9.        ,  15.2962963 ],\n",
       "       ..., \n",
       "       [ -0.83449343,  -0.25737265,  -0.25078864, ...,   0.        ,\n",
       "          0.        ,   0.        ],\n",
       "       [ -0.85073473,  -0.26809651,  -0.28233438, ...,   0.        ,\n",
       "         -2.91666667,  -3.74074074],\n",
       "       [  0.76720804,  -0.26809651,   0.        , ...,   0.        ,\n",
       "          0.        ,   0.        ]])"
      ]
     },
     "execution_count": 14,
     "metadata": {},
     "output_type": "execute_result"
    }
   ],
   "source": [
    "robust_scale"
   ]
  },
  {
   "cell_type": "code",
   "execution_count": 15,
   "metadata": {
    "collapsed": true
   },
   "outputs": [],
   "source": [
    "# Convert NumpyArray to Pandas DataFrame\n",
    "columns = ['energy_100g', 'fat_100g', 'saturated-fat_100g', 'trans-fat_100g',\n",
    "       'cholesterol_100g', 'carbohydrates_100g', 'sugars_100g', 'fiber_100g',\n",
    "       'proteins_100g', 'salt_100g', 'sodium_100g', 'vitamin-a_100g',\n",
    "       'vitamin-c_100g', 'calcium_100g', 'iron_100g']\n",
    "clean_data = pd.DataFrame(data=robust_scale,columns=columns)"
   ]
  },
  {
   "cell_type": "code",
   "execution_count": 16,
   "metadata": {
    "collapsed": false
   },
   "outputs": [
    {
     "data": {
      "text/html": [
       "<div>\n",
       "<table border=\"1\" class=\"dataframe\">\n",
       "  <thead>\n",
       "    <tr style=\"text-align: right;\">\n",
       "      <th></th>\n",
       "      <th>energy_100g</th>\n",
       "      <th>fat_100g</th>\n",
       "      <th>saturated-fat_100g</th>\n",
       "      <th>trans-fat_100g</th>\n",
       "      <th>cholesterol_100g</th>\n",
       "      <th>carbohydrates_100g</th>\n",
       "      <th>sugars_100g</th>\n",
       "      <th>fiber_100g</th>\n",
       "      <th>proteins_100g</th>\n",
       "      <th>salt_100g</th>\n",
       "      <th>sodium_100g</th>\n",
       "      <th>vitamin-a_100g</th>\n",
       "      <th>vitamin-c_100g</th>\n",
       "      <th>calcium_100g</th>\n",
       "      <th>iron_100g</th>\n",
       "    </tr>\n",
       "  </thead>\n",
       "  <tbody>\n",
       "    <tr>\n",
       "      <th>count</th>\n",
       "      <td>265619.000000</td>\n",
       "      <td>265619.000000</td>\n",
       "      <td>265619.000000</td>\n",
       "      <td>265619.000000</td>\n",
       "      <td>265619.000000</td>\n",
       "      <td>265619.000000</td>\n",
       "      <td>265619.000000</td>\n",
       "      <td>265619.000000</td>\n",
       "      <td>265619.000000</td>\n",
       "      <td>265619.000000</td>\n",
       "      <td>265619.000000</td>\n",
       "      <td>265619.000000</td>\n",
       "      <td>265619.000000</td>\n",
       "      <td>265619.000000</td>\n",
       "      <td>265619.000000</td>\n",
       "    </tr>\n",
       "    <tr>\n",
       "      <th>mean</th>\n",
       "      <td>0.032092</td>\n",
       "      <td>0.386073</td>\n",
       "      <td>0.461116</td>\n",
       "      <td>0.039642</td>\n",
       "      <td>0.010888</td>\n",
       "      <td>0.216583</td>\n",
       "      <td>0.477010</td>\n",
       "      <td>0.346900</td>\n",
       "      <td>0.246830</td>\n",
       "      <td>1.097481</td>\n",
       "      <td>1.097557</td>\n",
       "      <td>0.000205</td>\n",
       "      <td>0.012394</td>\n",
       "      <td>3.991515</td>\n",
       "      <td>5.349670</td>\n",
       "    </tr>\n",
       "    <tr>\n",
       "      <th>std</th>\n",
       "      <td>4.944207</td>\n",
       "      <td>0.915404</td>\n",
       "      <td>1.195843</td>\n",
       "      <td>1.131881</td>\n",
       "      <td>0.263910</td>\n",
       "      <td>0.578334</td>\n",
       "      <td>1.079142</td>\n",
       "      <td>3.738222</td>\n",
       "      <td>0.899123</td>\n",
       "      <td>98.578534</td>\n",
       "      <td>98.578530</td>\n",
       "      <td>0.052733</td>\n",
       "      <td>1.628714</td>\n",
       "      <td>201.539948</td>\n",
       "      <td>582.268342</td>\n",
       "    </tr>\n",
       "    <tr>\n",
       "      <th>min</th>\n",
       "      <td>-0.850735</td>\n",
       "      <td>-0.268097</td>\n",
       "      <td>-0.282334</td>\n",
       "      <td>-3.570000</td>\n",
       "      <td>0.000000</td>\n",
       "      <td>-0.410128</td>\n",
       "      <td>-1.172723</td>\n",
       "      <td>-2.733333</td>\n",
       "      <td>-86.533333</td>\n",
       "      <td>-0.454474</td>\n",
       "      <td>-0.454474</td>\n",
       "      <td>-0.000340</td>\n",
       "      <td>-0.002100</td>\n",
       "      <td>-2.916667</td>\n",
       "      <td>-4.703704</td>\n",
       "    </tr>\n",
       "    <tr>\n",
       "      <th>25%</th>\n",
       "      <td>-0.556071</td>\n",
       "      <td>-0.262735</td>\n",
       "      <td>-0.282334</td>\n",
       "      <td>0.000000</td>\n",
       "      <td>0.000000</td>\n",
       "      <td>-0.276098</td>\n",
       "      <td>-0.203584</td>\n",
       "      <td>-0.500000</td>\n",
       "      <td>-0.436559</td>\n",
       "      <td>-0.399624</td>\n",
       "      <td>-0.399624</td>\n",
       "      <td>0.000000</td>\n",
       "      <td>0.000000</td>\n",
       "      <td>-0.333333</td>\n",
       "      <td>-0.444444</td>\n",
       "    </tr>\n",
       "    <tr>\n",
       "      <th>50%</th>\n",
       "      <td>0.000000</td>\n",
       "      <td>0.000000</td>\n",
       "      <td>0.000000</td>\n",
       "      <td>0.000000</td>\n",
       "      <td>0.000000</td>\n",
       "      <td>0.000000</td>\n",
       "      <td>0.000000</td>\n",
       "      <td>0.000000</td>\n",
       "      <td>0.000000</td>\n",
       "      <td>0.000000</td>\n",
       "      <td>0.000000</td>\n",
       "      <td>0.000000</td>\n",
       "      <td>0.000000</td>\n",
       "      <td>0.000000</td>\n",
       "      <td>0.000000</td>\n",
       "    </tr>\n",
       "    <tr>\n",
       "      <th>75%</th>\n",
       "      <td>0.443929</td>\n",
       "      <td>0.737265</td>\n",
       "      <td>0.717666</td>\n",
       "      <td>0.000000</td>\n",
       "      <td>0.000000</td>\n",
       "      <td>0.723902</td>\n",
       "      <td>0.796416</td>\n",
       "      <td>0.500000</td>\n",
       "      <td>0.563441</td>\n",
       "      <td>0.600376</td>\n",
       "      <td>0.600376</td>\n",
       "      <td>0.000000</td>\n",
       "      <td>0.000000</td>\n",
       "      <td>0.666667</td>\n",
       "      <td>0.555556</td>\n",
       "    </tr>\n",
       "    <tr>\n",
       "      <th>max</th>\n",
       "      <td>2513.745553</td>\n",
       "      <td>38.031635</td>\n",
       "      <td>86.468454</td>\n",
       "      <td>369.000000</td>\n",
       "      <td>95.238000</td>\n",
       "      <td>58.198734</td>\n",
       "      <td>174.927825</td>\n",
       "      <td>1792.833333</td>\n",
       "      <td>45.724731</td>\n",
       "      <td>50393.527660</td>\n",
       "      <td>50393.527660</td>\n",
       "      <td>26.700000</td>\n",
       "      <td>716.981100</td>\n",
       "      <td>57891.833333</td>\n",
       "      <td>185181.444444</td>\n",
       "    </tr>\n",
       "  </tbody>\n",
       "</table>\n",
       "</div>"
      ],
      "text/plain": [
       "         energy_100g       fat_100g  saturated-fat_100g  trans-fat_100g  \\\n",
       "count  265619.000000  265619.000000       265619.000000   265619.000000   \n",
       "mean        0.032092       0.386073            0.461116        0.039642   \n",
       "std         4.944207       0.915404            1.195843        1.131881   \n",
       "min        -0.850735      -0.268097           -0.282334       -3.570000   \n",
       "25%        -0.556071      -0.262735           -0.282334        0.000000   \n",
       "50%         0.000000       0.000000            0.000000        0.000000   \n",
       "75%         0.443929       0.737265            0.717666        0.000000   \n",
       "max      2513.745553      38.031635           86.468454      369.000000   \n",
       "\n",
       "       cholesterol_100g  carbohydrates_100g    sugars_100g     fiber_100g  \\\n",
       "count     265619.000000       265619.000000  265619.000000  265619.000000   \n",
       "mean           0.010888            0.216583       0.477010       0.346900   \n",
       "std            0.263910            0.578334       1.079142       3.738222   \n",
       "min            0.000000           -0.410128      -1.172723      -2.733333   \n",
       "25%            0.000000           -0.276098      -0.203584      -0.500000   \n",
       "50%            0.000000            0.000000       0.000000       0.000000   \n",
       "75%            0.000000            0.723902       0.796416       0.500000   \n",
       "max           95.238000           58.198734     174.927825    1792.833333   \n",
       "\n",
       "       proteins_100g      salt_100g    sodium_100g  vitamin-a_100g  \\\n",
       "count  265619.000000  265619.000000  265619.000000   265619.000000   \n",
       "mean        0.246830       1.097481       1.097557        0.000205   \n",
       "std         0.899123      98.578534      98.578530        0.052733   \n",
       "min       -86.533333      -0.454474      -0.454474       -0.000340   \n",
       "25%        -0.436559      -0.399624      -0.399624        0.000000   \n",
       "50%         0.000000       0.000000       0.000000        0.000000   \n",
       "75%         0.563441       0.600376       0.600376        0.000000   \n",
       "max        45.724731   50393.527660   50393.527660       26.700000   \n",
       "\n",
       "       vitamin-c_100g   calcium_100g      iron_100g  \n",
       "count   265619.000000  265619.000000  265619.000000  \n",
       "mean         0.012394       3.991515       5.349670  \n",
       "std          1.628714     201.539948     582.268342  \n",
       "min         -0.002100      -2.916667      -4.703704  \n",
       "25%          0.000000      -0.333333      -0.444444  \n",
       "50%          0.000000       0.000000       0.000000  \n",
       "75%          0.000000       0.666667       0.555556  \n",
       "max        716.981100   57891.833333  185181.444444  "
      ]
     },
     "execution_count": 16,
     "metadata": {},
     "output_type": "execute_result"
    }
   ],
   "source": [
    "clean_data.describe()"
   ]
  },
  {
   "cell_type": "code",
   "execution_count": 17,
   "metadata": {
    "collapsed": false
   },
   "outputs": [],
   "source": [
    "# Scaling sparse data with maxabscale\n",
    "maxabs_scaled = preprocessing.maxabs_scale(imputer, axis=0)"
   ]
  },
  {
   "cell_type": "code",
   "execution_count": 18,
   "metadata": {
    "collapsed": true
   },
   "outputs": [],
   "source": [
    "# Convert NumpyArray to Pandas DataFrame\n",
    "columns = ['energy_100g', 'fat_100g', 'saturated-fat_100g', 'trans-fat_100g',\n",
    "       'cholesterol_100g', 'carbohydrates_100g', 'sugars_100g', 'fiber_100g',\n",
    "       'proteins_100g', 'salt_100g', 'sodium_100g', 'vitamin-a_100g',\n",
    "       'vitamin-c_100g', 'calcium_100g', 'iron_100g']\n",
    "maxabs_data = pd.DataFrame(data=maxabs_scaled,columns=columns)"
   ]
  },
  {
   "cell_type": "code",
   "execution_count": 19,
   "metadata": {
    "collapsed": false
   },
   "outputs": [
    {
     "data": {
      "text/html": [
       "<div>\n",
       "<table border=\"1\" class=\"dataframe\">\n",
       "  <thead>\n",
       "    <tr style=\"text-align: right;\">\n",
       "      <th></th>\n",
       "      <th>energy_100g</th>\n",
       "      <th>fat_100g</th>\n",
       "      <th>saturated-fat_100g</th>\n",
       "      <th>trans-fat_100g</th>\n",
       "      <th>cholesterol_100g</th>\n",
       "      <th>carbohydrates_100g</th>\n",
       "      <th>sugars_100g</th>\n",
       "      <th>fiber_100g</th>\n",
       "      <th>proteins_100g</th>\n",
       "      <th>salt_100g</th>\n",
       "      <th>sodium_100g</th>\n",
       "      <th>vitamin-a_100g</th>\n",
       "      <th>vitamin-c_100g</th>\n",
       "      <th>calcium_100g</th>\n",
       "      <th>iron_100g</th>\n",
       "    </tr>\n",
       "  </thead>\n",
       "  <tbody>\n",
       "    <tr>\n",
       "      <th>count</th>\n",
       "      <td>265619.000000</td>\n",
       "      <td>265619.000000</td>\n",
       "      <td>265619.000000</td>\n",
       "      <td>265619.000000</td>\n",
       "      <td>265619.000000</td>\n",
       "      <td>265619.000000</td>\n",
       "      <td>265619.000000</td>\n",
       "      <td>265619.000000</td>\n",
       "      <td>265619.000000</td>\n",
       "      <td>265619.000000</td>\n",
       "      <td>265619.000000</td>\n",
       "      <td>265619.000000</td>\n",
       "      <td>265619.000000</td>\n",
       "      <td>265619.000000</td>\n",
       "      <td>265619.000000</td>\n",
       "    </tr>\n",
       "    <tr>\n",
       "      <th>mean</th>\n",
       "      <td>0.000351</td>\n",
       "      <td>0.017080</td>\n",
       "      <td>0.008570</td>\n",
       "      <td>0.000107</td>\n",
       "      <td>0.000114</td>\n",
       "      <td>0.010693</td>\n",
       "      <td>0.004342</td>\n",
       "      <td>0.000472</td>\n",
       "      <td>0.008819</td>\n",
       "      <td>0.000031</td>\n",
       "      <td>0.000031</td>\n",
       "      <td>0.000008</td>\n",
       "      <td>0.000017</td>\n",
       "      <td>0.000119</td>\n",
       "      <td>0.000049</td>\n",
       "    </tr>\n",
       "    <tr>\n",
       "      <th>std</th>\n",
       "      <td>0.001966</td>\n",
       "      <td>0.023901</td>\n",
       "      <td>0.013785</td>\n",
       "      <td>0.003067</td>\n",
       "      <td>0.002771</td>\n",
       "      <td>0.009868</td>\n",
       "      <td>0.006159</td>\n",
       "      <td>0.002085</td>\n",
       "      <td>0.010452</td>\n",
       "      <td>0.001956</td>\n",
       "      <td>0.001956</td>\n",
       "      <td>0.001975</td>\n",
       "      <td>0.002272</td>\n",
       "      <td>0.003481</td>\n",
       "      <td>0.003144</td>\n",
       "    </tr>\n",
       "    <tr>\n",
       "      <th>min</th>\n",
       "      <td>0.000000</td>\n",
       "      <td>0.000000</td>\n",
       "      <td>0.000000</td>\n",
       "      <td>-0.009675</td>\n",
       "      <td>0.000000</td>\n",
       "      <td>0.000000</td>\n",
       "      <td>-0.005074</td>\n",
       "      <td>-0.001245</td>\n",
       "      <td>-1.000000</td>\n",
       "      <td>0.000000</td>\n",
       "      <td>0.000000</td>\n",
       "      <td>-0.000013</td>\n",
       "      <td>-0.000003</td>\n",
       "      <td>0.000000</td>\n",
       "      <td>-0.000005</td>\n",
       "    </tr>\n",
       "    <tr>\n",
       "      <th>25%</th>\n",
       "      <td>0.000117</td>\n",
       "      <td>0.000140</td>\n",
       "      <td>0.000000</td>\n",
       "      <td>0.000000</td>\n",
       "      <td>0.000000</td>\n",
       "      <td>0.002287</td>\n",
       "      <td>0.000457</td>\n",
       "      <td>0.000000</td>\n",
       "      <td>0.000875</td>\n",
       "      <td>0.000001</td>\n",
       "      <td>0.000001</td>\n",
       "      <td>0.000000</td>\n",
       "      <td>0.000000</td>\n",
       "      <td>0.000045</td>\n",
       "      <td>0.000018</td>\n",
       "    </tr>\n",
       "    <tr>\n",
       "      <th>50%</th>\n",
       "      <td>0.000338</td>\n",
       "      <td>0.007000</td>\n",
       "      <td>0.003255</td>\n",
       "      <td>0.000000</td>\n",
       "      <td>0.000000</td>\n",
       "      <td>0.006998</td>\n",
       "      <td>0.001619</td>\n",
       "      <td>0.000279</td>\n",
       "      <td>0.005950</td>\n",
       "      <td>0.000009</td>\n",
       "      <td>0.000009</td>\n",
       "      <td>0.000000</td>\n",
       "      <td>0.000000</td>\n",
       "      <td>0.000050</td>\n",
       "      <td>0.000020</td>\n",
       "    </tr>\n",
       "    <tr>\n",
       "      <th>75%</th>\n",
       "      <td>0.000515</td>\n",
       "      <td>0.026250</td>\n",
       "      <td>0.011527</td>\n",
       "      <td>0.000000</td>\n",
       "      <td>0.000000</td>\n",
       "      <td>0.019349</td>\n",
       "      <td>0.006165</td>\n",
       "      <td>0.000558</td>\n",
       "      <td>0.012500</td>\n",
       "      <td>0.000021</td>\n",
       "      <td>0.000021</td>\n",
       "      <td>0.000000</td>\n",
       "      <td>0.000000</td>\n",
       "      <td>0.000062</td>\n",
       "      <td>0.000023</td>\n",
       "    </tr>\n",
       "    <tr>\n",
       "      <th>max</th>\n",
       "      <td>1.000000</td>\n",
       "      <td>1.000000</td>\n",
       "      <td>1.000000</td>\n",
       "      <td>1.000000</td>\n",
       "      <td>1.000000</td>\n",
       "      <td>1.000000</td>\n",
       "      <td>1.000000</td>\n",
       "      <td>1.000000</td>\n",
       "      <td>0.537500</td>\n",
       "      <td>1.000000</td>\n",
       "      <td>1.000000</td>\n",
       "      <td>1.000000</td>\n",
       "      <td>1.000000</td>\n",
       "      <td>1.000000</td>\n",
       "      <td>1.000000</td>\n",
       "    </tr>\n",
       "  </tbody>\n",
       "</table>\n",
       "</div>"
      ],
      "text/plain": [
       "         energy_100g       fat_100g  saturated-fat_100g  trans-fat_100g  \\\n",
       "count  265619.000000  265619.000000       265619.000000   265619.000000   \n",
       "mean        0.000351       0.017080            0.008570        0.000107   \n",
       "std         0.001966       0.023901            0.013785        0.003067   \n",
       "min         0.000000       0.000000            0.000000       -0.009675   \n",
       "25%         0.000117       0.000140            0.000000        0.000000   \n",
       "50%         0.000338       0.007000            0.003255        0.000000   \n",
       "75%         0.000515       0.026250            0.011527        0.000000   \n",
       "max         1.000000       1.000000            1.000000        1.000000   \n",
       "\n",
       "       cholesterol_100g  carbohydrates_100g    sugars_100g     fiber_100g  \\\n",
       "count     265619.000000       265619.000000  265619.000000  265619.000000   \n",
       "mean           0.000114            0.010693       0.004342       0.000472   \n",
       "std            0.002771            0.009868       0.006159       0.002085   \n",
       "min            0.000000            0.000000      -0.005074      -0.001245   \n",
       "25%            0.000000            0.002287       0.000457       0.000000   \n",
       "50%            0.000000            0.006998       0.001619       0.000279   \n",
       "75%            0.000000            0.019349       0.006165       0.000558   \n",
       "max            1.000000            1.000000       1.000000       1.000000   \n",
       "\n",
       "       proteins_100g      salt_100g    sodium_100g  vitamin-a_100g  \\\n",
       "count  265619.000000  265619.000000  265619.000000   265619.000000   \n",
       "mean        0.008819       0.000031       0.000031        0.000008   \n",
       "std         0.010452       0.001956       0.001956        0.001975   \n",
       "min        -1.000000       0.000000       0.000000       -0.000013   \n",
       "25%         0.000875       0.000001       0.000001        0.000000   \n",
       "50%         0.005950       0.000009       0.000009        0.000000   \n",
       "75%         0.012500       0.000021       0.000021        0.000000   \n",
       "max         0.537500       1.000000       1.000000        1.000000   \n",
       "\n",
       "       vitamin-c_100g   calcium_100g      iron_100g  \n",
       "count   265619.000000  265619.000000  265619.000000  \n",
       "mean         0.000017       0.000119       0.000049  \n",
       "std          0.002272       0.003481       0.003144  \n",
       "min         -0.000003       0.000000      -0.000005  \n",
       "25%          0.000000       0.000045       0.000018  \n",
       "50%          0.000000       0.000050       0.000020  \n",
       "75%          0.000000       0.000062       0.000023  \n",
       "max          1.000000       1.000000       1.000000  "
      ]
     },
     "execution_count": 19,
     "metadata": {},
     "output_type": "execute_result"
    }
   ],
   "source": [
    "maxabs_data.describe()"
   ]
  },
  {
   "cell_type": "code",
   "execution_count": 20,
   "metadata": {
    "collapsed": true
   },
   "outputs": [],
   "source": [
    "# Clustering with Kmeans\n",
    "k_means = KMeans(n_clusters=8).fit(maxabs_data)"
   ]
  },
  {
   "cell_type": "code",
   "execution_count": 21,
   "metadata": {
    "collapsed": false
   },
   "outputs": [],
   "source": [
    "centers = k_means.cluster_centers_"
   ]
  },
  {
   "cell_type": "code",
   "execution_count": 22,
   "metadata": {
    "collapsed": false
   },
   "outputs": [
    {
     "name": "stdout",
     "output_type": "stream",
     "text": [
      "[  1.31031559e-04   3.44570101e-03   2.31460649e-03   4.91840392e-05\n",
      "   2.63860312e-05   4.49239290e-03   2.31339075e-03   2.91491689e-04\n",
      "   3.18472818e-03   3.45257972e-05   3.45288206e-05   5.28392564e-06\n",
      "   1.88821216e-05   6.85667502e-05   3.19206128e-05]\n",
      "[  5.13805406e-04   2.91262613e-02   1.30871456e-02   2.85371457e-04\n",
      "   1.60014188e-04   1.58404620e-02   5.89109279e-03   5.39954858e-04\n",
      "   8.21710062e-03   1.91410603e-05   1.91413503e-05   2.28990251e-06\n",
      "   4.52031993e-06   8.03637589e-05   5.22063140e-05]\n",
      "[  1.01184578e-03   1.24643361e-01   2.16206085e-02   3.84272389e-04\n",
      "   7.37643680e-05   8.72392590e-04   9.95388693e-04   3.19922305e-04\n",
      "   1.52077983e-03   6.80807790e-06   6.80803962e-06   1.51491595e-06\n",
      "   1.65845359e-07   4.99832707e-05   2.36795753e-05]\n",
      "[  4.32928418e-04   3.77822221e-03   1.72703815e-03   6.23824377e-05\n",
      "   1.73802228e-05   2.51890966e-02   9.44724683e-03   6.28993613e-04\n",
      "   6.96221841e-03   4.20117171e-05   4.20122007e-05   3.26644621e-06\n",
      "   4.43721892e-05   1.22987107e-04   8.25317241e-05]\n",
      "[  7.05505070e-04   6.59195809e-02   1.33949235e-02   2.21193583e-04\n",
      "   9.93690061e-05   6.71767074e-03   1.82436842e-03   1.05456993e-03\n",
      "   2.05578183e-02   2.20188457e-05   2.20204486e-05   9.16964663e-05\n",
      "   3.45789793e-06   1.30465375e-04   7.89140404e-05]\n",
      "[  1.01269403e-03   1.10556918e-01   1.09382076e-01   2.01712705e-04\n",
      "   6.18072367e-04   1.64156635e-03   1.78825248e-03   1.15531976e-03\n",
      "   2.40870703e-03   1.26122071e-05   1.26104507e-05   1.28942241e-05\n",
      "   5.98340047e-08   4.79372938e-05   2.04677130e-05]\n",
      "[  3.31166852e-04   1.14572423e-02   6.35620249e-03   3.79842737e-05\n",
      "   3.18457805e-04   4.98180334e-03   1.04307666e-03   5.43858506e-04\n",
      "   2.53445097e-02   3.07927572e-05   3.07933439e-05   2.33750523e-06\n",
      "   6.24986010e-06   1.54865550e-04   6.23874255e-05]\n",
      "[  5.77102542e-04   4.36539171e-02   3.56360907e-02   1.04500448e-04\n",
      "   3.81876930e-04   9.72737899e-03   5.84380971e-03   4.52821555e-04\n",
      "   1.59687250e-02   2.15811223e-05   2.15816457e-05   3.49311364e-06\n",
      "   7.75754355e-07   3.90308940e-04   2.63765308e-05]\n"
     ]
    }
   ],
   "source": [
    "for c in centers:\n",
    "    print(c)"
   ]
  },
  {
   "cell_type": "code",
   "execution_count": 23,
   "metadata": {
    "collapsed": false
   },
   "outputs": [],
   "source": [
    "from sklearn.decomposition import PCA"
   ]
  },
  {
   "cell_type": "code",
   "execution_count": 24,
   "metadata": {
    "collapsed": true
   },
   "outputs": [],
   "source": [
    "pca = PCA(n_components=2)"
   ]
  },
  {
   "cell_type": "code",
   "execution_count": 25,
   "metadata": {
    "collapsed": false
   },
   "outputs": [],
   "source": [
    "reduced_data = PCA(n_components=2).fit_transform(maxabs_data)"
   ]
  },
  {
   "cell_type": "code",
   "execution_count": 26,
   "metadata": {
    "collapsed": true
   },
   "outputs": [],
   "source": [
    "k_pca = KMeans(n_clusters=8).fit(reduced_data)"
   ]
  },
  {
   "cell_type": "code",
   "execution_count": 27,
   "metadata": {
    "collapsed": false
   },
   "outputs": [
    {
     "data": {
      "text/plain": [
       "KMeans(algorithm='auto', copy_x=True, init='k-means++', max_iter=300,\n",
       "    n_clusters=8, n_init=10, n_jobs=1, precompute_distances='auto',\n",
       "    random_state=None, tol=0.0001, verbose=0)"
      ]
     },
     "execution_count": 27,
     "metadata": {},
     "output_type": "execute_result"
    }
   ],
   "source": [
    "k_pca"
   ]
  },
  {
   "cell_type": "code",
   "execution_count": 28,
   "metadata": {
    "collapsed": true
   },
   "outputs": [],
   "source": [
    "# Step size of the mesh. Decrease to increase the quality of the VQ.\n",
    "h = .02     # point in the mesh [x_min, x_max]x[y_min, y_max].\n",
    "\n",
    "# Plot the decision boundary. For that, we will assign a color to each\n",
    "x_min, x_max = reduced_data[:, 0].min() - 1, reduced_data[:, 0].max() + 1\n",
    "y_min, y_max = reduced_data[:, 1].min() - 1, reduced_data[:, 1].max() + 1\n",
    "xx, yy = np.meshgrid(np.arange(x_min, x_max, h), np.arange(y_min, y_max, h))"
   ]
  },
  {
   "cell_type": "code",
   "execution_count": 29,
   "metadata": {
    "collapsed": false
   },
   "outputs": [],
   "source": [
    "# Obtain labels for each point in mesh. Use last trained model.\n",
    "Z = k_pca.predict(np.c_[xx.ravel(), yy.ravel()])"
   ]
  },
  {
   "cell_type": "code",
   "execution_count": 30,
   "metadata": {
    "collapsed": false
   },
   "outputs": [
    {
     "data": {
      "text/plain": [
       "<matplotlib.image.AxesImage at 0x102f839e8>"
      ]
     },
     "execution_count": 30,
     "metadata": {},
     "output_type": "execute_result"
    }
   ],
   "source": [
    "# Put the result into a color plot\n",
    "Z = Z.reshape(xx.shape)\n",
    "plt.figure(1)\n",
    "plt.clf()\n",
    "plt.imshow(Z, interpolation='nearest',\n",
    "           extent=(xx.min(), xx.max(), yy.min(), yy.max()),\n",
    "           cmap=plt.cm.Paired,\n",
    "           aspect='auto', origin='lower')"
   ]
  },
  {
   "cell_type": "code",
   "execution_count": 31,
   "metadata": {
    "collapsed": false
   },
   "outputs": [
    {
     "data": {
      "text/plain": [
       "<matplotlib.text.Text at 0x102f667b8>"
      ]
     },
     "execution_count": 31,
     "metadata": {},
     "output_type": "execute_result"
    }
   ],
   "source": [
    "plt.plot(reduced_data[:, 0], reduced_data[:, 1], 'k.', markersize=2)\n",
    "# Plot the centroids as a white X\n",
    "centroids = k_pca.cluster_centers_\n",
    "plt.scatter(centroids[:, 0], centroids[:, 1],\n",
    "            marker='x', s=169, linewidths=3,\n",
    "            color='w', zorder=10)\n",
    "plt.title('K-means clustering on the digits dataset (PCA-reduced data)\\n'\n",
    "          'Centroids are marked with white cross')"
   ]
  },
  {
   "cell_type": "code",
   "execution_count": 32,
   "metadata": {
    "collapsed": false
   },
   "outputs": [
    {
     "data": {
      "text/plain": [
       "([], <a list of 0 Text yticklabel objects>)"
      ]
     },
     "execution_count": 32,
     "metadata": {},
     "output_type": "execute_result"
    }
   ],
   "source": [
    "plt.xlim(x_min, x_max)\n",
    "plt.ylim(y_min, y_max)\n",
    "plt.xticks(())\n",
    "plt.yticks(())"
   ]
  },
  {
   "cell_type": "code",
   "execution_count": 33,
   "metadata": {
    "collapsed": false
   },
   "outputs": [
    {
     "ename": "UnicodeDecodeError",
     "evalue": "'utf-8' codec can't decode byte 0xff in position 0: invalid start byte",
     "output_type": "error",
     "traceback": [
      "\u001b[0;31m---------------------------------------------------------------------------\u001b[0m",
      "\u001b[0;31mUnicodeDecodeError\u001b[0m                        Traceback (most recent call last)",
      "\u001b[0;32m<ipython-input-33-c4e69632d98a>\u001b[0m in \u001b[0;36m<module>\u001b[0;34m()\u001b[0m\n\u001b[0;32m----> 1\u001b[0;31m \u001b[0mplt\u001b[0m\u001b[0;34m.\u001b[0m\u001b[0mshow\u001b[0m\u001b[0;34m(\u001b[0m\u001b[0;34m)\u001b[0m\u001b[0;34m\u001b[0m\u001b[0m\n\u001b[0m",
      "\u001b[0;32m/Users/richardbanyi/Developer/Environments/Data/lib/python3.4/site-packages/matplotlib/pyplot.py\u001b[0m in \u001b[0;36mshow\u001b[0;34m(*args, **kw)\u001b[0m\n\u001b[1;32m    251\u001b[0m     \"\"\"\n\u001b[1;32m    252\u001b[0m     \u001b[0;32mglobal\u001b[0m \u001b[0m_show\u001b[0m\u001b[0;34m\u001b[0m\u001b[0m\n\u001b[0;32m--> 253\u001b[0;31m     \u001b[0;32mreturn\u001b[0m \u001b[0m_show\u001b[0m\u001b[0;34m(\u001b[0m\u001b[0;34m*\u001b[0m\u001b[0margs\u001b[0m\u001b[0;34m,\u001b[0m \u001b[0;34m**\u001b[0m\u001b[0mkw\u001b[0m\u001b[0;34m)\u001b[0m\u001b[0;34m\u001b[0m\u001b[0m\n\u001b[0m\u001b[1;32m    254\u001b[0m \u001b[0;34m\u001b[0m\u001b[0m\n\u001b[1;32m    255\u001b[0m \u001b[0;34m\u001b[0m\u001b[0m\n",
      "\u001b[0;32m/Users/richardbanyi/Developer/Environments/Data/lib/python3.4/site-packages/matplotlib/backend_bases.py\u001b[0m in \u001b[0;36m__call__\u001b[0;34m(self, block)\u001b[0m\n\u001b[1;32m    191\u001b[0m \u001b[0;34m\u001b[0m\u001b[0m\n\u001b[1;32m    192\u001b[0m         \u001b[0;32mif\u001b[0m \u001b[0;32mnot\u001b[0m \u001b[0mis_interactive\u001b[0m\u001b[0;34m(\u001b[0m\u001b[0;34m)\u001b[0m \u001b[0;32mor\u001b[0m \u001b[0mget_backend\u001b[0m\u001b[0;34m(\u001b[0m\u001b[0;34m)\u001b[0m \u001b[0;34m==\u001b[0m \u001b[0;34m'WebAgg'\u001b[0m\u001b[0;34m:\u001b[0m\u001b[0;34m\u001b[0m\u001b[0m\n\u001b[0;32m--> 193\u001b[0;31m             \u001b[0mself\u001b[0m\u001b[0;34m.\u001b[0m\u001b[0mmainloop\u001b[0m\u001b[0;34m(\u001b[0m\u001b[0;34m)\u001b[0m\u001b[0;34m\u001b[0m\u001b[0m\n\u001b[0m\u001b[1;32m    194\u001b[0m \u001b[0;34m\u001b[0m\u001b[0m\n\u001b[1;32m    195\u001b[0m     \u001b[0;32mdef\u001b[0m \u001b[0mmainloop\u001b[0m\u001b[0;34m(\u001b[0m\u001b[0mself\u001b[0m\u001b[0;34m)\u001b[0m\u001b[0;34m:\u001b[0m\u001b[0;34m\u001b[0m\u001b[0m\n",
      "\u001b[0;32m/Users/richardbanyi/Developer/Environments/Data/lib/python3.4/site-packages/matplotlib/backends/backend_tkagg.py\u001b[0m in \u001b[0;36mmainloop\u001b[0;34m(self)\u001b[0m\n\u001b[1;32m     69\u001b[0m \u001b[0;32mclass\u001b[0m \u001b[0mShow\u001b[0m\u001b[0;34m(\u001b[0m\u001b[0mShowBase\u001b[0m\u001b[0;34m)\u001b[0m\u001b[0;34m:\u001b[0m\u001b[0;34m\u001b[0m\u001b[0m\n\u001b[1;32m     70\u001b[0m     \u001b[0;32mdef\u001b[0m \u001b[0mmainloop\u001b[0m\u001b[0;34m(\u001b[0m\u001b[0mself\u001b[0m\u001b[0;34m)\u001b[0m\u001b[0;34m:\u001b[0m\u001b[0;34m\u001b[0m\u001b[0m\n\u001b[0;32m---> 71\u001b[0;31m         \u001b[0mTk\u001b[0m\u001b[0;34m.\u001b[0m\u001b[0mmainloop\u001b[0m\u001b[0;34m(\u001b[0m\u001b[0;34m)\u001b[0m\u001b[0;34m\u001b[0m\u001b[0m\n\u001b[0m\u001b[1;32m     72\u001b[0m \u001b[0;34m\u001b[0m\u001b[0m\n\u001b[1;32m     73\u001b[0m \u001b[0mshow\u001b[0m \u001b[0;34m=\u001b[0m \u001b[0mShow\u001b[0m\u001b[0;34m(\u001b[0m\u001b[0;34m)\u001b[0m\u001b[0;34m\u001b[0m\u001b[0m\n",
      "\u001b[0;32m/Library/Frameworks/Python.framework/Versions/3.4/lib/python3.4/tkinter/__init__.py\u001b[0m in \u001b[0;36mmainloop\u001b[0;34m(n)\u001b[0m\n\u001b[1;32m    401\u001b[0m \u001b[0;32mdef\u001b[0m \u001b[0mmainloop\u001b[0m\u001b[0;34m(\u001b[0m\u001b[0mn\u001b[0m\u001b[0;34m=\u001b[0m\u001b[0;36m0\u001b[0m\u001b[0;34m)\u001b[0m\u001b[0;34m:\u001b[0m\u001b[0;34m\u001b[0m\u001b[0m\n\u001b[1;32m    402\u001b[0m     \u001b[0;34m\"\"\"Run the main loop of Tcl.\"\"\"\u001b[0m\u001b[0;34m\u001b[0m\u001b[0m\n\u001b[0;32m--> 403\u001b[0;31m     \u001b[0m_default_root\u001b[0m\u001b[0;34m.\u001b[0m\u001b[0mtk\u001b[0m\u001b[0;34m.\u001b[0m\u001b[0mmainloop\u001b[0m\u001b[0;34m(\u001b[0m\u001b[0mn\u001b[0m\u001b[0;34m)\u001b[0m\u001b[0;34m\u001b[0m\u001b[0m\n\u001b[0m\u001b[1;32m    404\u001b[0m \u001b[0;34m\u001b[0m\u001b[0m\n\u001b[1;32m    405\u001b[0m \u001b[0mgetint\u001b[0m \u001b[0;34m=\u001b[0m \u001b[0mint\u001b[0m\u001b[0;34m\u001b[0m\u001b[0m\n",
      "\u001b[0;31mUnicodeDecodeError\u001b[0m: 'utf-8' codec can't decode byte 0xff in position 0: invalid start byte"
     ]
    }
   ],
   "source": [
    "plt.show()"
   ]
  },
  {
   "cell_type": "code",
   "execution_count": null,
   "metadata": {
    "collapsed": true
   },
   "outputs": [],
   "source": []
  }
 ],
 "metadata": {
  "kernelspec": {
   "display_name": "Python 3",
   "language": "python",
   "name": "python3"
  },
  "language_info": {
   "codemirror_mode": {
    "name": "ipython",
    "version": 3
   },
   "file_extension": ".py",
   "mimetype": "text/x-python",
   "name": "python",
   "nbconvert_exporter": "python",
   "pygments_lexer": "ipython3",
   "version": "3.4.3"
  }
 },
 "nbformat": 4,
 "nbformat_minor": 0
}

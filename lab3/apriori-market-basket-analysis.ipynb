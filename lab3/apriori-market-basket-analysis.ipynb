{
 "cells": [
  {
   "cell_type": "code",
   "execution_count": 3,
   "metadata": {
    "collapsed": true
   },
   "outputs": [],
   "source": [
    "import scipy\n",
    "import numpy as np"
   ]
  },
  {
   "cell_type": "code",
   "execution_count": 4,
   "metadata": {
    "collapsed": true
   },
   "outputs": [],
   "source": [
    "TRANSACTIONS = [[1, 2, 3, 4, 5], [1, 3, 5], [2, 3, 5], [1, 5], [1, 3, 4], [2, 3, 5], [2, 3, 5],\n",
    "                    [3, 4, 5], [4, 5], [2], [2, 3], [2, 3, 4], [3, 4, 5]]"
   ]
  },
  {
   "cell_type": "code",
   "execution_count": 5,
   "metadata": {
    "collapsed": true
   },
   "outputs": [],
   "source": [
    "def load_dataset():\n",
    "    \"\"\"Load the sample data.\"\"\"\n",
    "    return TRANSACTIONS"
   ]
  },
  {
   "cell_type": "code",
   "execution_count": 6,
   "metadata": {
    "collapsed": true
   },
   "outputs": [],
   "source": [
    "def createC1(dataset):\n",
    "    \"\"\"Create the first l-itemset C1 of size one.\"\"\"\n",
    "    c1 = []\n",
    "    for t in dataset:\n",
    "        for i in t:\n",
    "            if not [i] in c1:\n",
    "                c1.append([i])\n",
    "    c1.sort()\n",
    "    return map(frozenset, c1)"
   ]
  },
  {
   "cell_type": "code",
   "execution_count": 7,
   "metadata": {
    "collapsed": true
   },
   "outputs": [],
   "source": [
    "def scanD(dataset, candidates, min_sup):\n",
    "    \"\"\"Return candidates l-itemsets satisfying minimum support.\"\"\"\n",
    "    csc = {}\n",
    "    for t in dataset:\n",
    "        for c in candidates:\n",
    "            if c.issubset(t):\n",
    "                csc.setdefault(c, 0)\n",
    "                csc[c] += 1\n",
    "    \n",
    "    items_len = float(len(dataset))\n",
    "    freq = []\n",
    "    support_data = {}\n",
    "    for key in csc:\n",
    "        can_support = csc[key] / items_len\n",
    "        if can_support >= min_sup:\n",
    "            freq.insert(0, key)\n",
    "        support_data[key] = can_support\n",
    "    return freq, support_data"
   ]
  },
  {
   "cell_type": "code",
   "execution_count": 8,
   "metadata": {
    "collapsed": true
   },
   "outputs": [],
   "source": [
    "dataset = load_dataset()"
   ]
  },
  {
   "cell_type": "code",
   "execution_count": 9,
   "metadata": {
    "collapsed": false
   },
   "outputs": [],
   "source": [
    "can = createC1(dataset)"
   ]
  },
  {
   "cell_type": "code",
   "execution_count": 10,
   "metadata": {
    "collapsed": false
   },
   "outputs": [
    {
     "data": {
      "text/plain": [
       "<map at 0x1043e4748>"
      ]
     },
     "execution_count": 10,
     "metadata": {},
     "output_type": "execute_result"
    }
   ],
   "source": [
    "can"
   ]
  },
  {
   "cell_type": "code",
   "execution_count": 11,
   "metadata": {
    "collapsed": false
   },
   "outputs": [],
   "source": [
    "items, support = scanD(dataset, list(can), 0.5)"
   ]
  },
  {
   "cell_type": "code",
   "execution_count": 12,
   "metadata": {
    "collapsed": false
   },
   "outputs": [
    {
     "data": {
      "text/plain": [
       "[frozenset({3}), frozenset({2}), frozenset({5})]"
      ]
     },
     "execution_count": 12,
     "metadata": {},
     "output_type": "execute_result"
    }
   ],
   "source": [
    "items"
   ]
  },
  {
   "cell_type": "code",
   "execution_count": 13,
   "metadata": {
    "collapsed": true
   },
   "outputs": [],
   "source": [
    "def joinSet(itemSet, length):\n",
    "    \"\"\"Join a set with itself.\"\"\"\n",
    "    return set([i.union(j) for i in itemSet for j in itemSet if len(i.union(j)) == length])\n",
    "    "
   ]
  },
  {
   "cell_type": "code",
   "execution_count": 14,
   "metadata": {
    "collapsed": false
   },
   "outputs": [],
   "source": [
    "l2 = joinSet(can, 2)"
   ]
  },
  {
   "cell_type": "code",
   "execution_count": 15,
   "metadata": {
    "collapsed": false
   },
   "outputs": [],
   "source": [
    "def apriori(dataset, min_sup=0.2):\n",
    "    \"\"\"Generation of frequent itemsets\"\"\"\n",
    "    C1 = list(createC1(dataset))\n",
    "    D = list(map(set, dataset))\n",
    "    L1, support_data = scanD(D, C1, min_sup)\n",
    "    L = [L1]\n",
    "    k = 2\n",
    "    while(len(L[k-2]) > 0):\n",
    "        candidates = joinSet(L[k-2], k)\n",
    "        Lk, suppK = scanD(D, candidates, min_sup)\n",
    "        support_data.update(suppK)\n",
    "        L.append(Lk)\n",
    "        k += 1\n",
    "    \n",
    "    return L, support_data\n",
    "        "
   ]
  },
  {
   "cell_type": "code",
   "execution_count": 16,
   "metadata": {
    "collapsed": false,
    "scrolled": true
   },
   "outputs": [],
   "source": [
    "L, support = apriori(dataset)"
   ]
  },
  {
   "cell_type": "code",
   "execution_count": null,
   "metadata": {
    "collapsed": true
   },
   "outputs": [],
   "source": [
    "support"
   ]
  },
  {
   "cell_type": "code",
   "execution_count": 21,
   "metadata": {
    "collapsed": false
   },
   "outputs": [],
   "source": [
    "def generateRules(L, support_data, min_conf=0.7):\n",
    "    \"\"\"Generate the association rules.\"\"\"\n",
    "    rules = []\n",
    "    for i in range(1, len(L)):\n",
    "        for itemset in L[i]:\n",
    "            H1 = [frozenset([item]) for item in itemset]\n",
    "            print(\"FrequentSet \" + str(itemset) + \"H1 \" + str(H1) + str(i))\n",
    "            if(i > 1):\n",
    "                rules(itemset, H1, support_data, rules, min_conf)\n",
    "            else:\n",
    "                confidence(itemset, H1, support_data, rules, min_conf)\n",
    "    return rules"
   ]
  },
  {
   "cell_type": "code",
   "execution_count": 22,
   "metadata": {
    "collapsed": true
   },
   "outputs": [],
   "source": [
    "def confidence(itemset, H, support_data, rules, min_conf=0.7):\n",
    "    \"\"\"Evaluate the rule generated\"\"\"\n",
    "    prunedSet = []\n",
    "    for h in H:\n",
    "        conf = support_data[itemset] / support_data[itemset - h]\n",
    "        if conf >= min_conf:\n",
    "            print(str(itemset-h) + \"------>\" + str(h) + \" confidence: \" + str(conf))\n",
    "            rules.append((itemset-h, h, conf))\n",
    "            prunedSet.append(h)\n",
    "    return prunedSet"
   ]
  },
  {
   "cell_type": "code",
   "execution_count": 23,
   "metadata": {
    "collapsed": true
   },
   "outputs": [],
   "source": [
    "def rules(itemset, H, support_data, rules, min_conf=0.7):\n",
    "    \"\"\"Generate a set of candidate rules.\"\"\"\n",
    "    import pdb; pdb.set_trace()\n",
    "    m = len(H[0])\n",
    "    if(len(itemset) > (m+1)):\n",
    "        hmp = joinSet(H, m+1)\n",
    "        hmp = confidence(itemset, hmp, support_data, rules, min_conf)\n",
    "        if len(hmp) > 1:\n",
    "            rules(itemset, hmp, support_data, rules, min_conf)"
   ]
  },
  {
   "cell_type": "code",
   "execution_count": 24,
   "metadata": {
    "collapsed": false
   },
   "outputs": [
    {
     "name": "stdout",
     "output_type": "stream",
     "text": [
      "FrequentSet frozenset({4, 5})H1 [frozenset({4}), frozenset({5})]1\n",
      "FrequentSet frozenset({3, 5})H1 [frozenset({3}), frozenset({5})]1\n",
      "frozenset({5})------>frozenset({3}) confidence: 0.7777777777777778\n",
      "frozenset({3})------>frozenset({5}) confidence: 0.7\n",
      "FrequentSet frozenset({1, 5})H1 [frozenset({1}), frozenset({5})]1\n",
      "frozenset({1})------>frozenset({5}) confidence: 0.75\n",
      "FrequentSet frozenset({1, 3})H1 [frozenset({1}), frozenset({3})]1\n",
      "frozenset({1})------>frozenset({3}) confidence: 0.75\n",
      "FrequentSet frozenset({2, 5})H1 [frozenset({2}), frozenset({5})]1\n",
      "FrequentSet frozenset({2, 3})H1 [frozenset({2}), frozenset({3})]1\n",
      "frozenset({2})------>frozenset({3}) confidence: 0.8571428571428572\n",
      "FrequentSet frozenset({3, 4})H1 [frozenset({3}), frozenset({4})]1\n",
      "frozenset({4})------>frozenset({3}) confidence: 0.8333333333333334\n",
      "FrequentSet frozenset({2, 3, 5})H1 [frozenset({2}), frozenset({3}), frozenset({5})]2\n"
     ]
    },
    {
     "ename": "TypeError",
     "evalue": "'list' object is not callable",
     "output_type": "error",
     "traceback": [
      "\u001b[0;31m---------------------------------------------------------------------------\u001b[0m",
      "\u001b[0;31mTypeError\u001b[0m                                 Traceback (most recent call last)",
      "\u001b[0;32m<ipython-input-24-06086c6b11da>\u001b[0m in \u001b[0;36m<module>\u001b[0;34m()\u001b[0m\n\u001b[0;32m----> 1\u001b[0;31m \u001b[0mgenerateRules\u001b[0m\u001b[0;34m(\u001b[0m\u001b[0mL\u001b[0m\u001b[0;34m,\u001b[0m \u001b[0msupport\u001b[0m\u001b[0;34m)\u001b[0m\u001b[0;34m\u001b[0m\u001b[0m\n\u001b[0m",
      "\u001b[0;32m<ipython-input-21-fc565b3dd975>\u001b[0m in \u001b[0;36mgenerateRules\u001b[0;34m(L, support_data, min_conf)\u001b[0m\n\u001b[1;32m      7\u001b[0m             \u001b[0mprint\u001b[0m\u001b[0;34m(\u001b[0m\u001b[0;34m\"FrequentSet \"\u001b[0m \u001b[0;34m+\u001b[0m \u001b[0mstr\u001b[0m\u001b[0;34m(\u001b[0m\u001b[0mitemset\u001b[0m\u001b[0;34m)\u001b[0m \u001b[0;34m+\u001b[0m \u001b[0;34m\"H1 \"\u001b[0m \u001b[0;34m+\u001b[0m \u001b[0mstr\u001b[0m\u001b[0;34m(\u001b[0m\u001b[0mH1\u001b[0m\u001b[0;34m)\u001b[0m \u001b[0;34m+\u001b[0m \u001b[0mstr\u001b[0m\u001b[0;34m(\u001b[0m\u001b[0mi\u001b[0m\u001b[0;34m)\u001b[0m\u001b[0;34m)\u001b[0m\u001b[0;34m\u001b[0m\u001b[0m\n\u001b[1;32m      8\u001b[0m             \u001b[0;32mif\u001b[0m\u001b[0;34m(\u001b[0m\u001b[0mi\u001b[0m \u001b[0;34m>\u001b[0m \u001b[0;36m1\u001b[0m\u001b[0;34m)\u001b[0m\u001b[0;34m:\u001b[0m\u001b[0;34m\u001b[0m\u001b[0m\n\u001b[0;32m----> 9\u001b[0;31m                 \u001b[0mrules\u001b[0m\u001b[0;34m(\u001b[0m\u001b[0mitemset\u001b[0m\u001b[0;34m,\u001b[0m \u001b[0mH1\u001b[0m\u001b[0;34m,\u001b[0m \u001b[0msupport_data\u001b[0m\u001b[0;34m,\u001b[0m \u001b[0mrules\u001b[0m\u001b[0;34m,\u001b[0m \u001b[0mmin_conf\u001b[0m\u001b[0;34m)\u001b[0m\u001b[0;34m\u001b[0m\u001b[0m\n\u001b[0m\u001b[1;32m     10\u001b[0m             \u001b[0;32melse\u001b[0m\u001b[0;34m:\u001b[0m\u001b[0;34m\u001b[0m\u001b[0m\n\u001b[1;32m     11\u001b[0m                 \u001b[0mconfidence\u001b[0m\u001b[0;34m(\u001b[0m\u001b[0mitemset\u001b[0m\u001b[0;34m,\u001b[0m \u001b[0mH1\u001b[0m\u001b[0;34m,\u001b[0m \u001b[0msupport_data\u001b[0m\u001b[0;34m,\u001b[0m \u001b[0mrules\u001b[0m\u001b[0;34m,\u001b[0m \u001b[0mmin_conf\u001b[0m\u001b[0;34m)\u001b[0m\u001b[0;34m\u001b[0m\u001b[0m\n",
      "\u001b[0;31mTypeError\u001b[0m: 'list' object is not callable"
     ]
    }
   ],
   "source": [
    "generateRules(L, support)"
   ]
  },
  {
   "cell_type": "code",
   "execution_count": null,
   "metadata": {
    "collapsed": true
   },
   "outputs": [],
   "source": []
  }
 ],
 "metadata": {
  "kernelspec": {
   "display_name": "Python 3",
   "language": "python",
   "name": "python3"
  },
  "language_info": {
   "codemirror_mode": {
    "name": "ipython",
    "version": 3
   },
   "file_extension": ".py",
   "mimetype": "text/x-python",
   "name": "python",
   "nbconvert_exporter": "python",
   "pygments_lexer": "ipython3",
   "version": "3.4.3"
  }
 },
 "nbformat": 4,
 "nbformat_minor": 0
}
